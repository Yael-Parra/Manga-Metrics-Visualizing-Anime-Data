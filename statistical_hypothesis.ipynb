{
 "cells": [
  {
   "cell_type": "markdown",
   "metadata": {},
   "source": [
    "# <span style=\"color:#33a2ff\" ><strong> Hypothesis Tests </strong></span>"
   ]
  },
  {
   "cell_type": "code",
   "execution_count": 19,
   "metadata": {},
   "outputs": [
    {
     "name": "stdout",
     "output_type": "stream",
     "text": [
      "Requirement already satisfied: matplotlib in c:\\users\\fernando\\appdata\\local\\programs\\python\\python313\\lib\\site-packages (3.10.1)\n",
      "Requirement already satisfied: contourpy>=1.0.1 in c:\\users\\fernando\\appdata\\local\\programs\\python\\python313\\lib\\site-packages (from matplotlib) (1.3.1)\n",
      "Requirement already satisfied: cycler>=0.10 in c:\\users\\fernando\\appdata\\local\\programs\\python\\python313\\lib\\site-packages (from matplotlib) (0.12.1)\n",
      "Requirement already satisfied: fonttools>=4.22.0 in c:\\users\\fernando\\appdata\\local\\programs\\python\\python313\\lib\\site-packages (from matplotlib) (4.56.0)\n",
      "Requirement already satisfied: kiwisolver>=1.3.1 in c:\\users\\fernando\\appdata\\local\\programs\\python\\python313\\lib\\site-packages (from matplotlib) (1.4.8)\n",
      "Requirement already satisfied: numpy>=1.23 in c:\\users\\fernando\\appdata\\local\\programs\\python\\python313\\lib\\site-packages (from matplotlib) (2.2.3)\n",
      "Requirement already satisfied: packaging>=20.0 in c:\\users\\fernando\\appdata\\local\\programs\\python\\python313\\lib\\site-packages (from matplotlib) (24.2)\n",
      "Requirement already satisfied: pillow>=8 in c:\\users\\fernando\\appdata\\local\\programs\\python\\python313\\lib\\site-packages (from matplotlib) (11.1.0)\n",
      "Requirement already satisfied: pyparsing>=2.3.1 in c:\\users\\fernando\\appdata\\local\\programs\\python\\python313\\lib\\site-packages (from matplotlib) (3.2.3)\n",
      "Requirement already satisfied: python-dateutil>=2.7 in c:\\users\\fernando\\appdata\\local\\programs\\python\\python313\\lib\\site-packages (from matplotlib) (2.9.0.post0)\n",
      "Requirement already satisfied: six>=1.5 in c:\\users\\fernando\\appdata\\local\\programs\\python\\python313\\lib\\site-packages (from python-dateutil>=2.7->matplotlib) (1.17.0)\n",
      "Requirement already satisfied: seaborn in c:\\users\\fernando\\appdata\\local\\programs\\python\\python313\\lib\\site-packages (0.13.2)\n",
      "Requirement already satisfied: numpy!=1.24.0,>=1.20 in c:\\users\\fernando\\appdata\\local\\programs\\python\\python313\\lib\\site-packages (from seaborn) (2.2.3)\n",
      "Requirement already satisfied: pandas>=1.2 in c:\\users\\fernando\\appdata\\local\\programs\\python\\python313\\lib\\site-packages (from seaborn) (2.2.3)\n",
      "Requirement already satisfied: matplotlib!=3.6.1,>=3.4 in c:\\users\\fernando\\appdata\\local\\programs\\python\\python313\\lib\\site-packages (from seaborn) (3.10.1)\n",
      "Requirement already satisfied: contourpy>=1.0.1 in c:\\users\\fernando\\appdata\\local\\programs\\python\\python313\\lib\\site-packages (from matplotlib!=3.6.1,>=3.4->seaborn) (1.3.1)\n",
      "Requirement already satisfied: cycler>=0.10 in c:\\users\\fernando\\appdata\\local\\programs\\python\\python313\\lib\\site-packages (from matplotlib!=3.6.1,>=3.4->seaborn) (0.12.1)\n",
      "Requirement already satisfied: fonttools>=4.22.0 in c:\\users\\fernando\\appdata\\local\\programs\\python\\python313\\lib\\site-packages (from matplotlib!=3.6.1,>=3.4->seaborn) (4.56.0)\n",
      "Requirement already satisfied: kiwisolver>=1.3.1 in c:\\users\\fernando\\appdata\\local\\programs\\python\\python313\\lib\\site-packages (from matplotlib!=3.6.1,>=3.4->seaborn) (1.4.8)\n",
      "Requirement already satisfied: packaging>=20.0 in c:\\users\\fernando\\appdata\\local\\programs\\python\\python313\\lib\\site-packages (from matplotlib!=3.6.1,>=3.4->seaborn) (24.2)\n",
      "Requirement already satisfied: pillow>=8 in c:\\users\\fernando\\appdata\\local\\programs\\python\\python313\\lib\\site-packages (from matplotlib!=3.6.1,>=3.4->seaborn) (11.1.0)\n",
      "Requirement already satisfied: pyparsing>=2.3.1 in c:\\users\\fernando\\appdata\\local\\programs\\python\\python313\\lib\\site-packages (from matplotlib!=3.6.1,>=3.4->seaborn) (3.2.3)\n",
      "Requirement already satisfied: python-dateutil>=2.7 in c:\\users\\fernando\\appdata\\local\\programs\\python\\python313\\lib\\site-packages (from matplotlib!=3.6.1,>=3.4->seaborn) (2.9.0.post0)\n",
      "Requirement already satisfied: pytz>=2020.1 in c:\\users\\fernando\\appdata\\local\\programs\\python\\python313\\lib\\site-packages (from pandas>=1.2->seaborn) (2025.1)\n",
      "Requirement already satisfied: tzdata>=2022.7 in c:\\users\\fernando\\appdata\\local\\programs\\python\\python313\\lib\\site-packages (from pandas>=1.2->seaborn) (2025.1)\n",
      "Requirement already satisfied: six>=1.5 in c:\\users\\fernando\\appdata\\local\\programs\\python\\python313\\lib\\site-packages (from python-dateutil>=2.7->matplotlib!=3.6.1,>=3.4->seaborn) (1.17.0)\n",
      "Requirement already satisfied: spicy in c:\\users\\fernando\\appdata\\local\\programs\\python\\python313\\lib\\site-packages (0.16.0)\n",
      "Requirement already satisfied: scipy in c:\\users\\fernando\\appdata\\local\\programs\\python\\python313\\lib\\site-packages (from spicy) (1.15.2)\n",
      "Requirement already satisfied: numpy<2.5,>=1.23.5 in c:\\users\\fernando\\appdata\\local\\programs\\python\\python313\\lib\\site-packages (from scipy->spicy) (2.2.3)\n",
      "Requirement already satisfied: squarify in c:\\users\\fernando\\appdata\\local\\programs\\python\\python313\\lib\\site-packages (0.4.4)\n"
     ]
    }
   ],
   "source": [
    "!pip install matplotlib\n",
    "!pip install seaborn\n",
    "!pip install spicy\n",
    "!pip install squarify\n",
    "import pandas as pd\n",
    "import numpy as np\n",
    "import matplotlib.pyplot as plt\n",
    "import seaborn as sns\n",
    "import scipy.stats as stats\n",
    "import squarify"
   ]
  },
  {
   "cell_type": "code",
   "execution_count": 20,
   "metadata": {},
   "outputs": [],
   "source": [
    "#configurar estilo de visualizaciones \n",
    "sns.set_style(\"whitegrid\")\n",
    "plt.rcParams['figure.figsize'] = (6, 4)\n",
    "%matplotlib inline"
   ]
  },
  {
   "cell_type": "code",
   "execution_count": 21,
   "metadata": {},
   "outputs": [
    {
     "data": {
      "application/vnd.microsoft.datawrangler.viewer.v0+json": {
       "columns": [
        {
         "name": "index",
         "rawType": "int64",
         "type": "integer"
        },
        {
         "name": "anime_id",
         "rawType": "int64",
         "type": "integer"
        },
        {
         "name": "anime_url",
         "rawType": "object",
         "type": "string"
        },
        {
         "name": "image_url",
         "rawType": "object",
         "type": "string"
        },
        {
         "name": "name",
         "rawType": "object",
         "type": "string"
        },
        {
         "name": "english_name",
         "rawType": "object",
         "type": "string"
        },
        {
         "name": "japanese_names",
         "rawType": "object",
         "type": "string"
        },
        {
         "name": "score",
         "rawType": "float64",
         "type": "float"
        },
        {
         "name": "genres",
         "rawType": "object",
         "type": "string"
        },
        {
         "name": "themes",
         "rawType": "object",
         "type": "string"
        },
        {
         "name": "synopsis",
         "rawType": "object",
         "type": "string"
        },
        {
         "name": "type",
         "rawType": "object",
         "type": "string"
        },
        {
         "name": "episodes",
         "rawType": "float64",
         "type": "float"
        },
        {
         "name": "producers",
         "rawType": "object",
         "type": "string"
        },
        {
         "name": "studios",
         "rawType": "object",
         "type": "string"
        },
        {
         "name": "source",
         "rawType": "object",
         "type": "string"
        },
        {
         "name": "rating",
         "rawType": "object",
         "type": "string"
        },
        {
         "name": "rank",
         "rawType": "float64",
         "type": "float"
        },
        {
         "name": "popularity",
         "rawType": "int64",
         "type": "integer"
        },
        {
         "name": "favorites",
         "rawType": "int64",
         "type": "integer"
        },
        {
         "name": "scored_by",
         "rawType": "int64",
         "type": "integer"
        },
        {
         "name": "members",
         "rawType": "int64",
         "type": "integer"
        },
        {
         "name": "premiered_season",
         "rawType": "object",
         "type": "string"
        },
        {
         "name": "premiered_year",
         "rawType": "float64",
         "type": "float"
        },
        {
         "name": "duration_in_min_and_secs",
         "rawType": "object",
         "type": "string"
        }
       ],
       "conversionMethod": "pd.DataFrame",
       "ref": "024741d6-1962-4a72-8c82-4062d11f5be6",
       "rows": [
        [
         "0",
         "52991",
         "https://myanimelist.net/anime/52991/Sousou_no_Frieren",
         "https://cdn.myanimelist.net/images/anime/1015/138006.jpg",
         "Sousou no Frieren",
         "Frieren: Beyond Journey's End",
         "葬送のフリーレン",
         "9.31",
         "Adventure, Drama, Fantasy",
         "unknown",
         "During their decade-long quest to defeat the Demon King, the members of the hero's party—Himmel himself, the priest Heiter, the dwarf warrior Eisen, and the elven mage Frieren—forge bonds through adventures and battles, creating unforgettable precious memories for most of them.\r\n\r\nHowever, the time that Frieren spends with her comrades is equivalent to merely a fraction of her life, which has lasted over a thousand years. When the party disbands after their victory, Frieren casually returns to her \"usual\" routine of collecting spells across the continent. Due to her different sense of time, she seemingly holds no strong feelings toward the experiences she went through.\r\n\r\nAs the years pass, Frieren gradually realizes how her days in the hero's party truly impacted her. Witnessing the deaths of two of her former companions, Frieren begins to regret having taken their presence for granted; she vows to better understand humans and create real personal connections. Although the story of that once memorable journey has long ended, a new tale is about to begin.\r\n\r\n[Written by MAL Rewrite]",
         "TV",
         "28.0",
         "Aniplex, Dentsu, Shogakukan-Shueisha Productions, Nippon Television Network, TOHO animation, Shogakukan",
         "Madhouse",
         "Manga",
         "PG-13 - Teens 13 or older",
         "1.0",
         "160",
         "63387",
         "605478",
         "1038347",
         "fall",
         "2023.0",
         "24:00"
        ],
        [
         "1",
         "5114",
         "https://myanimelist.net/anime/5114/Fullmetal_Alchemist__Brotherhood",
         "https://cdn.myanimelist.net/images/anime/1208/94745.jpg",
         "Fullmetal Alchemist: Brotherhood",
         "Fullmetal Alchemist: Brotherhood",
         "鋼の錬金術師 FULLMETAL ALCHEMIST",
         "9.1",
         "Action, Adventure, Drama, Fantasy",
         "Military",
         "After a horrific alchemy experiment goes wrong in the Elric household, brothers Edward and Alphonse are left in a catastrophic new reality. Ignoring the alchemical principle banning human transmutation, the boys attempted to bring their recently deceased mother back to life. Instead, they suffered brutal personal loss: Alphonse's body disintegrated while Edward lost a leg and then sacrificed an arm to keep Alphonse's soul in the physical realm by binding it to a hulking suit of armor.\r\n\r\nThe brothers are rescued by their neighbor Pinako Rockbell and her granddaughter Winry. Known as a bio-mechanical engineering prodigy, Winry creates prosthetic limbs for Edward by utilizing \"automail,\" a tough, versatile metal used in robots and combat armor. After years of training, the Elric brothers set off on a quest to restore their bodies by locating the Philosopher's Stone—a powerful gem that allows an alchemist to defy the traditional laws of Equivalent Exchange.\r\n\r\nAs Edward becomes an infamous alchemist and gains the nickname \"Fullmetal,\" the boys' journey embroils them in a growing conspiracy that threatens the fate of the world.\r\n\r\n[Written by MAL Rewrite]",
         "TV",
         "64.0",
         "Aniplex, Square Enix, Mainichi Broadcasting System, Techno Sound",
         "Bones",
         "Manga",
         "R - 17+ (violence & profanity)",
         "2.0",
         "3",
         "232007",
         "2196965",
         "3484360",
         "spring",
         "2009.0",
         "24:00"
        ],
        [
         "2",
         "9253",
         "https://myanimelist.net/anime/9253/Steins_Gate",
         "https://cdn.myanimelist.net/images/anime/1935/127974.jpg",
         "Steins;Gate",
         "Steins;Gate",
         "STEINS;GATE",
         "9.07",
         "Drama, Sci-Fi, Suspense",
         "Psychological, Time Travel",
         "Eccentric scientist Rintarou Okabe has a never-ending thirst for scientific exploration. Together with his ditzy but well-meaning friend Mayuri Shiina and his roommate Itaru Hashida, Okabe founds the Future Gadget Laboratory in the hopes of creating technological innovations that baffle the human psyche. Despite claims of grandeur, the only notable \"gadget\" the trio have created is a microwave that has the mystifying power to turn bananas into green goo.\r\n\r\nHowever, when Okabe attends a conference on time travel, he experiences a series of strange events that lead him to believe that there is more to the \"Phone Microwave\" gadget than meets the eye. Apparently able to send text messages into the past using the microwave, Okabe dabbles further with the \"time machine,\" attracting the ire and attention of the mysterious organization SERN.\r\n\r\nDue to the novel discovery, Okabe and his friends find themselves in an ever-present danger. As he works to mitigate the damage his invention has caused to the timeline, Okabe fights a battle to not only save his loved ones but also to preserve his degrading sanity.\r\n\r\n[Written by MAL Rewrite]",
         "TV",
         "24.0",
         "Frontier Works, Media Factory, Kadokawa Shoten, Movic, AT-X, Kadokawa Pictures Japan, Nitroplus",
         "White Fox",
         "Visual novel",
         "PG-13 - Teens 13 or older",
         "3.0",
         "14",
         "194580",
         "1450481",
         "2669303",
         "spring",
         "2011.0",
         "24:00"
        ],
        [
         "3",
         "60022",
         "https://myanimelist.net/anime/60022/One_Piece_Fan_Letter",
         "https://cdn.myanimelist.net/images/anime/1455/146229.jpg",
         "One Piece Fan Letter",
         "One Piece Fan Letter",
         "ONE PIECE FAN LETTER",
         "9.06",
         "Action, Adventure, Fantasy",
         "unknown",
         "Although the golden age of piracy is about to reach new heights, most people do not seek the glory of finding the elusive One Piece—a treasure signifying a new conqueror of all seas that was once embodied by the legendary King of the Pirates, Gol D. Roger. However, even if civilians generally despise pirates, they secretly cheer for at least one of them.\r\n\r\nOne red-headed girl from Sabaody Archipelago is no exception: She reveres Nami, the ingenious female navigator of Monkey D. Luffy's Straw Hat crew. Determined to deliver a fan letter to her idol, the Sabaody child is prepared to challenge forces of authority who strive to prevent Luffy and his friends from departing for their next destination: the New World. But to succeed, Nami's fan may need to risk her life and interfere with the Marines' plans, potentially causing devastating consequences for the wider world.\r\n\r\n[Written by MAL Rewrite]",
         "TV Special",
         "1.0",
         "unknown",
         "Toei Animation",
         "Light novel",
         "PG-13 - Teens 13 or older",
         "4.0",
         "2334",
         "1976",
         "69555",
         "92128",
         "unknown",
         null,
         "24:00"
        ],
        [
         "4",
         "38524",
         "https://myanimelist.net/anime/38524/Shingeki_no_Kyojin_Season_3_Part_2",
         "https://cdn.myanimelist.net/images/anime/1517/100633.jpg",
         "Shingeki no Kyojin Season 3 Part 2",
         "Attack on Titan Season 3 Part 2",
         "進撃の巨人 Season3 Part.2",
         "9.05",
         "Action, Drama, Suspense",
         "Gore, Military, Survival",
         "Seeking to restore humanity's diminishing hope, the Survey Corps embark on a mission to retake Wall Maria, where the battle against the merciless \"Titans\" takes the stage once again.\r\n\r\nReturning to the tattered Shiganshina District that was once his home, Eren Yeager and the Corps find the town oddly unoccupied by Titans. Even after the outer gate is plugged, they strangely encounter no opposition. The mission progresses smoothly until Armin Arlert, highly suspicious of the enemy's absence, discovers distressing signs of a potential scheme against them.\r\n\r\nShingeki no Kyojin Season 3 Part 2 follows Eren as he vows to take back everything that was once his. Alongside him, the Survey Corps strive—through countless sacrifices—to carve a path towards victory and uncover the secrets locked away in the Yeager family's basement.\r\n\r\n[Written by MAL Rewrite]",
         "TV",
         "10.0",
         "Production I.G, Dentsu, Mainichi Broadcasting System, Pony Canyon, Kodansha, Techno Sound, Pony Canyon Enterprises",
         "Wit Studio",
         "Manga",
         "R - 17+ (violence & profanity)",
         "5.0",
         "21",
         "60535",
         "1671960",
         "2409440",
         "spring",
         "2019.0",
         "23:00"
        ]
       ],
       "shape": {
        "columns": 24,
        "rows": 5
       }
      },
      "text/html": [
       "<div>\n",
       "<style scoped>\n",
       "    .dataframe tbody tr th:only-of-type {\n",
       "        vertical-align: middle;\n",
       "    }\n",
       "\n",
       "    .dataframe tbody tr th {\n",
       "        vertical-align: top;\n",
       "    }\n",
       "\n",
       "    .dataframe thead th {\n",
       "        text-align: right;\n",
       "    }\n",
       "</style>\n",
       "<table border=\"1\" class=\"dataframe\">\n",
       "  <thead>\n",
       "    <tr style=\"text-align: right;\">\n",
       "      <th></th>\n",
       "      <th>anime_id</th>\n",
       "      <th>anime_url</th>\n",
       "      <th>image_url</th>\n",
       "      <th>name</th>\n",
       "      <th>english_name</th>\n",
       "      <th>japanese_names</th>\n",
       "      <th>score</th>\n",
       "      <th>genres</th>\n",
       "      <th>themes</th>\n",
       "      <th>synopsis</th>\n",
       "      <th>...</th>\n",
       "      <th>source</th>\n",
       "      <th>rating</th>\n",
       "      <th>rank</th>\n",
       "      <th>popularity</th>\n",
       "      <th>favorites</th>\n",
       "      <th>scored_by</th>\n",
       "      <th>members</th>\n",
       "      <th>premiered_season</th>\n",
       "      <th>premiered_year</th>\n",
       "      <th>duration_in_min_and_secs</th>\n",
       "    </tr>\n",
       "  </thead>\n",
       "  <tbody>\n",
       "    <tr>\n",
       "      <th>0</th>\n",
       "      <td>52991</td>\n",
       "      <td>https://myanimelist.net/anime/52991/Sousou_no_...</td>\n",
       "      <td>https://cdn.myanimelist.net/images/anime/1015/...</td>\n",
       "      <td>Sousou no Frieren</td>\n",
       "      <td>Frieren: Beyond Journey's End</td>\n",
       "      <td>葬送のフリーレン</td>\n",
       "      <td>9.31</td>\n",
       "      <td>Adventure, Drama, Fantasy</td>\n",
       "      <td>unknown</td>\n",
       "      <td>During their decade-long quest to defeat the D...</td>\n",
       "      <td>...</td>\n",
       "      <td>Manga</td>\n",
       "      <td>PG-13 - Teens 13 or older</td>\n",
       "      <td>1.0</td>\n",
       "      <td>160</td>\n",
       "      <td>63387</td>\n",
       "      <td>605478</td>\n",
       "      <td>1038347</td>\n",
       "      <td>fall</td>\n",
       "      <td>2023.0</td>\n",
       "      <td>24:00</td>\n",
       "    </tr>\n",
       "    <tr>\n",
       "      <th>1</th>\n",
       "      <td>5114</td>\n",
       "      <td>https://myanimelist.net/anime/5114/Fullmetal_A...</td>\n",
       "      <td>https://cdn.myanimelist.net/images/anime/1208/...</td>\n",
       "      <td>Fullmetal Alchemist: Brotherhood</td>\n",
       "      <td>Fullmetal Alchemist: Brotherhood</td>\n",
       "      <td>鋼の錬金術師 FULLMETAL ALCHEMIST</td>\n",
       "      <td>9.10</td>\n",
       "      <td>Action, Adventure, Drama, Fantasy</td>\n",
       "      <td>Military</td>\n",
       "      <td>After a horrific alchemy experiment goes wrong...</td>\n",
       "      <td>...</td>\n",
       "      <td>Manga</td>\n",
       "      <td>R - 17+ (violence &amp; profanity)</td>\n",
       "      <td>2.0</td>\n",
       "      <td>3</td>\n",
       "      <td>232007</td>\n",
       "      <td>2196965</td>\n",
       "      <td>3484360</td>\n",
       "      <td>spring</td>\n",
       "      <td>2009.0</td>\n",
       "      <td>24:00</td>\n",
       "    </tr>\n",
       "    <tr>\n",
       "      <th>2</th>\n",
       "      <td>9253</td>\n",
       "      <td>https://myanimelist.net/anime/9253/Steins_Gate</td>\n",
       "      <td>https://cdn.myanimelist.net/images/anime/1935/...</td>\n",
       "      <td>Steins;Gate</td>\n",
       "      <td>Steins;Gate</td>\n",
       "      <td>STEINS;GATE</td>\n",
       "      <td>9.07</td>\n",
       "      <td>Drama, Sci-Fi, Suspense</td>\n",
       "      <td>Psychological, Time Travel</td>\n",
       "      <td>Eccentric scientist Rintarou Okabe has a never...</td>\n",
       "      <td>...</td>\n",
       "      <td>Visual novel</td>\n",
       "      <td>PG-13 - Teens 13 or older</td>\n",
       "      <td>3.0</td>\n",
       "      <td>14</td>\n",
       "      <td>194580</td>\n",
       "      <td>1450481</td>\n",
       "      <td>2669303</td>\n",
       "      <td>spring</td>\n",
       "      <td>2011.0</td>\n",
       "      <td>24:00</td>\n",
       "    </tr>\n",
       "    <tr>\n",
       "      <th>3</th>\n",
       "      <td>60022</td>\n",
       "      <td>https://myanimelist.net/anime/60022/One_Piece_...</td>\n",
       "      <td>https://cdn.myanimelist.net/images/anime/1455/...</td>\n",
       "      <td>One Piece Fan Letter</td>\n",
       "      <td>One Piece Fan Letter</td>\n",
       "      <td>ONE PIECE FAN LETTER</td>\n",
       "      <td>9.06</td>\n",
       "      <td>Action, Adventure, Fantasy</td>\n",
       "      <td>unknown</td>\n",
       "      <td>Although the golden age of piracy is about to ...</td>\n",
       "      <td>...</td>\n",
       "      <td>Light novel</td>\n",
       "      <td>PG-13 - Teens 13 or older</td>\n",
       "      <td>4.0</td>\n",
       "      <td>2334</td>\n",
       "      <td>1976</td>\n",
       "      <td>69555</td>\n",
       "      <td>92128</td>\n",
       "      <td>unknown</td>\n",
       "      <td>NaN</td>\n",
       "      <td>24:00</td>\n",
       "    </tr>\n",
       "    <tr>\n",
       "      <th>4</th>\n",
       "      <td>38524</td>\n",
       "      <td>https://myanimelist.net/anime/38524/Shingeki_n...</td>\n",
       "      <td>https://cdn.myanimelist.net/images/anime/1517/...</td>\n",
       "      <td>Shingeki no Kyojin Season 3 Part 2</td>\n",
       "      <td>Attack on Titan Season 3 Part 2</td>\n",
       "      <td>進撃の巨人 Season3 Part.2</td>\n",
       "      <td>9.05</td>\n",
       "      <td>Action, Drama, Suspense</td>\n",
       "      <td>Gore, Military, Survival</td>\n",
       "      <td>Seeking to restore humanity's diminishing hope...</td>\n",
       "      <td>...</td>\n",
       "      <td>Manga</td>\n",
       "      <td>R - 17+ (violence &amp; profanity)</td>\n",
       "      <td>5.0</td>\n",
       "      <td>21</td>\n",
       "      <td>60535</td>\n",
       "      <td>1671960</td>\n",
       "      <td>2409440</td>\n",
       "      <td>spring</td>\n",
       "      <td>2019.0</td>\n",
       "      <td>23:00</td>\n",
       "    </tr>\n",
       "  </tbody>\n",
       "</table>\n",
       "<p>5 rows × 24 columns</p>\n",
       "</div>"
      ],
      "text/plain": [
       "   anime_id                                          anime_url  \\\n",
       "0     52991  https://myanimelist.net/anime/52991/Sousou_no_...   \n",
       "1      5114  https://myanimelist.net/anime/5114/Fullmetal_A...   \n",
       "2      9253     https://myanimelist.net/anime/9253/Steins_Gate   \n",
       "3     60022  https://myanimelist.net/anime/60022/One_Piece_...   \n",
       "4     38524  https://myanimelist.net/anime/38524/Shingeki_n...   \n",
       "\n",
       "                                           image_url  \\\n",
       "0  https://cdn.myanimelist.net/images/anime/1015/...   \n",
       "1  https://cdn.myanimelist.net/images/anime/1208/...   \n",
       "2  https://cdn.myanimelist.net/images/anime/1935/...   \n",
       "3  https://cdn.myanimelist.net/images/anime/1455/...   \n",
       "4  https://cdn.myanimelist.net/images/anime/1517/...   \n",
       "\n",
       "                                 name                      english_name  \\\n",
       "0                   Sousou no Frieren     Frieren: Beyond Journey's End   \n",
       "1    Fullmetal Alchemist: Brotherhood  Fullmetal Alchemist: Brotherhood   \n",
       "2                         Steins;Gate                       Steins;Gate   \n",
       "3                One Piece Fan Letter              One Piece Fan Letter   \n",
       "4  Shingeki no Kyojin Season 3 Part 2   Attack on Titan Season 3 Part 2   \n",
       "\n",
       "               japanese_names  score                             genres  \\\n",
       "0                    葬送のフリーレン   9.31          Adventure, Drama, Fantasy   \n",
       "1  鋼の錬金術師 FULLMETAL ALCHEMIST   9.10  Action, Adventure, Drama, Fantasy   \n",
       "2                 STEINS;GATE   9.07            Drama, Sci-Fi, Suspense   \n",
       "3        ONE PIECE FAN LETTER   9.06         Action, Adventure, Fantasy   \n",
       "4        進撃の巨人 Season3 Part.2   9.05            Action, Drama, Suspense   \n",
       "\n",
       "                       themes  \\\n",
       "0                     unknown   \n",
       "1                    Military   \n",
       "2  Psychological, Time Travel   \n",
       "3                     unknown   \n",
       "4    Gore, Military, Survival   \n",
       "\n",
       "                                            synopsis  ...        source  \\\n",
       "0  During their decade-long quest to defeat the D...  ...         Manga   \n",
       "1  After a horrific alchemy experiment goes wrong...  ...         Manga   \n",
       "2  Eccentric scientist Rintarou Okabe has a never...  ...  Visual novel   \n",
       "3  Although the golden age of piracy is about to ...  ...   Light novel   \n",
       "4  Seeking to restore humanity's diminishing hope...  ...         Manga   \n",
       "\n",
       "                           rating rank popularity favorites scored_by  \\\n",
       "0       PG-13 - Teens 13 or older  1.0        160     63387    605478   \n",
       "1  R - 17+ (violence & profanity)  2.0          3    232007   2196965   \n",
       "2       PG-13 - Teens 13 or older  3.0         14    194580   1450481   \n",
       "3       PG-13 - Teens 13 or older  4.0       2334      1976     69555   \n",
       "4  R - 17+ (violence & profanity)  5.0         21     60535   1671960   \n",
       "\n",
       "   members  premiered_season  premiered_year  duration_in_min_and_secs  \n",
       "0  1038347              fall          2023.0                     24:00  \n",
       "1  3484360            spring          2009.0                     24:00  \n",
       "2  2669303            spring          2011.0                     24:00  \n",
       "3    92128           unknown             NaN                     24:00  \n",
       "4  2409440            spring          2019.0                     23:00  \n",
       "\n",
       "[5 rows x 24 columns]"
      ]
     },
     "execution_count": 21,
     "metadata": {},
     "output_type": "execute_result"
    }
   ],
   "source": [
    "df = pd.read_csv('data\\\\clean_anime.csv')\n",
    "df.head()"
   ]
  },
  {
   "cell_type": "markdown",
   "metadata": {},
   "source": [
    "# <span style=\"color:#33a2ff\"> Hypothesis 1: Number of anime consumers is higher for anime released after 2000 than for anime released before or in 2000. </span>\n",
    "\n",
    "Null Hypothesis (H₀): The average number of members for anime released before or in 2000 is the same as or greater than the average number of members for anime released after 2000. (μ₁ ≥ μ₂)\n",
    "\n",
    "Alternative Hypothesis (H₁): The average number of members for anime released after 2000 is greater than the average number of members for anime released before or in 2000. (μ₁ < μ₂)\n",
    "\n",
    "Alternative Hypothesis (H2): The average number of members for anime released before 2000 is greater than the average number of members for anime released after 2000. (μ₁ > μ₂)\n",
    "Where:\n",
    "\n",
    "- μ₁ = Population mean of \"Number of Members\" for anime released before or in 2000.\n",
    "\n",
    "- μ₂ = Population mean of \"Number of Members\" for anime released after 2000."
   ]
  },
  {
   "cell_type": "code",
   "execution_count": 22,
   "metadata": {},
   "outputs": [
    {
     "name": "stdout",
     "output_type": "stream",
     "text": [
      "Number of otakus before/in 2000: 20561.761478337387\n",
      "Number of otakus after 2000: 199582.19318336467\n",
      "Alternative Hypothesis (H2) scenario. Mean of the members is greater after 2000\n"
     ]
    }
   ],
   "source": [
    "df['premiered_year'] = pd.to_numeric(df['premiered_year'], errors='coerce')  # Convierte y pone NaN en errores\n",
    "df = df.dropna(subset=['premiered_year'])  # Elimina filas con NaN en el año\n",
    "df['premiered_year'] = df['premiered_year'].astype(int)  # Ahora convierte a entero\n",
    "df = df[df['premiered_year'] > 1900]  # Discard year 1900 and before\n",
    "df = df[df['premiered_year'] != 2025]  # Discard year 2025, since it's got only 3 months of data\n",
    "My1 = df[df['premiered_year'].astype(int) <= 2000].groupby('premiered_year')['members'].mean().dropna()\n",
    "My2 = df[df['premiered_year'].astype(int) > 2000].groupby('premiered_year')['members'].mean().dropna()\n",
    "print(f\"Number of otakus before/in 2000: {My1.mean()}\")\n",
    "print(f\"Number of otakus after 2000: {My2.mean()}\")\n",
    "if My1.mean() == My2.mean():\n",
    "    print(\"Null Hypothesis (H₀) scenario. Mean of the members is the same\")\n",
    "elif My1.mean() > My2.mean():\n",
    "    print(\"Alternative Hypothesis (H₁) scenario. Mean of the members is greater before 2000\")\n",
    "elif My1.mean() < My2.mean():\n",
    "    print(\"Alternative Hypothesis (H2) scenario. Mean of the members is greater after 2000\")\n"
   ]
  },
  {
   "cell_type": "markdown",
   "metadata": {},
   "source": [
    "# <div style=\"color:#33a2ff; font-size:36px\"> Spearman Correlation Test </div>\n",
    "\n",
    "Spearman correlation test is used to determine the strength and direction of the monotonic relationship between two variables. It is a non-parametric test that does not assume normal distribution of the data. The test is used to determine whether there is a statistically significant relationship between the two variables. The test statistic is denoted by ρ (rho) and ranges from -1 to 1. A value of 1 indicates a perfect positive relationship, -1 indicates a perfect negative relationship, and 0 indicates no relationship between the two variables. The p-value is used to determine the statistical significance of the relationship. A p-value less than 0.05 indicates that the relationship is statistically significant.\n",
    "\n",
    "***Performing this test will help us determine whether there is a relationship between the release year of an anime and the number of members it has.***"
   ]
  },
  {
   "cell_type": "code",
   "execution_count": 23,
   "metadata": {},
   "outputs": [
    {
     "name": "stdout",
     "output_type": "stream",
     "text": [
      "Spearman Correlation: 0.9323717948717949\n",
      "P-value: 4.326778562423887e-29\n",
      "Null hypothesis refused (H₀): There's a growing trend in the median member value per year.\n"
     ]
    }
   ],
   "source": [
    "from scipy.stats import spearmanr\n",
    "import pandas as pd\n",
    "\n",
    "# Cast 'premiered_year' to numeric, discard null values\n",
    "df['premiered_year'] = pd.to_numeric(df['premiered_year'], errors='coerce')\n",
    "df = df.dropna(subset=['premiered_year'])\n",
    "df['premiered_year'] = df['premiered_year'].astype(int)\n",
    "\n",
    "# Filter data with year > 2000\n",
    "df_after_2000 = df[df['premiered_year'] > 2000]\n",
    "\n",
    "# Median members per year group\n",
    "yearly_members = df.groupby('premiered_year')['members'].mean()\n",
    "\n",
    "# Apply Spearman correlation test to analyze trend\n",
    "correlation, p_value = spearmanr(yearly_members.index, yearly_members.values)\n",
    "\n",
    "# Results\n",
    "print(f\"Spearman Correlation: {correlation}\")\n",
    "print(f\"P-value: {p_value}\")\n",
    "\n",
    "# Print Results\n",
    "alpha = 0.05  # Significancy level\n",
    "if p_value < alpha:\n",
    "    print(\"Null hypothesis refused (H₀): There's a growing trend in the median member value per year.\")\n",
    "else:\n",
    "    print(\"Not enough evidence to refuse (H₀): median member value per year not conclusive\")\n"
   ]
  },
  {
   "cell_type": "markdown",
   "metadata": {},
   "source": [
    "# <div style=\"color:#33a2ff; font-size:36px\"> Shapiro-Wilk Test </div>\n",
    "The Shapiro-Wilk test is a test of normality in which the null hypothesis is that the data is normally distributed. If the p-value is less than 0.05, the null hypothesis is rejected, and the data is not normally distributed. If the p-value is greater than 0.05, the null hypothesis is not rejected, and the data is normally distributed."
   ]
  },
  {
   "cell_type": "code",
   "execution_count": 24,
   "metadata": {},
   "outputs": [
    {
     "name": "stdout",
     "output_type": "stream",
     "text": [
      "Statistic: 0.7973650582094098, p-value: 5.69901328736317e-08\n",
      "Null hypothesis refused: data are  DON'T follow a normal distribution.\n"
     ]
    }
   ],
   "source": [
    "# Prueba de Shapiro-Wilk\n",
    "stat, p_value = stats.shapiro(yearly_members.values)\n",
    "print(f\"Statistic: {stat}, p-value: {p_value}\")\n",
    "if p_value > 0.05:\n",
    "    print(\"Null hypothesis NOT refused: data DO follow a normal distribution.\")\n",
    "else:\n",
    "    print(\"Null hypothesis refused: data are  DON'T follow a normal distribution.\")"
   ]
  },
  {
   "cell_type": "markdown",
   "metadata": {},
   "source": [
    "# <div style=\"color:#33a2ff; font-size:36px\"> Linear Regression </div>\n",
    "Linear regression is a statistical method used to model the relationship between two or more variables. It is used to predict the value of a dependent variable based on the value of one or more independent variables. The linear regression model is represented by the equation y = mx + b, where y is the dependent variable, x is the independent variable, m is the slope of the line, and b is the y-intercept. The slope of the line represents the change in the dependent variable for a one-unit change in the independent variable. The y-intercept represents the value of the dependent variable when the independent variable is zero.\n",
    "\n",
    "***Next we will show the linear regression model for the relationship between the number of members and the year of release of the anime.***"
   ]
  },
  {
   "cell_type": "code",
   "execution_count": 25,
   "metadata": {},
   "outputs": [
    {
     "data": {
      "image/png": "[encoded data removed]",
      "text/plain": [
       "<Figure size 800x600 with 1 Axes>"
      ]
     },
     "metadata": {},
     "output_type": "display_data"
    }
   ],
   "source": [
    "from scipy.stats import linregress\n",
    "\n",
    "# Linear regression\n",
    "slope, intercept, r_value, p_value, std_err = linregress(yearly_members.index, yearly_members.values)\n",
    "\n",
    "# Draw chart\n",
    "plt.figure(figsize=(8, 6))\n",
    "\n",
    "# Draw charts (here, index stands for yearsa and values for the members median)\n",
    "sns.scatterplot(x=yearly_members.index, y=yearly_members.values, label='Data')\n",
    "\n",
    "# Draw regression\n",
    "plt.plot(yearly_members.index, slope * yearly_members.index + intercept, color='red', label='Linear regression')\n",
    "\n",
    "\n",
    "# Labels and title\n",
    "plt.title('Linear regression between premiere and members median')\n",
    "plt.xlabel('Year of release')\n",
    "plt.ylabel('Median number of members')\n",
    "plt.legend()\n",
    "\n",
    "# Mostrar el gráfico\n",
    "plt.show()\n"
   ]
  },
  {
   "cell_type": "markdown",
   "metadata": {},
   "source": [
    "# <span style=\"color:#33a2ff\" > Hypothesis 2: There are great difference in the median members amount depending on the design studio </span>\n",
    "\n",
    "- Null Hypothesis (H₀): The average number of members presents no great differences between studios.\n",
    "\n",
    "- Alternative Hypothesis (H₁): The average number of members presents great difference between studios."
   ]
  },
  {
   "cell_type": "code",
   "execution_count": 26,
   "metadata": {},
   "outputs": [
    {
     "name": "stdout",
     "output_type": "stream",
     "text": [
      "Statistic F: 2.2628223926963176\n",
      "P-value: 1.5411293695791248e-50\n",
      "Null hypothesis refused: there are great differences among the members median by studio.\n"
     ]
    }
   ],
   "source": [
    "groups = [group['members'].values for name, group in df.groupby('studios')]\n",
    "\n",
    "# Perform ANOVA test\n",
    "f_stat, p_value = stats.f_oneway(*groups)\n",
    "\n",
    "# Statistics results\n",
    "print(f\"Statistic F: {f_stat}\")\n",
    "print(f\"P-value: {p_value}\")\n",
    "\n",
    "# Print results\n",
    "if p_value < 0.05:\n",
    "    print(\"Null hypothesis refused: there are great differences among the members median by studio.\")\n",
    "else:\n",
    "    print(\"Null hypothesis NOT refused: there are NOT great differences among the members median by studio\")\n"
   ]
  },
  {
   "cell_type": "markdown",
   "metadata": {},
   "source": [
    "# <div style=\"color:#33a2ff; font-size:36px\"> Treemap of members median by studio </div>"
   ]
  },
  {
   "cell_type": "code",
   "execution_count": 27,
   "metadata": {},
   "outputs": [
    {
     "data": {
      "image/png": "[encoded data removed]",
      "text/plain": [
       "<Figure size 1200x700 with 1 Axes>"
      ]
     },
     "metadata": {},
     "output_type": "display_data"
    }
   ],
   "source": [
    "studio_members_mean = {name: group['members'].mean() for name, group in df.groupby('studios')}\n",
    "\n",
    "studio_members_mean = dict(sorted(studio_members_mean.items(), key=lambda x: x[1], reverse=True))\n",
    "\n",
    "# Get studio names a and values\n",
    "studios = list(studio_members_mean.keys())\n",
    "members_avg = list(studio_members_mean.values())\n",
    "\n",
    "# Create  treemap\n",
    "plt.figure(figsize=(12, 7))\n",
    "colors = plt.cm.coolwarm(np.linspace(0.25, 1, len(studios)))  # Colores según la media de 'members'\n",
    "squarify.plot(sizes=members_avg, color=colors, alpha=0.8)\n",
    "\n",
    "# Visual enhance\n",
    "plt.title(\"Members median by Anime Studio Treemap\")\n",
    "plt.axis('off')  # Ocultar ejes\n",
    "\n",
    "# Show chart\n",
    "plt.show()\n"
   ]
  }
 ],
 "metadata": {
  "kernelspec": {
   "display_name": "Python 3",
   "language": "python",
   "name": "python3"
  },
  "language_info": {
   "codemirror_mode": {
    "name": "ipython",
    "version": 3
   },
   "file_extension": ".py",
   "mimetype": "text/x-python",
   "name": "python",
   "nbconvert_exporter": "python",
   "pygments_lexer": "ipython3",
   "version": "3.13.1"
  }
 },
 "nbformat": 4,
 "nbformat_minor": 2
}
