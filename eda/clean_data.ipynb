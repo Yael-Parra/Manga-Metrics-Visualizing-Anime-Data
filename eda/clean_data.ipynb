{
 "cells": [
  {
   "cell_type": "markdown",
   "metadata": {},
   "source": [
    "# Import libraries and Setting displays"
   ]
  },
  {
   "cell_type": "code",
   "execution_count": null,
   "metadata": {},
   "outputs": [],
   "source": [
    "# import pandas as pd\n",
    "# from googletrans import Translator"
   ]
  },
  {
   "cell_type": "code",
   "execution_count": 1,
   "metadata": {},
   "outputs": [],
   "source": [
    "import pandas as pd\n",
    "import numpy as np\n",
    "import os\n",
    "import re\n",
    "\n",
    "import matplotlib.pyplot as plt \n",
    "import seaborn as sns"
   ]
  },
  {
   "cell_type": "code",
   "execution_count": 2,
   "metadata": {},
   "outputs": [],
   "source": [
    "pd.set_option('display.max_rows', 100) \n",
    "pd.set_option('display.max_columns', None) \n",
    "\n",
    "# pd.set_option('display.max_columns', None)  # Show all columns\n",
    "# pd.set_option('display.max_rows', None)     # Show all rows\n",
    "# pd.set_option('display.max_colwidth', None) # Show entire content of each column\n",
    "pd.set_option('display.width', None)        # No limit on display width\n",
    "pd.set_option('display.expand_frame_repr', False)  # Prevent wrapping"
   ]
  },
  {
   "cell_type": "markdown",
   "metadata": {},
   "source": [
    "# Opening file and creating dataframe"
   ]
  },
  {
   "cell_type": "code",
   "execution_count": 3,
   "metadata": {},
   "outputs": [
    {
     "data": {
      "application/vnd.microsoft.datawrangler.viewer.v0+json": {
       "columns": [
        {
         "name": "index",
         "rawType": "int64",
         "type": "integer"
        },
        {
         "name": "anime_id",
         "rawType": "int64",
         "type": "integer"
        },
        {
         "name": "anime_url",
         "rawType": "object",
         "type": "string"
        },
        {
         "name": "image_url",
         "rawType": "object",
         "type": "string"
        },
        {
         "name": "name",
         "rawType": "object",
         "type": "string"
        },
        {
         "name": "english_name",
         "rawType": "object",
         "type": "unknown"
        },
        {
         "name": "japanese_names",
         "rawType": "object",
         "type": "string"
        },
        {
         "name": "score",
         "rawType": "float64",
         "type": "float"
        },
        {
         "name": "genres",
         "rawType": "object",
         "type": "unknown"
        },
        {
         "name": "themes",
         "rawType": "object",
         "type": "unknown"
        },
        {
         "name": "demographics",
         "rawType": "object",
         "type": "unknown"
        },
        {
         "name": "synopsis",
         "rawType": "object",
         "type": "string"
        },
        {
         "name": "type",
         "rawType": "object",
         "type": "string"
        },
        {
         "name": "episodes",
         "rawType": "float64",
         "type": "float"
        },
        {
         "name": "premiered",
         "rawType": "object",
         "type": "unknown"
        },
        {
         "name": "producers",
         "rawType": "object",
         "type": "unknown"
        },
        {
         "name": "studios",
         "rawType": "object",
         "type": "unknown"
        },
        {
         "name": "source",
         "rawType": "object",
         "type": "string"
        },
        {
         "name": "duration",
         "rawType": "object",
         "type": "string"
        },
        {
         "name": "rating",
         "rawType": "object",
         "type": "string"
        },
        {
         "name": "rank",
         "rawType": "float64",
         "type": "float"
        },
        {
         "name": "popularity",
         "rawType": "int64",
         "type": "integer"
        },
        {
         "name": "favorites",
         "rawType": "int64",
         "type": "integer"
        },
        {
         "name": "scored_by",
         "rawType": "int64",
         "type": "integer"
        },
        {
         "name": "members",
         "rawType": "int64",
         "type": "integer"
        }
       ],
       "conversionMethod": "pd.DataFrame",
       "ref": "a61dcb7a-a341-4b2b-8253-0047e0f66ff7",
       "rows": [
        [
         "8589",
         "38672",
         "https://myanimelist.net/anime/38672/Precure_Miracle_Universe_Movie",
         "https://cdn.myanimelist.net/images/anime/1960/120792.jpg",
         "Precure Miracle Universe Movie",
         null,
         "映画プリキュアミラクルユニバース",
         "6.44",
         "Action",
         "Mahou Shoujo",
         null,
         "So many mysteries☆ The grand adventure to the world of glittering stars!!\n\nI'm Hoshina Hikaru! One day, when I was looking at the stars, space just warped before my eyes!? Twincool~☆ Are we really going to the planet that made the Miracle Lights? Wait, what? Huh~!? Suddenly the lights just went out and the stars are being swallowed up by darkness!? If this continues, the world as we know it will become pitch black...that's a huge pinch right there!! But, I definitely won't give up on bringing back the universe's light! So come on everyone, give us your support!\n\n(Source: Pretty Cure Wiki)",
         "Movie",
         "1.0",
         null,
         null,
         "Toei Animation",
         "Original",
         "1 hr 11 min",
         "G - All Ages",
         "7488.0",
         "9928",
         "3",
         "1443",
         "3629"
        ],
        [
         "7994",
         "44259",
         "https://myanimelist.net/anime/44259/Next_Color_Planet",
         "https://cdn.myanimelist.net/images/anime/1533/110488.jpg",
         "Next Color Planet",
         "Next Color Planet",
         "NEXT COLOR PLANET",
         "6.51",
         null,
         "Music",
         null,
         "To celebrate Suisei's 2nd Anniversary, her third original song Next Color Planet music video was released!\n\nThe making of this song was made through a collaboration between idol V-tuber Hoshimachi Suisei and Takuya Sakai, of Arte Refract fame.\n\n(Source: Anilist)",
         "Music",
         "1.0",
         null,
         null,
         null,
         "Original",
         "4 min",
         "G - All Ages",
         null,
         "15467",
         "5",
         "449",
         "707"
        ],
        [
         "8877",
         "925",
         "https://myanimelist.net/anime/925/Transformers__The☆Headmasters",
         "https://cdn.myanimelist.net/images/anime/1535/99038.jpg",
         "Transformers: The☆Headmasters",
         "Transformers The Headmasters",
         "トランスフォーマー ザ☆ヘッドマスターズ",
         "6.41",
         "Action, Adventure, Sci-Fi",
         "Mecha, Space",
         null,
         "Headmasters starts with Galvatron leading a new batch of Destrons to wage war on Cybertron, the Destron Headmasters. The Cybertrons are rescued by the arrival of the Cybertron Headmasters, led by Fortress (Cerebros, the head of Fortress Maximus). It is revealed that Fortress Maximus left Cybertron millions of years ago in search of energy, and have finally managed to come home. He explains that the Headmasters are from a planet called Master; the human-sized robots who live there built themselves Transformers-sized bodies. They can then transform themselves into the heads of the robots, and have now joined the Cybertron-Destron war.\n\n(Source: ANN)",
         "TV",
         "35.0",
         "summer 1987",
         "Takara, Nippon Television Network",
         "Toei Animation",
         "Other",
         "23 min per ep",
         "PG-13 - Teens 13 or older",
         "7628.0",
         "9106",
         "8",
         "1966",
         "4718"
        ],
        [
         "3344",
         "44408",
         "https://myanimelist.net/anime/44408/Long_Zu",
         "https://cdn.myanimelist.net/images/anime/1854/126703.jpg",
         "Long Zu",
         "Dragon Raja -The Blazing Dawn-",
         "龙族 / 龍族 -The Blazing Dawn-",
         "7.24",
         "Adventure, Fantasy",
         null,
         null,
         "Lu Mingfei is a typical high school kid getting ready to graduate. That is, until he receives an acceptance letter from Cassell College, a school he didn’t even apply to. Upon arrival, Lu learns that the school’s mission is simple: protect humanity from dragons. Caught in the midst of the age-old conflict, Lu soon uncovers the grim truth behind humanity’s war against the dragon race.\n\n(Source: Crunchyroll)",
         "ONA",
         "16.0",
         null,
         "Tencent Penguin Pictures",
         "Garden Culture",
         "Novel",
         "22 min per ep",
         "PG-13 - Teens 13 or older",
         "3133.0",
         "3583",
         "228",
         "12241",
         "43642"
        ],
        [
         "1039",
         "33489",
         "https://myanimelist.net/anime/33489/Little_Witch_Academia_TV",
         "https://cdn.myanimelist.net/images/anime/1520/147248.jpg",
         "Little Witch Academia (TV)",
         "Little Witch Academia",
         "リトルウィッチアカデミア",
         "7.81",
         "Adventure, Comedy, Fantasy",
         "School",
         null,
         "\"A believing heart is your magic!\"—these were the words that Atsuko \"Akko\" Kagari's idol, the renowned witch Shiny Chariot, said to her during a magic performance years ago. Since then, Akko has lived by these words and aspired to be a witch just like Shiny Chariot, one that can make people smile. Hence, even her non-magical background does not stop her from enrolling in Luna Nova Magical Academy.\n\nHowever, when an excited Akko finally sets off to her new school, the trip there is anything but smooth. After her perilous journey, she befriends the shy Lotte Yansson and the sarcastic Sucy Manbavaran. To her utmost delight, she also discovers Chariot's wand, the Shiny Rod, which she takes as her own. Unfortunately, her time at Luna Nova will prove to be more challenging than Akko could ever believe. She absolutely refuses to stay inferior to the rest of her peers, especially to her self-proclaimed rival, the beautiful and gifted Diana Cavendish, so she relies on her determination to compensate for her reckless behavior and ineptitude in magic.\n\nIn a time when wizardry is on the decline, Little Witch Academia follows the magical escapades of Akko and her friends as they learn the true meaning of being a witch.\n\n[Written by MAL Rewrite]",
         "TV",
         "25.0",
         "winter 2017",
         "Ultra Super Pictures, TOHO animation, Good Smile Company",
         "Trigger",
         "Original",
         "24 min per ep",
         "G - All Ages",
         "1005.0",
         "336",
         "7865",
         "329504",
         "669740"
        ]
       ],
       "shape": {
        "columns": 24,
        "rows": 5
       }
      },
      "text/html": [
       "<div>\n",
       "<style scoped>\n",
       "    .dataframe tbody tr th:only-of-type {\n",
       "        vertical-align: middle;\n",
       "    }\n",
       "\n",
       "    .dataframe tbody tr th {\n",
       "        vertical-align: top;\n",
       "    }\n",
       "\n",
       "    .dataframe thead th {\n",
       "        text-align: right;\n",
       "    }\n",
       "</style>\n",
       "<table border=\"1\" class=\"dataframe\">\n",
       "  <thead>\n",
       "    <tr style=\"text-align: right;\">\n",
       "      <th></th>\n",
       "      <th>anime_id</th>\n",
       "      <th>anime_url</th>\n",
       "      <th>image_url</th>\n",
       "      <th>name</th>\n",
       "      <th>english_name</th>\n",
       "      <th>japanese_names</th>\n",
       "      <th>score</th>\n",
       "      <th>genres</th>\n",
       "      <th>themes</th>\n",
       "      <th>demographics</th>\n",
       "      <th>synopsis</th>\n",
       "      <th>type</th>\n",
       "      <th>episodes</th>\n",
       "      <th>premiered</th>\n",
       "      <th>producers</th>\n",
       "      <th>studios</th>\n",
       "      <th>source</th>\n",
       "      <th>duration</th>\n",
       "      <th>rating</th>\n",
       "      <th>rank</th>\n",
       "      <th>popularity</th>\n",
       "      <th>favorites</th>\n",
       "      <th>scored_by</th>\n",
       "      <th>members</th>\n",
       "    </tr>\n",
       "  </thead>\n",
       "  <tbody>\n",
       "    <tr>\n",
       "      <th>8589</th>\n",
       "      <td>38672</td>\n",
       "      <td>https://myanimelist.net/anime/38672/Precure_Mi...</td>\n",
       "      <td>https://cdn.myanimelist.net/images/anime/1960/...</td>\n",
       "      <td>Precure Miracle Universe Movie</td>\n",
       "      <td>NaN</td>\n",
       "      <td>映画プリキュアミラクルユニバース</td>\n",
       "      <td>6.44</td>\n",
       "      <td>Action</td>\n",
       "      <td>Mahou Shoujo</td>\n",
       "      <td>NaN</td>\n",
       "      <td>So many mysteries☆ The grand adventure to the ...</td>\n",
       "      <td>Movie</td>\n",
       "      <td>1.0</td>\n",
       "      <td>NaN</td>\n",
       "      <td>NaN</td>\n",
       "      <td>Toei Animation</td>\n",
       "      <td>Original</td>\n",
       "      <td>1 hr 11 min</td>\n",
       "      <td>G - All Ages</td>\n",
       "      <td>7488.0</td>\n",
       "      <td>9928</td>\n",
       "      <td>3</td>\n",
       "      <td>1443</td>\n",
       "      <td>3629</td>\n",
       "    </tr>\n",
       "    <tr>\n",
       "      <th>7994</th>\n",
       "      <td>44259</td>\n",
       "      <td>https://myanimelist.net/anime/44259/Next_Color...</td>\n",
       "      <td>https://cdn.myanimelist.net/images/anime/1533/...</td>\n",
       "      <td>Next Color Planet</td>\n",
       "      <td>Next Color Planet</td>\n",
       "      <td>NEXT COLOR PLANET</td>\n",
       "      <td>6.51</td>\n",
       "      <td>NaN</td>\n",
       "      <td>Music</td>\n",
       "      <td>NaN</td>\n",
       "      <td>To celebrate Suisei's 2nd Anniversary, her thi...</td>\n",
       "      <td>Music</td>\n",
       "      <td>1.0</td>\n",
       "      <td>NaN</td>\n",
       "      <td>NaN</td>\n",
       "      <td>NaN</td>\n",
       "      <td>Original</td>\n",
       "      <td>4 min</td>\n",
       "      <td>G - All Ages</td>\n",
       "      <td>NaN</td>\n",
       "      <td>15467</td>\n",
       "      <td>5</td>\n",
       "      <td>449</td>\n",
       "      <td>707</td>\n",
       "    </tr>\n",
       "    <tr>\n",
       "      <th>8877</th>\n",
       "      <td>925</td>\n",
       "      <td>https://myanimelist.net/anime/925/Transformers...</td>\n",
       "      <td>https://cdn.myanimelist.net/images/anime/1535/...</td>\n",
       "      <td>Transformers: The☆Headmasters</td>\n",
       "      <td>Transformers The Headmasters</td>\n",
       "      <td>トランスフォーマー ザ☆ヘッドマスターズ</td>\n",
       "      <td>6.41</td>\n",
       "      <td>Action, Adventure, Sci-Fi</td>\n",
       "      <td>Mecha, Space</td>\n",
       "      <td>NaN</td>\n",
       "      <td>Headmasters starts with Galvatron leading a ne...</td>\n",
       "      <td>TV</td>\n",
       "      <td>35.0</td>\n",
       "      <td>summer 1987</td>\n",
       "      <td>Takara, Nippon Television Network</td>\n",
       "      <td>Toei Animation</td>\n",
       "      <td>Other</td>\n",
       "      <td>23 min per ep</td>\n",
       "      <td>PG-13 - Teens 13 or older</td>\n",
       "      <td>7628.0</td>\n",
       "      <td>9106</td>\n",
       "      <td>8</td>\n",
       "      <td>1966</td>\n",
       "      <td>4718</td>\n",
       "    </tr>\n",
       "    <tr>\n",
       "      <th>3344</th>\n",
       "      <td>44408</td>\n",
       "      <td>https://myanimelist.net/anime/44408/Long_Zu</td>\n",
       "      <td>https://cdn.myanimelist.net/images/anime/1854/...</td>\n",
       "      <td>Long Zu</td>\n",
       "      <td>Dragon Raja -The Blazing Dawn-</td>\n",
       "      <td>龙族 / 龍族 -The Blazing Dawn-</td>\n",
       "      <td>7.24</td>\n",
       "      <td>Adventure, Fantasy</td>\n",
       "      <td>NaN</td>\n",
       "      <td>NaN</td>\n",
       "      <td>Lu Mingfei is a typical high school kid gettin...</td>\n",
       "      <td>ONA</td>\n",
       "      <td>16.0</td>\n",
       "      <td>NaN</td>\n",
       "      <td>Tencent Penguin Pictures</td>\n",
       "      <td>Garden Culture</td>\n",
       "      <td>Novel</td>\n",
       "      <td>22 min per ep</td>\n",
       "      <td>PG-13 - Teens 13 or older</td>\n",
       "      <td>3133.0</td>\n",
       "      <td>3583</td>\n",
       "      <td>228</td>\n",
       "      <td>12241</td>\n",
       "      <td>43642</td>\n",
       "    </tr>\n",
       "    <tr>\n",
       "      <th>1039</th>\n",
       "      <td>33489</td>\n",
       "      <td>https://myanimelist.net/anime/33489/Little_Wit...</td>\n",
       "      <td>https://cdn.myanimelist.net/images/anime/1520/...</td>\n",
       "      <td>Little Witch Academia (TV)</td>\n",
       "      <td>Little Witch Academia</td>\n",
       "      <td>リトルウィッチアカデミア</td>\n",
       "      <td>7.81</td>\n",
       "      <td>Adventure, Comedy, Fantasy</td>\n",
       "      <td>School</td>\n",
       "      <td>NaN</td>\n",
       "      <td>\"A believing heart is your magic!\"—these were ...</td>\n",
       "      <td>TV</td>\n",
       "      <td>25.0</td>\n",
       "      <td>winter 2017</td>\n",
       "      <td>Ultra Super Pictures, TOHO animation, Good Smi...</td>\n",
       "      <td>Trigger</td>\n",
       "      <td>Original</td>\n",
       "      <td>24 min per ep</td>\n",
       "      <td>G - All Ages</td>\n",
       "      <td>1005.0</td>\n",
       "      <td>336</td>\n",
       "      <td>7865</td>\n",
       "      <td>329504</td>\n",
       "      <td>669740</td>\n",
       "    </tr>\n",
       "  </tbody>\n",
       "</table>\n",
       "</div>"
      ],
      "text/plain": [
       "      anime_id                                          anime_url                                          image_url                            name                    english_name              japanese_names  score                      genres        themes demographics                                           synopsis   type  episodes    premiered                                          producers         studios    source       duration                     rating    rank  popularity  favorites  scored_by  members\n",
       "8589     38672  https://myanimelist.net/anime/38672/Precure_Mi...  https://cdn.myanimelist.net/images/anime/1960/...  Precure Miracle Universe Movie                             NaN            映画プリキュアミラクルユニバース   6.44                      Action  Mahou Shoujo          NaN  So many mysteries☆ The grand adventure to the ...  Movie       1.0          NaN                                                NaN  Toei Animation  Original    1 hr 11 min               G - All Ages  7488.0        9928          3       1443     3629\n",
       "7994     44259  https://myanimelist.net/anime/44259/Next_Color...  https://cdn.myanimelist.net/images/anime/1533/...               Next Color Planet               Next Color Planet           NEXT COLOR PLANET   6.51                         NaN         Music          NaN  To celebrate Suisei's 2nd Anniversary, her thi...  Music       1.0          NaN                                                NaN             NaN  Original          4 min               G - All Ages     NaN       15467          5        449      707\n",
       "8877       925  https://myanimelist.net/anime/925/Transformers...  https://cdn.myanimelist.net/images/anime/1535/...   Transformers: The☆Headmasters    Transformers The Headmasters        トランスフォーマー ザ☆ヘッドマスターズ   6.41   Action, Adventure, Sci-Fi  Mecha, Space          NaN  Headmasters starts with Galvatron leading a ne...     TV      35.0  summer 1987                  Takara, Nippon Television Network  Toei Animation     Other  23 min per ep  PG-13 - Teens 13 or older  7628.0        9106          8       1966     4718\n",
       "3344     44408        https://myanimelist.net/anime/44408/Long_Zu  https://cdn.myanimelist.net/images/anime/1854/...                         Long Zu  Dragon Raja -The Blazing Dawn-  龙族 / 龍族 -The Blazing Dawn-   7.24          Adventure, Fantasy           NaN          NaN  Lu Mingfei is a typical high school kid gettin...    ONA      16.0          NaN                           Tencent Penguin Pictures  Garden Culture     Novel  22 min per ep  PG-13 - Teens 13 or older  3133.0        3583        228      12241    43642\n",
       "1039     33489  https://myanimelist.net/anime/33489/Little_Wit...  https://cdn.myanimelist.net/images/anime/1520/...      Little Witch Academia (TV)           Little Witch Academia                リトルウィッチアカデミア   7.81  Adventure, Comedy, Fantasy        School          NaN  \"A believing heart is your magic!\"—these were ...     TV      25.0  winter 2017  Ultra Super Pictures, TOHO animation, Good Smi...         Trigger  Original  24 min per ep               G - All Ages  1005.0         336       7865     329504   669740"
      ]
     },
     "execution_count": 3,
     "metadata": {},
     "output_type": "execute_result"
    }
   ],
   "source": [
    "# Setting paths\n",
    "current_dir = os.getcwd()  # Use os.getcwd() to get the current working directory\n",
    "parent_dir = os.path.dirname(current_dir)\n",
    "data_dir = os.path.join(parent_dir, \"data\")\n",
    "file_path = os.path.join(data_dir, \"\")\n",
    "\n",
    "top_anime_dataset_v2_csv_path = os.path.join(data_dir, \"top_anime_dataset_v2.csv\")\n",
    "#----------------------------------------------------------------------------------------------------\n",
    "# Creating dataframes\n",
    "df_anime = pd.read_csv(top_anime_dataset_v2_csv_path)\n",
    "\n",
    "df_anime.sample(5)"
   ]
  },
  {
   "cell_type": "markdown",
   "metadata": {},
   "source": [
    "# Seeking for nulls"
   ]
  },
  {
   "cell_type": "code",
   "execution_count": 4,
   "metadata": {},
   "outputs": [
    {
     "data": {
      "text/plain": [
       "['anime_id',\n",
       " 'anime_url',\n",
       " 'image_url',\n",
       " 'name',\n",
       " 'english_name',\n",
       " 'japanese_names',\n",
       " 'score',\n",
       " 'genres',\n",
       " 'themes',\n",
       " 'demographics',\n",
       " 'synopsis',\n",
       " 'type',\n",
       " 'episodes',\n",
       " 'premiered',\n",
       " 'producers',\n",
       " 'studios',\n",
       " 'source',\n",
       " 'duration',\n",
       " 'rating',\n",
       " 'rank',\n",
       " 'popularity',\n",
       " 'favorites',\n",
       " 'scored_by',\n",
       " 'members']"
      ]
     },
     "execution_count": 4,
     "metadata": {},
     "output_type": "execute_result"
    }
   ],
   "source": [
    "df_anime.columns.to_list()"
   ]
  },
  {
   "cell_type": "code",
   "execution_count": 5,
   "metadata": {},
   "outputs": [
    {
     "name": "stdout",
     "output_type": "stream",
     "text": [
      "Qty of rows: (15000)\n",
      "                Null Count  Null %\n",
      "anime_id                 0    0.00\n",
      "anime_url                0    0.00\n",
      "image_url                0    0.00\n",
      "name                     0    0.00\n",
      "english_name          6642   44.28\n",
      "japanese_names          46    0.31\n",
      "score                    0    0.00\n",
      "genres                1601   10.67\n",
      "themes                5077   33.85\n",
      "demographics         10592   70.61\n",
      "synopsis               468    3.12\n",
      "type                     1    0.01\n",
      "episodes               112    0.75\n",
      "premiered            10316   68.77\n",
      "producers             5429   36.19\n",
      "studios               2379   15.86\n",
      "source                   0    0.00\n",
      "duration                 0    0.00\n",
      "rating                  68    0.45\n",
      "rank                  3080   20.53\n",
      "popularity               0    0.00\n",
      "favorites                0    0.00\n",
      "scored_by                0    0.00\n",
      "members                  0    0.00\n"
     ]
    }
   ],
   "source": [
    "def check_anime_nulls(df_anime):\n",
    "   \n",
    "    nulls = df_anime.isnull().sum()\n",
    "    null_percentage = (nulls / len(df_anime) * 100).round(2)\n",
    "    null_report = pd.DataFrame({'Null Count': nulls, 'Null %': null_percentage})\n",
    "    print(f\"Qty of rows: ({len(df_anime)})\")\n",
    "    print(null_report)\n",
    "\n",
    "\n",
    "check_anime_nulls(df_anime)"
   ]
  },
  {
   "cell_type": "markdown",
   "metadata": {},
   "source": [
    "# Looking for Duplicate values"
   ]
  },
  {
   "cell_type": "code",
   "execution_count": 6,
   "metadata": {},
   "outputs": [
    {
     "name": "stdout",
     "output_type": "stream",
     "text": [
      "Duplicates (68):\n",
      "       anime_id                                          anime_url                                          image_url                                               name                                       english_name                         japanese_names  score                                             genres                               themes demographics                                           synopsis        type  episodes    premiered                                          producers                             studios       source       duration                          rating     rank  popularity  favorites  scored_by  members\n",
      "30        59571  https://myanimelist.net/anime/59571/Shingeki_n...  https://cdn.myanimelist.net/images/anime/1379/...  Shingeki no Kyojin Movie: Kanketsu-hen - The L...                   Attack on Titan: The Last Attack          劇場版 進撃の巨人 完結編 THE LAST ATTACK   8.81                            Action, Drama, Suspense             Gore, Military, Survival      Shounen  A compilation movie for Shingeki no Kyojin: Th...       Movie       1.0          NaN                                        Pony Canyon                               MAPPA        Manga    2 hr 25 min  R - 17+ (violence & profanity)     32.0        4169        220       5737    32307\n",
      "31        59571  https://myanimelist.net/anime/59571/Shingeki_n...  https://cdn.myanimelist.net/images/anime/1379/...  Shingeki no Kyojin Movie: Kanketsu-hen - The L...                   Attack on Titan: The Last Attack          劇場版 進撃の巨人 完結編 THE LAST ATTACK   8.81                            Action, Drama, Suspense             Gore, Military, Survival      Shounen  A compilation movie for Shingeki no Kyojin: Th...       Movie       1.0          NaN                                        Pony Canyon                               MAPPA        Manga    2 hr 25 min  R - 17+ (violence & profanity)     32.0        4169        220       5737    32307\n",
      "360       60108  https://myanimelist.net/anime/60108/One_Piece_...  https://cdn.myanimelist.net/images/anime/1928/...                          One Piece: Gyojin Tou-hen                One Piece Log: Fish-Man Island Saga  SPECIAL EDITED VERSION『ONE PIECE』魚人島編   8.23                         Action, Adventure, Fantasy                                  NaN      Shounen  Two years after the Summit War, Monkey D. Luff...          TV      21.0    fall 2024                                                NaN                      Toei Animation        Manga  23 min per ep       PG-13 - Teens 13 or older    362.0        4176        144       5830    32042\n",
      "361       60108  https://myanimelist.net/anime/60108/One_Piece_...  https://cdn.myanimelist.net/images/anime/1928/...                          One Piece: Gyojin Tou-hen                One Piece Log: Fish-Man Island Saga  SPECIAL EDITED VERSION『ONE PIECE』魚人島編   8.23                         Action, Adventure, Fantasy                                  NaN      Shounen  Two years after the Summit War, Monkey D. Luff...          TV      21.0    fall 2024                                                NaN                      Toei Animation        Manga  23 min per ep       PG-13 - Teens 13 or older    362.0        4176        144       5830    32042\n",
      "488       59150  https://myanimelist.net/anime/59150/Wu_Liuqi__...  https://cdn.myanimelist.net/images/anime/1126/...                             Wu Liuqi: Jiyi Suipian                 Scissor Seven: Fragments of Memory                               伍六七之记忆碎片   8.13  Action, Adventure, Comedy, Drama, Mystery, Sci...                                  NaN          NaN  In order to find his cherished partner, Wu Liu...         ONA      10.0          NaN                                                NaN  Sharefun Studio, AHA Entertainment     Original  15 min per ep  R - 17+ (violence & profanity)    486.0        6917         42       2142     9459\n",
      "489       59150  https://myanimelist.net/anime/59150/Wu_Liuqi__...  https://cdn.myanimelist.net/images/anime/1126/...                             Wu Liuqi: Jiyi Suipian                 Scissor Seven: Fragments of Memory                               伍六七之记忆碎片   8.13  Action, Adventure, Comedy, Drama, Mystery, Sci...                                  NaN          NaN  In order to find his cherished partner, Wu Liu...         ONA      10.0          NaN                                                NaN  Sharefun Studio, AHA Entertainment     Original  15 min per ep  R - 17+ (violence & profanity)    486.0        6917         42       2142     9459\n",
      "689       60988  https://myanimelist.net/anime/60988/Tian_Guan_...  https://cdn.myanimelist.net/images/anime/1182/...                          Tian Guan Cifu Short Film              Heaven Official's Blessing Short Film                                天官賜福 短片   7.99                  Action, Adventure, Drama, Fantasy                Historical, Mythology          NaN  A short film celebrating the fourth anniversar...         ONA       NaN          NaN                                           bilibili                                 NaN    Web novel          8 min       PG-13 - Teens 13 or older    676.0        9992         28        511     3547\n",
      "690       60988  https://myanimelist.net/anime/60988/Tian_Guan_...  https://cdn.myanimelist.net/images/anime/1182/...                          Tian Guan Cifu Short Film              Heaven Official's Blessing Short Film                                天官賜福 短片   7.99                  Action, Adventure, Drama, Fantasy                Historical, Mythology          NaN  A short film celebrating the fourth anniversar...         ONA       NaN          NaN                                           bilibili                                 NaN    Web novel          8 min       PG-13 - Teens 13 or older    676.0        9992         28        511     3547\n",
      "725       59497  https://myanimelist.net/anime/59497/Rising_Imp...  https://cdn.myanimelist.net/images/anime/1161/...                             Rising Impact Season 2                                                NaN                       ライジングインパクト シーズン2   7.96                                             Sports                                  NaN      Shounen                    Second season of Rising Impact.         ONA      14.0          NaN                                                NaN                            Lay-duce        Manga  24 min per ep       PG-13 - Teens 13 or older    715.0        6805         42       6172     9856\n",
      "726       59497  https://myanimelist.net/anime/59497/Rising_Imp...  https://cdn.myanimelist.net/images/anime/1161/...                             Rising Impact Season 2                                                NaN                       ライジングインパクト シーズン2   7.96                                             Sports                                  NaN      Shounen                    Second season of Rising Impact.         ONA      14.0          NaN                                                NaN                            Lay-duce        Manga  24 min per ep       PG-13 - Teens 13 or older    715.0        6805         42       6172     9856\n",
      "2589      60012  https://myanimelist.net/anime/60012/Re_Zero_ka...  https://cdn.myanimelist.net/images/anime/1349/...        Re:Zero kara Hajimeru Break Time 3rd Season   Re:ZERO ~Starting Break Time From Zero~ Season 3      Re:ゼロから始める休憩時間（ブレイクタイム）3rd season   7.37                                             Comedy                                  NaN          NaN  The third season of Re:Zero kara Hajimeru Kyuu...     Special       NaN          NaN                                                NaN                      Studio PuYUKAI  Light novel          2 min       PG-13 - Teens 13 or older   2485.0        7516         40        879     7653\n",
      "2590      60012  https://myanimelist.net/anime/60012/Re_Zero_ka...  https://cdn.myanimelist.net/images/anime/1349/...        Re:Zero kara Hajimeru Break Time 3rd Season   Re:ZERO ~Starting Break Time From Zero~ Season 3      Re:ゼロから始める休憩時間（ブレイクタイム）3rd season   7.37                                             Comedy                                  NaN          NaN  The third season of Re:Zero kara Hajimeru Kyuu...     Special       NaN          NaN                                                NaN                      Studio PuYUKAI  Light novel          2 min       PG-13 - Teens 13 or older   2485.0        7516         40        879     7653\n",
      "3362      60356   https://myanimelist.net/anime/60356/Teenage_Blue  https://cdn.myanimelist.net/images/anime/1761/...                                       Teenage Blue                                                NaN                             ティーンエイジブルー   7.23                                                NaN                                Music          NaN  Music video for the song Teenage Blue by Eve. ...       Music       1.0          NaN                                                NaN                                 NaN     Original          3 min       PG-13 - Teens 13 or older      NaN       12083          5        849     1898\n",
      "3363      60356   https://myanimelist.net/anime/60356/Teenage_Blue  https://cdn.myanimelist.net/images/anime/1761/...                                       Teenage Blue                                                NaN                             ティーンエイジブルー   7.23                                                NaN                                Music          NaN  Music video for the song Teenage Blue by Eve. ...       Music       1.0          NaN                                                NaN                                 NaN     Original          3 min       PG-13 - Teens 13 or older      NaN       12083          5        849     1898\n",
      "3554      60407  https://myanimelist.net/anime/60407/Kimi_to_Id...  https://cdn.myanimelist.net/images/anime/1277/...                              Kimi to Idol Precure♪                              You and Idol Precure♪                          キミとアイドルプリキュア♪   7.20                                             Action                         Mahou Shoujo          NaN  Uta Sakura is a lively and energetic middle sc...          TV       NaN  winter 2025                                                NaN                      Toei Animation     Original         24 min                    G - All Ages   3365.0        9859         23        411     3717\n",
      "3555      60407  https://myanimelist.net/anime/60407/Kimi_to_Id...  https://cdn.myanimelist.net/images/anime/1277/...                              Kimi to Idol Precure♪                              You and Idol Precure♪                          キミとアイドルプリキュア♪   7.20                                             Action                         Mahou Shoujo          NaN  Uta Sakura is a lively and energetic middle sc...          TV       NaN  winter 2025                                                NaN                      Toei Animation     Original         24 min                    G - All Ages   3365.0        9859         23        411     3717\n",
      "3793      59276  https://myanimelist.net/anime/59276/Seitokai_n...  https://cdn.myanimelist.net/images/anime/1485/...                      Seitokai ni mo Ana wa Aru! PV                                                NaN                         生徒会のCMを撮影するぞー！   7.16                                             Comedy                               School      Shounen  A promotional video advertising the Seitokai n...          PV       1.0          NaN                                                NaN                            Passione        Manga         21 sec       PG-13 - Teens 13 or older      NaN       12014         15        650     1938\n",
      "3794      59276  https://myanimelist.net/anime/59276/Seitokai_n...  https://cdn.myanimelist.net/images/anime/1485/...                      Seitokai ni mo Ana wa Aru! PV                                                NaN                         生徒会のCMを撮影するぞー！   7.16                                             Comedy                               School      Shounen  A promotional video advertising the Seitokai n...          PV       1.0          NaN                                                NaN                            Passione        Manga         21 sec       PG-13 - Teens 13 or older      NaN       12014         15        650     1938\n",
      "4047      59390   https://myanimelist.net/anime/59390/Terminator_0  https://cdn.myanimelist.net/images/anime/1655/...                                       Terminator 0                                    Terminator Zero                              ターミネーター 0   7.12                                     Action, Sci-Fi                          Time Travel          NaN  Decades after the sentient artificial intellig...         ONA       8.0          NaN                                           Skydance                      Production I.G        Other  27 min per ep  R - 17+ (violence & profanity)   3792.0        5159         68       9719    19754\n",
      "4048      59390   https://myanimelist.net/anime/59390/Terminator_0  https://cdn.myanimelist.net/images/anime/1655/...                                       Terminator 0                                    Terminator Zero                              ターミネーター 0   7.12                                     Action, Sci-Fi                          Time Travel          NaN  Decades after the sentient artificial intellig...         ONA       8.0          NaN                                           Skydance                      Production I.G        Other  27 min per ep  R - 17+ (violence & profanity)   3792.0        5159         68       9719    19754\n",
      "4112      60089  https://myanimelist.net/anime/60089/Chang_Shen...  https://cdn.myanimelist.net/images/anime/1757/...                                    Chang Sheng Jie                                 World of Immortals                                    长生界   7.11                         Action, Adventure, Fantasy                                  NaN          NaN  The World of Immortals, it is the world every ...         ONA      26.0          NaN                           Tencent Penguin Pictures                   Qingxiang Culture        Novel  20 min per ep       PG-13 - Teens 13 or older   3847.0       13381          8        207     1264\n",
      "4113      60089  https://myanimelist.net/anime/60089/Chang_Shen...  https://cdn.myanimelist.net/images/anime/1757/...                                    Chang Sheng Jie                                 World of Immortals                                    长生界   7.11                         Action, Adventure, Fantasy                                  NaN          NaN  The World of Immortals, it is the world every ...         ONA      26.0          NaN                           Tencent Penguin Pictures                   Qingxiang Culture        Novel  20 min per ep       PG-13 - Teens 13 or older   3847.0       13381          8        207     1264\n",
      "4338      60662  https://myanimelist.net/anime/60662/Neko_ni_Na...  https://cdn.myanimelist.net/images/anime/1528/...                       Neko ni Naritai Tamagawa-kun                                                NaN                            猫になりたい田万川くん   7.07                                  Boys Love, Comedy                                  NaN          NaN  For Tamagawa, volunteering at a cat café is th...  TV Special       1.0          NaN                          Dentsu, Kodansha, Maxilla                             Aeonium        Manga         17 min       PG-13 - Teens 13 or older   4079.0       11301         12        562     2398\n",
      "4339      60662  https://myanimelist.net/anime/60662/Neko_ni_Na...  https://cdn.myanimelist.net/images/anime/1528/...                       Neko ni Naritai Tamagawa-kun                                                NaN                            猫になりたい田万川くん   7.07                                  Boys Love, Comedy                                  NaN          NaN  For Tamagawa, volunteering at a cat café is th...  TV Special       1.0          NaN                          Dentsu, Kodansha, Maxilla                             Aeonium        Manga         17 min       PG-13 - Teens 13 or older   4079.0       11301         12        562     2398\n",
      "4966      59914  https://myanimelist.net/anime/59914/Kinnikuman...  https://cdn.myanimelist.net/images/anime/1228/...     Kinnikuman: Kanpeki Chоujin Shiso-hen Season 2            Kinnikuman: Perfect Origin Arc Season 2                  キン肉マン 完璧超人始祖編 Season2   6.95                                     Comedy, Sports                        Combat Sports      Shounen  Second season of Kinnikuman: Kanpeki Chоujin S...          TV       NaN  winter 2025  Toei Animation, Pony Canyon, Shueisha, BS11, A...                      Production I.G        Manga         23 min       PG-13 - Teens 13 or older   4598.0       11189          5        251     2477\n",
      "4967      59914  https://myanimelist.net/anime/59914/Kinnikuman...  https://cdn.myanimelist.net/images/anime/1228/...     Kinnikuman: Kanpeki Chоujin Shiso-hen Season 2            Kinnikuman: Perfect Origin Arc Season 2                  キン肉マン 完璧超人始祖編 Season2   6.95                                     Comedy, Sports                        Combat Sports      Shounen  Second season of Kinnikuman: Kanpeki Chоujin S...          TV       NaN  winter 2025  Toei Animation, Pony Canyon, Shueisha, BS11, A...                      Production I.G        Manga         23 min       PG-13 - Teens 13 or older   4598.0       11189          5        251     2477\n",
      "5014      60192  https://myanimelist.net/anime/60192/Flower_Rha...  https://cdn.myanimelist.net/images/anime/1252/...                                    Flower Rhapsody                                                NaN                        flower rhapsody   6.94                                                NaN                Idols (Female), Music          NaN  Music video for the song Flower Rhapsody by Sa...       Music       1.0          NaN                                                NaN                          Studio Kai     Original          4 min       PG-13 - Teens 13 or older      NaN       19270          3        156      328\n",
      "5015      60192  https://myanimelist.net/anime/60192/Flower_Rha...  https://cdn.myanimelist.net/images/anime/1252/...                                    Flower Rhapsody                                                NaN                        flower rhapsody   6.94                                                NaN                Idols (Female), Music          NaN  Music video for the song Flower Rhapsody by Sa...       Music       1.0          NaN                                                NaN                          Studio Kai     Original          4 min       PG-13 - Teens 13 or older      NaN       19270          3        156      328\n",
      "5016      59750     https://myanimelist.net/anime/59750/Go-Getters  https://cdn.myanimelist.net/images/anime/1329/...                                         Go-Getters                                                NaN                                    NaN   6.94                                                NaN                                Music          NaN  Music video for the song Go-Getters by Mori Ca...       Music       1.0          NaN                                                NaN                          Wit Studio     Original          3 min       PG-13 - Teens 13 or older      NaN       10305         15       1659     3203\n",
      "5017      59750     https://myanimelist.net/anime/59750/Go-Getters  https://cdn.myanimelist.net/images/anime/1329/...                                         Go-Getters                                                NaN                                    NaN   6.94                                                NaN                                Music          NaN  Music video for the song Go-Getters by Mori Ca...       Music       1.0          NaN                                                NaN                          Wit Studio     Original          3 min       PG-13 - Teens 13 or older      NaN       10305         15       1659     3203\n",
      "5378      60051         https://myanimelist.net/anime/60051/Mirage  https://cdn.myanimelist.net/images/anime/1375/...                                             Mirage                                                NaN                                 MIRAGE   6.88                                                NaN                                Music          NaN  Music video for the song Mirage by Takanashi K...       Music       1.0          NaN                                                NaN                                 NaN     Original          3 min       PG-13 - Teens 13 or older      NaN       15253          3        346      749\n",
      "5379      60051         https://myanimelist.net/anime/60051/Mirage  https://cdn.myanimelist.net/images/anime/1375/...                                             Mirage                                                NaN                                 MIRAGE   6.88                                                NaN                                Music          NaN  Music video for the song Mirage by Takanashi K...       Music       1.0          NaN                                                NaN                                 NaN     Original          3 min       PG-13 - Teens 13 or older      NaN       15253          3        346      749\n",
      "5744      59465  https://myanimelist.net/anime/59465/Fate_Grand...  https://cdn.myanimelist.net/images/anime/1412/...  Fate/Grand Order: Fujimaru Ritsuka wa Wakarana...  Fate/Grand Order: You've Lost Ritsuka Fujimaru...    Fate/Grand Order 藤丸立香はわからない Season2   6.82                                             Comedy                                  NaN          NaN  Second season of Fate/Grand Order: Fujimaru Ri...         ONA      26.0          NaN                                       INSPION Edge                                 DLE        Manga   2 min per ep       PG-13 - Teens 13 or older   5260.0       11771          2        305     2083\n",
      "5745      59465  https://myanimelist.net/anime/59465/Fate_Grand...  https://cdn.myanimelist.net/images/anime/1412/...  Fate/Grand Order: Fujimaru Ritsuka wa Wakarana...  Fate/Grand Order: You've Lost Ritsuka Fujimaru...    Fate/Grand Order 藤丸立香はわからない Season2   6.82                                             Comedy                                  NaN          NaN  Second season of Fate/Grand Order: Fujimaru Ri...         ONA      26.0          NaN                                       INSPION Edge                                 DLE        Manga   2 min per ep       PG-13 - Teens 13 or older   5260.0       11771          2        305     2083\n",
      "5805      59773     https://myanimelist.net/anime/59773/Shishigari  https://cdn.myanimelist.net/images/anime/1232/...                                         Shishigari                                                NaN                                   シシガリ   6.81                                Adventure, Suspense                             Survival          NaN  Deep in the northern mountains, there are peop...       Movie       1.0          NaN                                                NaN                       Studio DURIAN     Original         16 min       PG-13 - Teens 13 or older   5286.0       18000          1        106      418\n",
      "5806      59773     https://myanimelist.net/anime/59773/Shishigari  https://cdn.myanimelist.net/images/anime/1232/...                                         Shishigari                                                NaN                                   シシガリ   6.81                                Adventure, Suspense                             Survival          NaN  Deep in the northern mountains, there are peop...       Movie       1.0          NaN                                                NaN                       Studio DURIAN     Original         16 min       PG-13 - Teens 13 or older   5286.0       18000          1        106      418\n",
      "6053      59785        https://myanimelist.net/anime/59785/Allegro  https://cdn.myanimelist.net/images/anime/1015/...                                            Allegro                                                NaN                                Allegro   6.77                                             Sci-Fi                                Music          NaN  Music video for the song Allegro by Midnight G...       Music       1.0          NaN                                Hololive Production                          Wit Studio     Original          3 min       PG-13 - Teens 13 or older      NaN       19963          0        164      286\n",
      "6054      59785        https://myanimelist.net/anime/59785/Allegro  https://cdn.myanimelist.net/images/anime/1015/...                                            Allegro                                                NaN                                Allegro   6.77                                             Sci-Fi                                Music          NaN  Music video for the song Allegro by Midnight G...       Music       1.0          NaN                                Hololive Production                          Wit Studio     Original          3 min       PG-13 - Teens 13 or older      NaN       19963          0        164      286\n",
      "6200      60547  https://myanimelist.net/anime/60547/Tteotda_Ke...  https://cdn.myanimelist.net/images/anime/1686/...                     Tteotda Keunyeo!! Another Step                        There She Is!! Another Step                   떳다 그녀!! another step   6.75                                             Comedy                      Anthropomorphic          NaN                                                NaN         ONA       1.0          NaN                                                NaN                                 NaN     Original         12 min                    G - All Ages   5623.0       16512          0        177      558\n",
      "6201      60547  https://myanimelist.net/anime/60547/Tteotda_Ke...  https://cdn.myanimelist.net/images/anime/1686/...                     Tteotda Keunyeo!! Another Step                        There She Is!! Another Step                   떳다 그녀!! another step   6.75                                             Comedy                      Anthropomorphic          NaN                                                NaN         ONA       1.0          NaN                                                NaN                                 NaN     Original         12 min                    G - All Ages   5623.0       16512          0        177      558\n",
      "6202      59730  https://myanimelist.net/anime/59730/A-Rank_Par...  https://cdn.myanimelist.net/images/anime/1167/...  A-Rank Party wo Ridatsu shita Ore wa, Moto Osh...  I Left My A-Rank Party to Help My Former Stude...       Aランクパーティを離脱した俺は、元教え子たちと迷宮深部を目指す。   6.75                         Action, Adventure, Fantasy                                  NaN          NaN  \"I can't do this anymore!\" Yuke Feldio, a red ...          TV      24.0  winter 2025  Lantis, Kodansha, Nippon Television Network, S...               Bandai Namco Pictures  Light novel  23 min per ep       PG-13 - Teens 13 or older   5592.0        3352        118       7729    48914\n",
      "6203      59730  https://myanimelist.net/anime/59730/A-Rank_Par...  https://cdn.myanimelist.net/images/anime/1167/...  A-Rank Party wo Ridatsu shita Ore wa, Moto Osh...  I Left My A-Rank Party to Help My Former Stude...       Aランクパーティを離脱した俺は、元教え子たちと迷宮深部を目指す。   6.75                         Action, Adventure, Fantasy                                  NaN          NaN  \"I can't do this anymore!\" Yuke Feldio, a red ...          TV      24.0  winter 2025  Lantis, Kodansha, Nippon Television Network, S...               Bandai Namco Pictures  Light novel  23 min per ep       PG-13 - Teens 13 or older   5592.0        3352        118       7729    48914\n",
      "6699      59363  https://myanimelist.net/anime/59363/Mayonaka_P...  https://cdn.myanimelist.net/images/anime/1646/...                         Mayonaka Punch Short Anime                                                NaN                         真夜中ぱんチ ショートアニメ   6.68                               Comedy, Supernatural                              Vampire          NaN  Original anime capturing MayoPan members' solo...         ONA       5.0          NaN                                                NaN                          P.A. Works     Original   4 min per ep       PG-13 - Teens 13 or older   6016.0       12111          1        477     1883\n",
      "6700      59363  https://myanimelist.net/anime/59363/Mayonaka_P...  https://cdn.myanimelist.net/images/anime/1646/...                         Mayonaka Punch Short Anime                                                NaN                         真夜中ぱんチ ショートアニメ   6.68                               Comedy, Supernatural                              Vampire          NaN  Original anime capturing MayoPan members' solo...         ONA       5.0          NaN                                                NaN                          P.A. Works     Original   4 min per ep       PG-13 - Teens 13 or older   6016.0       12111          1        477     1883\n",
      "7181      59666  https://myanimelist.net/anime/59666/Bananya__A...  https://cdn.myanimelist.net/images/anime/1195/...                          Bananya: Around the World                           Bananya Around the World                      ばなにゃ あらうんど ざ わーるど   6.62                                      Slice of Life                      Anthropomorphic         Kids                           Third season of Bananya.         ONA      13.0          NaN                          DAX Production, TMS Music          TMS Entertainment, Lesprit     Original   3 min per ep                    G - All Ages   6386.0       11195          7        899     2470\n",
      "7182      59666  https://myanimelist.net/anime/59666/Bananya__A...  https://cdn.myanimelist.net/images/anime/1195/...                          Bananya: Around the World                           Bananya Around the World                      ばなにゃ あらうんど ざ わーるど   6.62                                      Slice of Life                      Anthropomorphic         Kids                           Third season of Bananya.         ONA      13.0          NaN                          DAX Production, TMS Music          TMS Entertainment, Lesprit     Original   3 min per ep                    G - All Ages   6386.0       11195          7        899     2470\n",
      "8162      59493  https://myanimelist.net/anime/59493/Tensei_shi...  https://cdn.myanimelist.net/images/anime/1465/...  Tensei shitara Slime Datta Ken: Kanwa - Lumino...  That Time I Got Reincarnated as a Slime Season...             転生したらスライムだった件 閑話:ルミナスメモリーズ   6.49                 Action, Adventure, Comedy, Fantasy                               Isekai          NaN  Recap of Tensei shitara Slime Datta Ken 3rd Se...  TV Special       1.0          NaN                                                NaN                                8bit        Manga         24 min       PG-13 - Teens 13 or older   7129.0        5280         17       6097    18671\n",
      "8163      59493  https://myanimelist.net/anime/59493/Tensei_shi...  https://cdn.myanimelist.net/images/anime/1465/...  Tensei shitara Slime Datta Ken: Kanwa - Lumino...  That Time I Got Reincarnated as a Slime Season...             転生したらスライムだった件 閑話:ルミナスメモリーズ   6.49                 Action, Adventure, Comedy, Fantasy                               Isekai          NaN  Recap of Tensei shitara Slime Datta Ken 3rd Se...  TV Special       1.0          NaN                                                NaN                                8bit        Manga         24 min       PG-13 - Teens 13 or older   7129.0        5280         17       6097    18671\n",
      "8653      60546  https://myanimelist.net/anime/60546/Momose_Aki...  https://cdn.myanimelist.net/images/anime/1700/...             Momose Akira no Hatsukoi Hatanchuu. PV                                                NaN                         百瀬アキラの初恋破綻中。PV   6.43                                    Comedy, Romance              Love Status Quo, School      Shounen  Promotional video commemorating the release of...          PV       1.0          NaN                                                NaN                                 NaN        Manga         52 sec       PG-13 - Teens 13 or older      NaN       13470         15        172     1237\n",
      "8654      60546  https://myanimelist.net/anime/60546/Momose_Aki...  https://cdn.myanimelist.net/images/anime/1700/...             Momose Akira no Hatsukoi Hatanchuu. PV                                                NaN                         百瀬アキラの初恋破綻中。PV   6.43                                    Comedy, Romance              Love Status Quo, School      Shounen  Promotional video commemorating the release of...          PV       1.0          NaN                                                NaN                                 NaN        Manga         52 sec       PG-13 - Teens 13 or older      NaN       13470         15        172     1237\n",
      "8825      56207  https://myanimelist.net/anime/56207/Quanzhi_Fa...  https://cdn.myanimelist.net/images/anime/1516/...            Quanzhi Fashi Tebie Pian: Shenmi Weituo                                                NaN                          全职法师 特别篇 神秘委托   6.41                                    Action, Fantasy                               School          NaN  The hero mage Mo Fan and his partner Ling Ling...         ONA       6.0          NaN                           Tencent Penguin Pictures                           Foch Film    Web novel  22 min per ep       PG-13 - Teens 13 or older   7643.0       10176         12        541     3347\n",
      "8826      56207  https://myanimelist.net/anime/56207/Quanzhi_Fa...  https://cdn.myanimelist.net/images/anime/1516/...            Quanzhi Fashi Tebie Pian: Shenmi Weituo                                                NaN                          全职法师 特别篇 神秘委托   6.41                                    Action, Fantasy                               School          NaN  The hero mage Mo Fan and his partner Ling Ling...         ONA       6.0          NaN                           Tencent Penguin Pictures                           Foch Film    Web novel  22 min per ep       PG-13 - Teens 13 or older   7643.0       10176         12        541     3347\n",
      "9299      60550         https://myanimelist.net/anime/60550/Vortex  https://cdn.myanimelist.net/images/anime/1060/...                                             Vortex                                             VORTEX                                 VORTEX   6.35                                                NaN                                Music          NaN  Music video for the song Vortex by Setsuko (Ku...       Music       1.0          NaN                                        Pony Canyon                         TriF Studio     Original          3 min       PG-13 - Teens 13 or older      NaN       21040          0        114      227\n",
      "9300      60550         https://myanimelist.net/anime/60550/Vortex  https://cdn.myanimelist.net/images/anime/1060/...                                             Vortex                                             VORTEX                                 VORTEX   6.35                                                NaN                                Music          NaN  Music video for the song Vortex by Setsuko (Ku...       Music       1.0          NaN                                        Pony Canyon                         TriF Studio     Original          3 min       PG-13 - Teens 13 or older      NaN       21040          0        114      227\n",
      "9795      60042  https://myanimelist.net/anime/60042/Sakuranbo_...  https://cdn.myanimelist.net/images/anime/1676/...                                  Sakuranbo Message                                     Cherry Message                             さくらんぼメッセージ   6.29                                                NaN                Idols (Female), Music          NaN  Music video for the song Sakuranbo Message by ...       Music       1.0          NaN                                                NaN                                 NaN     Original          3 min       PG-13 - Teens 13 or older      NaN       21085          0        120      225\n",
      "9796      60042  https://myanimelist.net/anime/60042/Sakuranbo_...  https://cdn.myanimelist.net/images/anime/1676/...                                  Sakuranbo Message                                     Cherry Message                             さくらんぼメッセージ   6.29                                                NaN                Idols (Female), Music          NaN  Music video for the song Sakuranbo Message by ...       Music       1.0          NaN                                                NaN                                 NaN     Original          3 min       PG-13 - Teens 13 or older      NaN       21085          0        120      225\n",
      "9885      60652  https://myanimelist.net/anime/60652/Shiawase√K...  https://cdn.myanimelist.net/images/anime/1130/...                                Shiawase√Koyorinium                                                NaN                            シアワセ√コヨリニウム   6.28                                                NaN                Idols (Female), Music          NaN  Music video for the song Shiawase√Koyorinium b...       Music       1.0          NaN                                                NaN                                 NaN     Original          3 min       PG-13 - Teens 13 or older      NaN       17300          0        199      476\n",
      "9886      60652  https://myanimelist.net/anime/60652/Shiawase√K...  https://cdn.myanimelist.net/images/anime/1130/...                                Shiawase√Koyorinium                                                NaN                            シアワセ√コヨリニウム   6.28                                                NaN                Idols (Female), Music          NaN  Music video for the song Shiawase√Koyorinium b...       Music       1.0          NaN                                                NaN                                 NaN     Original          3 min       PG-13 - Teens 13 or older      NaN       17300          0        199      476\n",
      "10437     60084  https://myanimelist.net/anime/60084/Delicos_Nu...  https://cdn.myanimelist.net/images/anime/1424/...                     Delico's Nursery: Ikuji Nisshi                                                NaN                       『デリコズ・ナーサリー』育児日誌   6.21                                   Fantasy, Mystery  Childcare, Organized Crime, Vampire          NaN  From the pages of Dali's child-rearing journal...  TV Special       1.0          NaN                                                NaN                           J.C.Staff        Other         23 min       PG-13 - Teens 13 or older   8776.0       14494          1        296      938\n",
      "10438     60084  https://myanimelist.net/anime/60084/Delicos_Nu...  https://cdn.myanimelist.net/images/anime/1424/...                     Delico's Nursery: Ikuji Nisshi                                                NaN                       『デリコズ・ナーサリー』育児日誌   6.21                                   Fantasy, Mystery  Childcare, Organized Crime, Vampire          NaN  From the pages of Dali's child-rearing journal...  TV Special       1.0          NaN                                                NaN                           J.C.Staff        Other         23 min       PG-13 - Teens 13 or older   8776.0       14494          1        296      938\n",
      "10439     50385  https://myanimelist.net/anime/50385/One_Piece_...  https://cdn.myanimelist.net/images/anime/1358/...                           One Piece Characters Log                                                NaN                       ワンピース_キャラクターズLog   6.21                   Action, Adventure, Comedy, Drama                                  NaN      Shounen  One Piece Characters Log is the third episode ...     Special       9.0          NaN                                                NaN                      Toei Animation        Manga  24 min per ep       PG-13 - Teens 13 or older   8817.0       17225          0        126      483\n",
      "10440     50385  https://myanimelist.net/anime/50385/One_Piece_...  https://cdn.myanimelist.net/images/anime/1358/...                           One Piece Characters Log                                                NaN                       ワンピース_キャラクターズLog   6.21                   Action, Adventure, Comedy, Drama                                  NaN      Shounen  One Piece Characters Log is the third episode ...     Special       9.0          NaN                                                NaN                      Toei Animation        Manga  24 min per ep       PG-13 - Teens 13 or older   8817.0       17225          0        126      483\n",
      "10441     59523  https://myanimelist.net/anime/59523/Mazome_Soa...  https://cdn.myanimelist.net/images/anime/1117/...                           Mazome Soap de Aimashou!                                                NaN                        マゾメスソープで逢いましょう!   6.21                                             Hentai                                  NaN          NaN  Mitsurugi and Nagihara, the new employees at t...         OVA       2.0          NaN                               Queen Bee, Mediabank                          Blue bread        Manga  20 min per ep                     Rx - Hentai      NaN       12358          5        488     1721\n",
      "10442     59523  https://myanimelist.net/anime/59523/Mazome_Soa...  https://cdn.myanimelist.net/images/anime/1117/...                           Mazome Soap de Aimashou!                                                NaN                        マゾメスソープで逢いましょう!   6.21                                             Hentai                                  NaN          NaN  Mitsurugi and Nagihara, the new employees at t...         OVA       2.0          NaN                               Queen Bee, Mediabank                          Blue bread        Manga  20 min per ep                     Rx - Hentai      NaN       12358          5        488     1721\n",
      "13323     60425  https://myanimelist.net/anime/60425/0-saiji_St...  https://cdn.myanimelist.net/images/anime/1477/...             0-saiji Start Dash Monogatari Season 2     0 Years Old Child Starting Dash Story Season 2                    0歳児スタートダッシュ物語 シーズン2   5.82                                 Adventure, Fantasy                Isekai, Reincarnation          NaN  After reincarnating from her previous life as ...          TV       NaN  winter 2025                                                NaN                                 NaN        Manga          4 min       PG-13 - Teens 13 or older  10808.0       10792          8        175     2793\n",
      "13324     60425  https://myanimelist.net/anime/60425/0-saiji_St...  https://cdn.myanimelist.net/images/anime/1477/...             0-saiji Start Dash Monogatari Season 2     0 Years Old Child Starting Dash Story Season 2                    0歳児スタートダッシュ物語 シーズン2   5.82                                 Adventure, Fantasy                Isekai, Reincarnation          NaN  After reincarnating from her previous life as ...          TV       NaN  winter 2025                                                NaN                                 NaN        Manga          4 min       PG-13 - Teens 13 or older  10808.0       10792          8        175     2793\n",
      "13992     58873  https://myanimelist.net/anime/58873/Mark_Your_...  https://cdn.myanimelist.net/images/anime/1558/...                       Mark Your Kiss The Animation                                                NaN         MARK YOUR KISS ~The Animation~   5.72                                             Hentai                                  NaN          NaN                                                NaN         ONA       1.0          NaN                                                NaN                                 NaN        Manga         12 min                     Rx - Hentai      NaN       16873          5        164      518\n",
      "13993     58873  https://myanimelist.net/anime/58873/Mark_Your_...  https://cdn.myanimelist.net/images/anime/1558/...                       Mark Your Kiss The Animation                                                NaN         MARK YOUR KISS ~The Animation~   5.72                                             Hentai                                  NaN          NaN                                                NaN         ONA       1.0          NaN                                                NaN                                 NaN        Manga         12 min                     Rx - Hentai      NaN       16873          5        164      518\n"
     ]
    }
   ],
   "source": [
    "def check_duplicates(df, subset=None):\n",
    "    dups = df[df.duplicated(subset=subset, keep=False)]\n",
    "    print(f\"Duplicates ({len(dups)}):\\n{dups}\" if not dups.empty else \"No duplicates found.\")\n",
    "\n",
    "check_duplicates(df_anime) "
   ]
  },
  {
   "cell_type": "code",
   "execution_count": 7,
   "metadata": {},
   "outputs": [],
   "source": [
    "# Very quick check for more accuracy\n",
    "df_anime['concat'] = df_anime['anime_id'].astype(str) + '_' + df_anime['name'].astype(str) + '_' + df_anime['popularity'].astype(str)\n",
    "\n",
    "len(df_anime) # 15000\n",
    "df_anime['concat'].nunique() # 14966\n",
    "\n",
    "df_anime.drop('concat', axis=1, inplace=True)"
   ]
  },
  {
   "cell_type": "markdown",
   "metadata": {},
   "source": [
    "## Droping duplicates "
   ]
  },
  {
   "cell_type": "code",
   "execution_count": 8,
   "metadata": {},
   "outputs": [
    {
     "data": {
      "text/plain": [
       "14966"
      ]
     },
     "execution_count": 8,
     "metadata": {},
     "output_type": "execute_result"
    }
   ],
   "source": [
    "def drop_duplicates(df, subset=None, inplace=False):\n",
    "    df.drop_duplicates(subset=subset, keep='first', inplace=inplace)\n",
    "    if not inplace:\n",
    "        return df\n",
    "\n",
    "drop_duplicates(df_anime, inplace=True)\n",
    "len(df_anime)"
   ]
  },
  {
   "cell_type": "markdown",
   "metadata": {},
   "source": [
    "# Checking data to impute/inferred"
   ]
  },
  {
   "cell_type": "code",
   "execution_count": 27,
   "metadata": {},
   "outputs": [
    {
     "data": {
      "application/vnd.microsoft.datawrangler.viewer.v0+json": {
       "columns": [
        {
         "name": "index",
         "rawType": "int64",
         "type": "integer"
        },
        {
         "name": "anime_id",
         "rawType": "int64",
         "type": "integer"
        },
        {
         "name": "anime_url",
         "rawType": "object",
         "type": "string"
        },
        {
         "name": "image_url",
         "rawType": "object",
         "type": "string"
        },
        {
         "name": "name",
         "rawType": "object",
         "type": "string"
        },
        {
         "name": "english_name",
         "rawType": "object",
         "type": "unknown"
        },
        {
         "name": "japanese_names",
         "rawType": "object",
         "type": "string"
        },
        {
         "name": "score",
         "rawType": "float64",
         "type": "float"
        },
        {
         "name": "genres",
         "rawType": "object",
         "type": "unknown"
        },
        {
         "name": "themes",
         "rawType": "object",
         "type": "unknown"
        },
        {
         "name": "synopsis",
         "rawType": "object",
         "type": "string"
        },
        {
         "name": "type",
         "rawType": "object",
         "type": "string"
        },
        {
         "name": "episodes",
         "rawType": "float64",
         "type": "float"
        },
        {
         "name": "producers",
         "rawType": "object",
         "type": "unknown"
        },
        {
         "name": "studios",
         "rawType": "object",
         "type": "unknown"
        },
        {
         "name": "source",
         "rawType": "object",
         "type": "string"
        },
        {
         "name": "duration",
         "rawType": "object",
         "type": "string"
        },
        {
         "name": "rating",
         "rawType": "object",
         "type": "string"
        },
        {
         "name": "rank",
         "rawType": "float64",
         "type": "float"
        },
        {
         "name": "popularity",
         "rawType": "int64",
         "type": "integer"
        },
        {
         "name": "favorites",
         "rawType": "int64",
         "type": "integer"
        },
        {
         "name": "scored_by",
         "rawType": "int64",
         "type": "integer"
        },
        {
         "name": "members",
         "rawType": "int64",
         "type": "integer"
        },
        {
         "name": "premiered_season",
         "rawType": "object",
         "type": "string"
        },
        {
         "name": "premiered_year",
         "rawType": "object",
         "type": "string"
        }
       ],
       "conversionMethod": "pd.DataFrame",
       "ref": "757557a1-6db5-45c9-8267-4668ba629d89",
       "rows": [
        [
         "10599",
         "50088",
         "https://myanimelist.net/anime/50088/No2",
         "https://cdn.myanimelist.net/images/anime/1188/118726.jpg",
         "No.2",
         "No.2",
         "ナンバーツー",
         "6.2",
         null,
         "Music",
         "Official music video for the song No.2 by Takuto.",
         "Music",
         "1.0",
         null,
         null,
         "Original",
         "4 min",
         "R - 17+ (violence & profanity)",
         null,
         "21117",
         "0",
         "116",
         "223",
         "unknown",
         "unknown"
        ],
        [
         "13698",
         "1385",
         "https://myanimelist.net/anime/1385/Kurohime__Shikkoku_no_Yakata",
         "https://cdn.myanimelist.net/images/anime/1025/113167.jpg",
         "Kurohime: Shikkoku no Yakata",
         "Black Widow",
         "黒姫 -桎梏の館-",
         "5.77",
         "Hentai",
         null,
         "A camping trip takes a turn for the wild when the group discovers a mystery mansion in the woods. Excitement turns to thrills of terror as people begin to disappear. Too late, they realize they are trapped in the clutches of a mysterious woman. Who is that woman and will the group of campers be able to escape the remote mansion?\n\n(Source: AniDB)",
         "OVA",
         "2.0",
         "Discovery",
         "Mook Animation",
         "Visual novel",
         "28 min per ep",
         "Rx - Hentai",
         null,
         "9228",
         "10",
         "1750",
         "4538",
         "unknown",
         "unknown"
        ],
        [
         "11104",
         "29235",
         "https://myanimelist.net/anime/29235/Ninja_Hattori-kun_Plus_Perman__Chounouryoku_Wars",
         "https://cdn.myanimelist.net/images/anime/3/70411.jpg",
         "Ninja Hattori-kun Plus Perman: Chounouryoku Wars",
         null,
         "忍者ハットリくん＋パーマン 超能力ウォーズ",
         "6.13",
         "Adventure",
         "Martial Arts, Super Power",
         "Crossover film featuring both of Motoo Abiko's work. Both casts gets wrapped up in an ESP war helping a psychic girl named Yuri whose homeland was destroyed by an evil psychic man who is trying to capture all the psychics in the world and use them for world domination.\n\nIt was screened as a double feature with Doraemon: Nobita no Makai Daibouken.",
         "Movie",
         "1.0",
         null,
         "Shin-Ei Animation",
         "Unknown",
         "52 min",
         "PG - Children",
         "9208.0",
         "14327",
         "0",
         "382",
         "984",
         "unknown",
         "unknown"
        ],
        [
         "13743",
         "1644",
         "https://myanimelist.net/anime/1644/Princess_Rouge",
         "https://cdn.myanimelist.net/images/anime/1405/112400.jpg",
         "Princess Rouge",
         null,
         "プリンセス・ルージュ",
         "5.77",
         "Fantasy, Romance",
         null,
         "Yusuke, an orphan, literally has Rouge, the amnesiac oldest daughter of the Underworld's deposed royal family, fall out of the sky into his lap. She is soon followed by her two younger sisters and also their family's enemies. Rouge must decide if she wants her memory to return, while Yusuke must deal with the upheavals in his life the Princesses have caused.\n\n(Source: ANN)",
         "OVA",
         "2.0",
         "AC Create, Cosmic Ray, BEAM Entertainment, NichiNare",
         "J.C.Staff, Front Line",
         "Original",
         "28 min per ep",
         "PG-13 - Teens 13 or older",
         "11088.0",
         "10702",
         "4",
         "1170",
         "2867",
         "unknown",
         "unknown"
        ],
        [
         "7099",
         "30812",
         "https://myanimelist.net/anime/30812/Gyakuten_Majo_Saiban__Chijo_na_Majo_ni_Sabakarechau_The_Animation",
         "https://cdn.myanimelist.net/images/anime/1019/103984.jpg",
         "Gyakuten Majo Saiban: Chijo na Majo ni Sabakarechau The Animation",
         null,
         "逆転魔女裁判 ～痴女な魔女に裁かれちゃう～ THE ANIMATION",
         "6.63",
         "Hentai",
         null,
         "Based on the erotic game by Erectlip.",
         "OVA",
         "1.0",
         "Pink Pineapple",
         "Seven",
         "Visual novel",
         "25 min",
         "Rx - Hentai",
         null,
         "6229",
         "68",
         "5323",
         "12124",
         "unknown",
         "unknown"
        ],
        [
         "3357",
         "1313",
         "https://myanimelist.net/anime/1313/Digimon_Adventure_02",
         "https://cdn.myanimelist.net/images/anime/8/20360.jpg",
         "Digimon Adventure 02",
         "Digimon Adventure 02",
         "デジモンアドベンチャー０２",
         "7.24",
         "Action, Adventure, Comedy, Fantasy",
         "Isekai",
         "Taichi Yagami and his friends have moved on to junior high, but by that time, they have lost contact with their Digimon partners. Taichi is therefore surprised to suddenly receive a distress call summoning him to the Digital World. Once there, he learns that Digimon are living in fear of the mysterious Digimon Emperor, who is somehow suppressing their ability to Digivolve!\n\nIn the real world, Hikari Yagami and Takeru Takaishi reunite in the same fifth grade class. They share three schoolmates: Daisuke Motomiya, who reminds them both of Taichi; Miyako Inoue, a technical wizard; and Iori Hida, Miyako's neighbor. When these three children receive \"D-3\" Digivices, they—along with Hikari and Takeru, who still possess their own original Digivices—comprise the new generation of \"Chosen Children\" who must save the world once again. With the power of the Armored Digi-Eggs, they must thwart the Digimon Emperor's plans to spread his influence over the entire Digital World.\n\n[Written by MAL Rewrite]",
         "TV",
         "50.0",
         "Yomiko Advertising, Fuji TV",
         "Toei Animation",
         "Original",
         "25 min per ep",
         "PG - Children",
         "3168.0",
         "1143",
         "778",
         "146320",
         "227373",
         "spring",
         "2000"
        ],
        [
         "3780",
         "12711",
         "https://myanimelist.net/anime/12711/Uta_no☆Prince-sama♪_Maji_Love_2000",
         "https://cdn.myanimelist.net/images/anime/12/44019.jpg",
         "Uta no☆Prince-sama♪ Maji Love 2000%",
         "Uta no Prince Sama 2",
         "うたの☆プリンスさまっ♪ マジLOVE2000%",
         "7.17",
         "Comedy, Romance",
         "Idols (Male), Music, Reverse Harem, School",
         "Entering her Master's course, Nanami Haruka is facing an even more difficult time. And she isn't the only one. The main six members of Starish are assigned new seniors to watch over them! But the seniors aren't having the best attitudes about it.\n\nWatch Uta no☆Prince-sama♪ Maji Love 2000% and find yourself completely engaged in a whole new adventure mixed in with comedy and romance!",
         "TV",
         "13.0",
         "Showgate, King Records",
         "A-1 Pictures",
         "Visual novel",
         "25 min per ep",
         "PG-13 - Teens 13 or older",
         "3535.0",
         "2018",
         "541",
         "57147",
         "115096",
         "spring",
         "2013"
        ]
       ],
       "shape": {
        "columns": 24,
        "rows": 7
       }
      },
      "text/html": [
       "<div>\n",
       "<style scoped>\n",
       "    .dataframe tbody tr th:only-of-type {\n",
       "        vertical-align: middle;\n",
       "    }\n",
       "\n",
       "    .dataframe tbody tr th {\n",
       "        vertical-align: top;\n",
       "    }\n",
       "\n",
       "    .dataframe thead th {\n",
       "        text-align: right;\n",
       "    }\n",
       "</style>\n",
       "<table border=\"1\" class=\"dataframe\">\n",
       "  <thead>\n",
       "    <tr style=\"text-align: right;\">\n",
       "      <th></th>\n",
       "      <th>anime_id</th>\n",
       "      <th>anime_url</th>\n",
       "      <th>image_url</th>\n",
       "      <th>name</th>\n",
       "      <th>english_name</th>\n",
       "      <th>japanese_names</th>\n",
       "      <th>score</th>\n",
       "      <th>genres</th>\n",
       "      <th>themes</th>\n",
       "      <th>synopsis</th>\n",
       "      <th>type</th>\n",
       "      <th>episodes</th>\n",
       "      <th>producers</th>\n",
       "      <th>studios</th>\n",
       "      <th>source</th>\n",
       "      <th>duration</th>\n",
       "      <th>rating</th>\n",
       "      <th>rank</th>\n",
       "      <th>popularity</th>\n",
       "      <th>favorites</th>\n",
       "      <th>scored_by</th>\n",
       "      <th>members</th>\n",
       "      <th>premiered_season</th>\n",
       "      <th>premiered_year</th>\n",
       "    </tr>\n",
       "  </thead>\n",
       "  <tbody>\n",
       "    <tr>\n",
       "      <th>10599</th>\n",
       "      <td>50088</td>\n",
       "      <td>https://myanimelist.net/anime/50088/No2</td>\n",
       "      <td>https://cdn.myanimelist.net/images/anime/1188/...</td>\n",
       "      <td>No.2</td>\n",
       "      <td>No.2</td>\n",
       "      <td>ナンバーツー</td>\n",
       "      <td>6.20</td>\n",
       "      <td>NaN</td>\n",
       "      <td>Music</td>\n",
       "      <td>Official music video for the song No.2 by Takuto.</td>\n",
       "      <td>Music</td>\n",
       "      <td>1.0</td>\n",
       "      <td>NaN</td>\n",
       "      <td>NaN</td>\n",
       "      <td>Original</td>\n",
       "      <td>4 min</td>\n",
       "      <td>R - 17+ (violence &amp; profanity)</td>\n",
       "      <td>NaN</td>\n",
       "      <td>21117</td>\n",
       "      <td>0</td>\n",
       "      <td>116</td>\n",
       "      <td>223</td>\n",
       "      <td>unknown</td>\n",
       "      <td>unknown</td>\n",
       "    </tr>\n",
       "    <tr>\n",
       "      <th>13698</th>\n",
       "      <td>1385</td>\n",
       "      <td>https://myanimelist.net/anime/1385/Kurohime__S...</td>\n",
       "      <td>https://cdn.myanimelist.net/images/anime/1025/...</td>\n",
       "      <td>Kurohime: Shikkoku no Yakata</td>\n",
       "      <td>Black Widow</td>\n",
       "      <td>黒姫 -桎梏の館-</td>\n",
       "      <td>5.77</td>\n",
       "      <td>Hentai</td>\n",
       "      <td>NaN</td>\n",
       "      <td>A camping trip takes a turn for the wild when ...</td>\n",
       "      <td>OVA</td>\n",
       "      <td>2.0</td>\n",
       "      <td>Discovery</td>\n",
       "      <td>Mook Animation</td>\n",
       "      <td>Visual novel</td>\n",
       "      <td>28 min per ep</td>\n",
       "      <td>Rx - Hentai</td>\n",
       "      <td>NaN</td>\n",
       "      <td>9228</td>\n",
       "      <td>10</td>\n",
       "      <td>1750</td>\n",
       "      <td>4538</td>\n",
       "      <td>unknown</td>\n",
       "      <td>unknown</td>\n",
       "    </tr>\n",
       "    <tr>\n",
       "      <th>11104</th>\n",
       "      <td>29235</td>\n",
       "      <td>https://myanimelist.net/anime/29235/Ninja_Hatt...</td>\n",
       "      <td>https://cdn.myanimelist.net/images/anime/3/704...</td>\n",
       "      <td>Ninja Hattori-kun Plus Perman: Chounouryoku Wars</td>\n",
       "      <td>NaN</td>\n",
       "      <td>忍者ハットリくん＋パーマン 超能力ウォーズ</td>\n",
       "      <td>6.13</td>\n",
       "      <td>Adventure</td>\n",
       "      <td>Martial Arts, Super Power</td>\n",
       "      <td>Crossover film featuring both of Motoo Abiko's...</td>\n",
       "      <td>Movie</td>\n",
       "      <td>1.0</td>\n",
       "      <td>NaN</td>\n",
       "      <td>Shin-Ei Animation</td>\n",
       "      <td>Unknown</td>\n",
       "      <td>52 min</td>\n",
       "      <td>PG - Children</td>\n",
       "      <td>9208.0</td>\n",
       "      <td>14327</td>\n",
       "      <td>0</td>\n",
       "      <td>382</td>\n",
       "      <td>984</td>\n",
       "      <td>unknown</td>\n",
       "      <td>unknown</td>\n",
       "    </tr>\n",
       "    <tr>\n",
       "      <th>13743</th>\n",
       "      <td>1644</td>\n",
       "      <td>https://myanimelist.net/anime/1644/Princess_Rouge</td>\n",
       "      <td>https://cdn.myanimelist.net/images/anime/1405/...</td>\n",
       "      <td>Princess Rouge</td>\n",
       "      <td>NaN</td>\n",
       "      <td>プリンセス・ルージュ</td>\n",
       "      <td>5.77</td>\n",
       "      <td>Fantasy, Romance</td>\n",
       "      <td>NaN</td>\n",
       "      <td>Yusuke, an orphan, literally has Rouge, the am...</td>\n",
       "      <td>OVA</td>\n",
       "      <td>2.0</td>\n",
       "      <td>AC Create, Cosmic Ray, BEAM Entertainment, Nic...</td>\n",
       "      <td>J.C.Staff, Front Line</td>\n",
       "      <td>Original</td>\n",
       "      <td>28 min per ep</td>\n",
       "      <td>PG-13 - Teens 13 or older</td>\n",
       "      <td>11088.0</td>\n",
       "      <td>10702</td>\n",
       "      <td>4</td>\n",
       "      <td>1170</td>\n",
       "      <td>2867</td>\n",
       "      <td>unknown</td>\n",
       "      <td>unknown</td>\n",
       "    </tr>\n",
       "    <tr>\n",
       "      <th>7099</th>\n",
       "      <td>30812</td>\n",
       "      <td>https://myanimelist.net/anime/30812/Gyakuten_M...</td>\n",
       "      <td>https://cdn.myanimelist.net/images/anime/1019/...</td>\n",
       "      <td>Gyakuten Majo Saiban: Chijo na Majo ni Sabakar...</td>\n",
       "      <td>NaN</td>\n",
       "      <td>逆転魔女裁判 ～痴女な魔女に裁かれちゃう～ THE ANIMATION</td>\n",
       "      <td>6.63</td>\n",
       "      <td>Hentai</td>\n",
       "      <td>NaN</td>\n",
       "      <td>Based on the erotic game by Erectlip.</td>\n",
       "      <td>OVA</td>\n",
       "      <td>1.0</td>\n",
       "      <td>Pink Pineapple</td>\n",
       "      <td>Seven</td>\n",
       "      <td>Visual novel</td>\n",
       "      <td>25 min</td>\n",
       "      <td>Rx - Hentai</td>\n",
       "      <td>NaN</td>\n",
       "      <td>6229</td>\n",
       "      <td>68</td>\n",
       "      <td>5323</td>\n",
       "      <td>12124</td>\n",
       "      <td>unknown</td>\n",
       "      <td>unknown</td>\n",
       "    </tr>\n",
       "    <tr>\n",
       "      <th>3357</th>\n",
       "      <td>1313</td>\n",
       "      <td>https://myanimelist.net/anime/1313/Digimon_Adv...</td>\n",
       "      <td>https://cdn.myanimelist.net/images/anime/8/203...</td>\n",
       "      <td>Digimon Adventure 02</td>\n",
       "      <td>Digimon Adventure 02</td>\n",
       "      <td>デジモンアドベンチャー０２</td>\n",
       "      <td>7.24</td>\n",
       "      <td>Action, Adventure, Comedy, Fantasy</td>\n",
       "      <td>Isekai</td>\n",
       "      <td>Taichi Yagami and his friends have moved on to...</td>\n",
       "      <td>TV</td>\n",
       "      <td>50.0</td>\n",
       "      <td>Yomiko Advertising, Fuji TV</td>\n",
       "      <td>Toei Animation</td>\n",
       "      <td>Original</td>\n",
       "      <td>25 min per ep</td>\n",
       "      <td>PG - Children</td>\n",
       "      <td>3168.0</td>\n",
       "      <td>1143</td>\n",
       "      <td>778</td>\n",
       "      <td>146320</td>\n",
       "      <td>227373</td>\n",
       "      <td>spring</td>\n",
       "      <td>2000</td>\n",
       "    </tr>\n",
       "    <tr>\n",
       "      <th>3780</th>\n",
       "      <td>12711</td>\n",
       "      <td>https://myanimelist.net/anime/12711/Uta_no☆Pri...</td>\n",
       "      <td>https://cdn.myanimelist.net/images/anime/12/44...</td>\n",
       "      <td>Uta no☆Prince-sama♪ Maji Love 2000%</td>\n",
       "      <td>Uta no Prince Sama 2</td>\n",
       "      <td>うたの☆プリンスさまっ♪ マジLOVE2000%</td>\n",
       "      <td>7.17</td>\n",
       "      <td>Comedy, Romance</td>\n",
       "      <td>Idols (Male), Music, Reverse Harem, School</td>\n",
       "      <td>Entering her Master's course, Nanami Haruka is...</td>\n",
       "      <td>TV</td>\n",
       "      <td>13.0</td>\n",
       "      <td>Showgate, King Records</td>\n",
       "      <td>A-1 Pictures</td>\n",
       "      <td>Visual novel</td>\n",
       "      <td>25 min per ep</td>\n",
       "      <td>PG-13 - Teens 13 or older</td>\n",
       "      <td>3535.0</td>\n",
       "      <td>2018</td>\n",
       "      <td>541</td>\n",
       "      <td>57147</td>\n",
       "      <td>115096</td>\n",
       "      <td>spring</td>\n",
       "      <td>2013</td>\n",
       "    </tr>\n",
       "  </tbody>\n",
       "</table>\n",
       "</div>"
      ],
      "text/plain": [
       "       anime_id                                          anime_url                                          image_url                                               name          english_name                       japanese_names  score                              genres                                      themes                                           synopsis   type  episodes                                          producers                studios        source       duration                          rating     rank  popularity  favorites  scored_by  members premiered_season premiered_year\n",
       "10599     50088            https://myanimelist.net/anime/50088/No2  https://cdn.myanimelist.net/images/anime/1188/...                                               No.2                  No.2                               ナンバーツー   6.20                                 NaN                                       Music  Official music video for the song No.2 by Takuto.  Music       1.0                                                NaN                    NaN      Original          4 min  R - 17+ (violence & profanity)      NaN       21117          0        116      223          unknown        unknown\n",
       "13698      1385  https://myanimelist.net/anime/1385/Kurohime__S...  https://cdn.myanimelist.net/images/anime/1025/...                       Kurohime: Shikkoku no Yakata           Black Widow                            黒姫 -桎梏の館-   5.77                              Hentai                                         NaN  A camping trip takes a turn for the wild when ...    OVA       2.0                                          Discovery         Mook Animation  Visual novel  28 min per ep                     Rx - Hentai      NaN        9228         10       1750     4538          unknown        unknown\n",
       "11104     29235  https://myanimelist.net/anime/29235/Ninja_Hatt...  https://cdn.myanimelist.net/images/anime/3/704...   Ninja Hattori-kun Plus Perman: Chounouryoku Wars                   NaN                忍者ハットリくん＋パーマン 超能力ウォーズ   6.13                           Adventure                   Martial Arts, Super Power  Crossover film featuring both of Motoo Abiko's...  Movie       1.0                                                NaN      Shin-Ei Animation       Unknown         52 min                   PG - Children   9208.0       14327          0        382      984          unknown        unknown\n",
       "13743      1644  https://myanimelist.net/anime/1644/Princess_Rouge  https://cdn.myanimelist.net/images/anime/1405/...                                     Princess Rouge                   NaN                           プリンセス・ルージュ   5.77                    Fantasy, Romance                                         NaN  Yusuke, an orphan, literally has Rouge, the am...    OVA       2.0  AC Create, Cosmic Ray, BEAM Entertainment, Nic...  J.C.Staff, Front Line      Original  28 min per ep       PG-13 - Teens 13 or older  11088.0       10702          4       1170     2867          unknown        unknown\n",
       "7099      30812  https://myanimelist.net/anime/30812/Gyakuten_M...  https://cdn.myanimelist.net/images/anime/1019/...  Gyakuten Majo Saiban: Chijo na Majo ni Sabakar...                   NaN  逆転魔女裁判 ～痴女な魔女に裁かれちゃう～ THE ANIMATION   6.63                              Hentai                                         NaN              Based on the erotic game by Erectlip.    OVA       1.0                                     Pink Pineapple                  Seven  Visual novel         25 min                     Rx - Hentai      NaN        6229         68       5323    12124          unknown        unknown\n",
       "3357       1313  https://myanimelist.net/anime/1313/Digimon_Adv...  https://cdn.myanimelist.net/images/anime/8/203...                               Digimon Adventure 02  Digimon Adventure 02                        デジモンアドベンチャー０２   7.24  Action, Adventure, Comedy, Fantasy                                      Isekai  Taichi Yagami and his friends have moved on to...     TV      50.0                        Yomiko Advertising, Fuji TV         Toei Animation      Original  25 min per ep                   PG - Children   3168.0        1143        778     146320   227373           spring           2000\n",
       "3780      12711  https://myanimelist.net/anime/12711/Uta_no☆Pri...  https://cdn.myanimelist.net/images/anime/12/44...                Uta no☆Prince-sama♪ Maji Love 2000%  Uta no Prince Sama 2             うたの☆プリンスさまっ♪ マジLOVE2000%   7.17                     Comedy, Romance  Idols (Male), Music, Reverse Harem, School  Entering her Master's course, Nanami Haruka is...     TV      13.0                             Showgate, King Records           A-1 Pictures  Visual novel  25 min per ep       PG-13 - Teens 13 or older   3535.0        2018        541      57147   115096           spring           2013"
      ]
     },
     "execution_count": 27,
     "metadata": {},
     "output_type": "execute_result"
    }
   ],
   "source": [
    "# check_anime_nulls(df_anime)\n",
    "df_anime.sample(7)"
   ]
  },
  {
   "cell_type": "markdown",
   "metadata": {},
   "source": [
    "### Column: [''premiered']:\n",
    "Separate it in 2 column for better readness, one with year and the other one with season"
   ]
  },
  {
   "cell_type": "code",
   "execution_count": 10,
   "metadata": {},
   "outputs": [
    {
     "name": "stderr",
     "output_type": "stream",
     "text": [
      "C:\\Users\\yaelp\\AppData\\Local\\Temp\\ipykernel_13728\\2934435332.py:10: FutureWarning: A value is trying to be set on a copy of a DataFrame or Series through chained assignment using an inplace method.\n",
      "The behavior will change in pandas 3.0. This inplace method will never work because the intermediate object on which we are setting values always behaves as a copy.\n",
      "\n",
      "For example, when doing 'df[col].method(value, inplace=True)', try using 'df.method({col: value}, inplace=True)' or df[col] = df[col].method(value) instead, to perform the operation inplace on the original object.\n",
      "\n",
      "\n",
      "  df_anime['premiered_season'].fillna('unknown', inplace=True)\n",
      "C:\\Users\\yaelp\\AppData\\Local\\Temp\\ipykernel_13728\\2934435332.py:11: FutureWarning: A value is trying to be set on a copy of a DataFrame or Series through chained assignment using an inplace method.\n",
      "The behavior will change in pandas 3.0. This inplace method will never work because the intermediate object on which we are setting values always behaves as a copy.\n",
      "\n",
      "For example, when doing 'df[col].method(value, inplace=True)', try using 'df.method({col: value}, inplace=True)' or df[col] = df[col].method(value) instead, to perform the operation inplace on the original object.\n",
      "\n",
      "\n",
      "  df_anime['premiered_year'].fillna('unknown', inplace=True)\n"
     ]
    }
   ],
   "source": [
    "df_anime['premiered'].sample(5)\n",
    "\n",
    "# Extract the season only with regex and make a new column for it\n",
    "df_anime['premiered_season'] = df_anime['premiered'].str.extract(r'(?i)(spring|summer|fall|winter)')\n",
    "\n",
    "# Extract the year only and make a new column for it.\n",
    "df_anime['premiered_year'] = df_anime['premiered'].str.extract(r'(\\d{4})')\n",
    "\n",
    "# Fill missing values with 'unknown'\n",
    "df_anime['premiered_season'].fillna('unknown', inplace=True)\n",
    "df_anime['premiered_year'].fillna('unknown', inplace=True)\n",
    "\n",
    "# Drop column premiered\n",
    "df_anime.drop(columns=['premiered'], inplace=True)"
   ]
  },
  {
   "cell_type": "markdown",
   "metadata": {},
   "source": [
    "### Column: ['type']:\n",
    "\n",
    "By checking, it has sense because of the duration that the Nanit has be 'TV'."
   ]
  },
  {
   "cell_type": "code",
   "execution_count": 21,
   "metadata": {},
   "outputs": [],
   "source": [
    "# df_anime['type'].unique()\n",
    "# # --------------------------------------------------------------------------\n",
    "# df_anime['type'].isnull().sum()\n",
    "# df_anime[df_anime['type'].isin(['nan'])][['type', 'duration']].sample(5)\n",
    "# # --------------------------------------------------------------------------\n",
    "# null_type_df = df_anime[df_anime['type'].isnull()][['type', 'duration']]\n",
    "\n",
    "# if len(null_type_df) > 0:\n",
    "#     muestra_tipos_vacios = null_type_df.sample(min(5, len(null_type_df)))\n",
    "#     print(muestra_tipos_vacios)\n",
    "# else:\n",
    "#     print(\"No rows with null 'type'.\")\n",
    "# --------------------------------------------------------------------------\n",
    "# check_type_duration = df_anime[['type', 'duration']]\n",
    "# check_type_duration.describe()\n",
    "# --------------------------------------------------------------------------\n",
    "df_anime['type'].fillna('TV', inplace=True)"
   ]
  },
  {
   "cell_type": "markdown",
   "metadata": {},
   "source": [
    "### Column: ['episodes']:\n",
    "\n",
    "Since it has only a 0.71% of nulls, it will be inferred taking into account the types and using the median.\n"
   ]
  },
  {
   "cell_type": "code",
   "execution_count": 22,
   "metadata": {},
   "outputs": [
    {
     "name": "stdout",
     "output_type": "stream",
     "text": [
      "OVA: min: 1.0 max: 110.0  mean: 2.61 median: 2.0 mode: [1.0]\n",
      "______________________________________________________\n",
      "ONA: min: 1.0 max: 110.0  mean: 15.17 median: 10.0 mode: [1.0]\n"
     ]
    }
   ],
   "source": [
    "check_ona = df_anime[df_anime['type'].isin(['ONA'])][['episodes', 'type']]\n",
    "check_ova = df_anime[df_anime['type'].isin(['OVA'])][['episodes', 'type']]\n",
    "# --------------------------------------------------------------------------\n",
    "check_ona.describe()\n",
    "check_ova.describe()\n",
    "# --------------------------------------------------------------------------\n",
    "episodes_ova = df_anime[df_anime['type'] == 'OVA']['episodes'].dropna()\n",
    "if not episodes_ova.empty:\n",
    "    min_ova = episodes_ova.min()\n",
    "    max_ova = episodes_ova.max()\n",
    "    mean_ova = episodes_ova.mean().round(2)\n",
    "    median_ova = episodes_ova.median()\n",
    "    mode_ova = episodes_ova.mode().tolist()\n",
    "    print(f\"OVA: min: {min_ova} max: {max_ova}  mean: {mean_ova} median: {median_ova} mode: {mode_ova}\")\n",
    "\n",
    "print(\"___\"*18)\n",
    "\n",
    "episodes_ona = df_anime[df_anime['type'] == 'ONA']['episodes'].dropna()\n",
    "if not episodes_ova.empty:\n",
    "    min_ona = episodes_ova.min()\n",
    "    max_ona = episodes_ova.max()\n",
    "    mean_ona = episodes_ona.mean().round(2)\n",
    "    median_ona = episodes_ona.median()\n",
    "    mode_ona = episodes_ona.mode().tolist()\n",
    "    print(f\"ONA: min: {min_ona} max: {max_ona}  mean: {mean_ona} median: {median_ona} mode: {mode_ona}\")\n",
    "# --------------------------------------------------------------------------\n",
    "# Using median to fill the nulls\n",
    "\n",
    "df_anime['episodes'] = df_anime.groupby('type')['episodes'].transform(lambda x: x.fillna(x.median()))"
   ]
  },
  {
   "cell_type": "markdown",
   "metadata": {},
   "source": [
    "### Column ['']"
   ]
  },
  {
   "cell_type": "code",
   "execution_count": null,
   "metadata": {},
   "outputs": [],
   "source": [
    "df_anime[['themes', 'synopsis', 'producers', 'studios', 'source']].sample(5)"
   ]
  },
  {
   "cell_type": "markdown",
   "metadata": {},
   "source": [
    "### Column: ['english_name'] \n",
    "\n",
    "At the moment the librarie googletrans is the most suitable but for the moment cannot be used for version issues. I'm trying to make a new special environmente but I haven't been able yet."
   ]
  },
  {
   "cell_type": "code",
   "execution_count": null,
   "metadata": {},
   "outputs": [],
   "source": [
    "# def translate_japanese_names(df, japanese_col, english_col):\n",
    "#     translator = Translator()\n",
    "#     for index, row in df.iterrows():\n",
    "#         if pd.isnull(row[english_col]) or not row[english_col]:\n",
    "#             japanese_name = row[japanese_col]\n",
    "#             if pd.notnull(japanese_name) and japanese_name:\n",
    "#                 try:\n",
    "#                     translation = translator.translate(japanese_name, dest='en')\n",
    "#                     df.at[index, english_col] = translation.text\n",
    "#                 except Exception as e:\n",
    "#                     print(f\"Translation error for '{japanese_name}': {e}\")\n",
    "#                     df.at[index, english_col] = None\n",
    "\n",
    "# translate_japanese_names(df_anime, 'japanese_names', 'english_name')"
   ]
  },
  {
   "cell_type": "code",
   "execution_count": null,
   "metadata": {},
   "outputs": [],
   "source": [
    "df_anime['english_name'].fillna(df_anime['name'], inplace=True)"
   ]
  },
  {
   "cell_type": "markdown",
   "metadata": {},
   "source": [
    "### Column ['demographics']\n",
    "There are only 6 unique values which correspond to: \n",
    "\n",
    "- array(['Shounen', nan, 'Seinen', 'Shoujo', 'Josei', 'Kids, Shounen','Kids', 'Kids, Shoujo'], dtype=object)\n",
    "- Young boys, Adult men, Young girls, Adult women, For children\n",
    "\n",
    "Since there's a 70.60% of nulls, the column will be droped."
   ]
  },
  {
   "cell_type": "code",
   "execution_count": 24,
   "metadata": {},
   "outputs": [],
   "source": [
    "df_anime['demographics'].unique()\n",
    "df_anime.drop(columns=['demographics'], inplace=True)"
   ]
  },
  {
   "cell_type": "markdown",
   "metadata": {},
   "source": [
    "## Saving the dataframe"
   ]
  },
  {
   "cell_type": "code",
   "execution_count": 29,
   "metadata": {},
   "outputs": [
    {
     "name": "stdout",
     "output_type": "stream",
     "text": [
      "File succesfully saved.\n",
      " File size: 11962.61 KB\n"
     ]
    }
   ],
   "source": [
    "clean_anime_csv_path = os.path.join(data_dir, \"clean_anime.csv\")\n",
    "df_anime.to_csv(clean_anime_csv_path, index=False)\n",
    "\n",
    "if os.path.exists(clean_anime_csv_path):\n",
    "    print(\"File succesfully saved.\")\n",
    "    print(f\" File size: {os.path.getsize('clean_anime.csv') / 1024:.2f} KB\")\n",
    "else:\n",
    "    print(\"⚠️ Error while saving file.\")"
   ]
  }
 ],
 "metadata": {
  "kernelspec": {
   "display_name": ".venv",
   "language": "python",
   "name": "python3"
  },
  "language_info": {
   "codemirror_mode": {
    "name": "ipython",
    "version": 3
   },
   "file_extension": ".py",
   "mimetype": "text/x-python",
   "name": "python",
   "nbconvert_exporter": "python",
   "pygments_lexer": "ipython3",
   "version": "3.13.2"
  }
 },
 "nbformat": 4,
 "nbformat_minor": 2
}
