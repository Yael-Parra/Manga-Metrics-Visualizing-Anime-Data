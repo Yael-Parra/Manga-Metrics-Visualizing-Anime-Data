{
 "cells": [
  {
   "cell_type": "markdown",
   "metadata": {},
   "source": [
    "# Import libraries and Setting displays"
   ]
  },
  {
   "cell_type": "code",
   "execution_count": 12,
   "metadata": {},
   "outputs": [],
   "source": [
    "import pandas as pd\n",
    "import numpy as np\n",
    "import os\n",
    "import re\n",
    "\n",
    "import matplotlib.pyplot as plt \n",
    "import seaborn as sns"
   ]
  },
  {
   "cell_type": "code",
   "execution_count": 13,
   "metadata": {},
   "outputs": [],
   "source": [
    "pd.set_option('display.max_rows', 100) \n",
    "pd.set_option('display.max_columns', None) \n",
    "\n",
    "# pd.set_option('display.max_columns', None)  # Show all columns\n",
    "# pd.set_option('display.max_rows', None)     # Show all rows\n",
    "# pd.set_option('display.max_colwidth', None) # Show entire content of each column\n",
    "pd.set_option('display.width', None)        # No limit on display width\n",
    "pd.set_option('display.expand_frame_repr', False)  # Prevent wrapping"
   ]
  },
  {
   "cell_type": "markdown",
   "metadata": {},
   "source": [
    "# Opening file and creating dataframe"
   ]
  },
  {
   "cell_type": "code",
   "execution_count": 14,
   "metadata": {},
   "outputs": [
    {
     "data": {
      "application/vnd.microsoft.datawrangler.viewer.v0+json": {
       "columns": [
        {
         "name": "index",
         "rawType": "int64",
         "type": "integer"
        },
        {
         "name": "anime_id",
         "rawType": "int64",
         "type": "integer"
        },
        {
         "name": "anime_url",
         "rawType": "object",
         "type": "string"
        },
        {
         "name": "image_url",
         "rawType": "object",
         "type": "string"
        },
        {
         "name": "name",
         "rawType": "object",
         "type": "string"
        },
        {
         "name": "english_name",
         "rawType": "object",
         "type": "unknown"
        },
        {
         "name": "japanese_names",
         "rawType": "object",
         "type": "string"
        },
        {
         "name": "score",
         "rawType": "float64",
         "type": "float"
        },
        {
         "name": "genres",
         "rawType": "object",
         "type": "string"
        },
        {
         "name": "themes",
         "rawType": "object",
         "type": "unknown"
        },
        {
         "name": "demographics",
         "rawType": "object",
         "type": "unknown"
        },
        {
         "name": "synopsis",
         "rawType": "object",
         "type": "unknown"
        },
        {
         "name": "type",
         "rawType": "object",
         "type": "string"
        },
        {
         "name": "episodes",
         "rawType": "float64",
         "type": "float"
        },
        {
         "name": "premiered",
         "rawType": "object",
         "type": "unknown"
        },
        {
         "name": "producers",
         "rawType": "object",
         "type": "string"
        },
        {
         "name": "studios",
         "rawType": "object",
         "type": "string"
        },
        {
         "name": "source",
         "rawType": "object",
         "type": "string"
        },
        {
         "name": "duration",
         "rawType": "object",
         "type": "string"
        },
        {
         "name": "rating",
         "rawType": "object",
         "type": "string"
        },
        {
         "name": "rank",
         "rawType": "float64",
         "type": "float"
        },
        {
         "name": "popularity",
         "rawType": "int64",
         "type": "integer"
        },
        {
         "name": "favorites",
         "rawType": "int64",
         "type": "integer"
        },
        {
         "name": "scored_by",
         "rawType": "int64",
         "type": "integer"
        },
        {
         "name": "members",
         "rawType": "int64",
         "type": "integer"
        }
       ],
       "conversionMethod": "pd.DataFrame",
       "ref": "f99b4452-2715-4780-a963-d1ea0dbb2bbe",
       "rows": [
        [
         "8043",
         "46381",
         "https://myanimelist.net/anime/46381/Shinkansen_Henkei_Robo_Shinkalion_Z_the_Animation",
         "https://cdn.myanimelist.net/images/anime/1381/118274.jpg",
         "Shinkansen Henkei Robo Shinkalion Z the Animation",
         null,
         "新幹線変形ロボ シンカリオンZ THE ANIMATION",
         "6.51",
         "Action, Sci-Fi",
         "Mecha",
         "Kids",
         "In order to protect the peace and safety of Japan from the mysterious Giant Monstrous Beings, \"Shinkansen Transformable Robot Shinkalions\" were developed by the Shinkansen Ultra Evolution Institute. In preparation for the attack of new enemies, the Ultra Evolution Institute is developing a new type of robot called \"Shinkalion Z\" as well as new armed enhancement vehicles called \"Zailiners\" that transform from conventional trains to power up the \"Shinkalion Z\". The children who became the drivers of \"Shinkalion Z\" with a high Compatible rate will work together with the institute staff members to confront the giant monsters that reappeared The emergence of unknown enemies- And the encounter of two boys.\n\n(Source:  Shinkalion Wiki)",
         "TV",
         "41.0",
         "spring 2021",
         "TV Tokyo, Shogakukan-Shueisha Productions",
         "OLM",
         "Other",
         "24 min per ep",
         "PG - Children",
         "7033.0",
         "12412",
         "7",
         "302",
         "1692"
        ],
        [
         "363",
         "52578",
         "https://myanimelist.net/anime/52578/Boku_no_Kokoro_no_Yabai_Yatsu",
         "https://cdn.myanimelist.net/images/anime/1545/133887.jpg",
         "Boku no Kokoro no Yabai Yatsu",
         "The Dangers in My Heart",
         "僕の心のヤバイやつ",
         "8.23",
         "Comedy, Romance",
         "School",
         "Shounen",
         "Kyoutarou Ichikawa may look like a shy and reserved middle school student, but deep within his heart is a bloodthirsty killer. His ultimate desire is to see his classmate Anna Yamada's beautiful face writhing in pain before he ends her life. But this fantasy may never come to fruition, as Ichikawa starts to see an entirely different side to Yamada.\n\nOften seeking refuge in the library, Ichikawa frequently runs into Yamada. It is during these encounters that Ichikawa realizes his model classmate is actually an airhead who can never read the room. As they spend more time together, the boy cannot help but feel not only a sense of endearment toward the very girl he wishes to murder but also a desire to protect her at all costs. Is it possible that this sudden change in Ichikawa's perspective could lead to something more?\n\n[Written by MAL Rewrite]",
         "TV",
         "12.0",
         "spring 2023",
         "Dentsu, TV Asahi, Movic, Magic Capsule, Avex Pictures, Akita Shoten, BS Asahi, TV Asahi Music",
         "Shin-Ei Animation",
         "Manga",
         "23 min per ep",
         "PG-13 - Teens 13 or older",
         "364.0",
         "681",
         "5489",
         "188945",
         "370756"
        ],
        [
         "14422",
         "39842",
         "https://myanimelist.net/anime/39842/Onna_Maou_Melissa_no_H_na_Boukenki",
         "https://cdn.myanimelist.net/images/anime/1456/138360.jpg",
         "Onna Maou Melissa no H na Boukenki",
         "Sexy Chronicles of Demon Queen Melissa",
         "女魔王メリッサのHな冒険記",
         "5.66",
         "Fantasy, Hentai",
         "Mythology",
         null,
         null,
         "ONA",
         "2.0",
         null,
         "BOMB! CUTE! BOMB!",
         "Office No. 8",
         "Other",
         "15 min per ep",
         "Rx - Hentai",
         null,
         "11263",
         "6",
         "824",
         "2428"
        ],
        [
         "8844",
         "12921",
         "https://myanimelist.net/anime/12921/Morita-san_wa_Mukuchi_Specials",
         "https://cdn.myanimelist.net/images/anime/3/36275.jpg",
         "Morita-san wa Mukuchi. Specials",
         null,
         "森田さんは無口。",
         "6.41",
         "Comedy, Slice of Life",
         "School",
         null,
         "Unaired episodes of the \"Morita-san wa Mukuchi\" TV series bundled with the 5th manga volume.",
         "Special",
         "2.0",
         null,
         "DAX Production, Takeshobo",
         "Seven",
         "4-koma manga",
         "3 min per ep",
         "PG-13 - Teens 13 or older",
         "7638.0",
         "9100",
         "0",
         "2436",
         "4728"
        ],
        [
         "851",
         "2450",
         "https://myanimelist.net/anime/2450/Crayon_Shin-chan_Movie_09__Arashi_wo_Yobu_Mouretsu_Otona_Teikoku_no_Gyakushuu",
         "https://cdn.myanimelist.net/images/anime/1824/94859.jpg",
         "Crayon Shin-chan Movie 09: Arashi wo Yobu Mouretsu! Otona Teikoku no Gyakushuu",
         null,
         "映画　クレヨンしんちゃん　嵐を呼ぶモーレツ！オトナ帝国の逆襲",
         "7.9",
         "Comedy, Sci-Fi",
         null,
         "Seinen",
         "Adult people all over Japan had been captivated by 20th Century Expo, theme parks that reenacted good old days of the 1970s (the last days of Japan's high economic growth). One day the adults disappeared into the theme parks, leaving their children abandoned. That was a plot by \"Yesterday Once More,\" an organization who despises the 21st century and tries to bring Japan back to the 20th century with the dreams and hopes. Shinnosuke and his parents, Hiroshi and Misae, fight against the plot of \"Yesterday Once More\" in order to live together with family in the 21st century.\n\n(Source: Manabu Tsuribe)",
         "Movie",
         "1.0",
         null,
         "TV Asahi, Asatsu DK",
         "Shin-Ei Animation",
         "Manga",
         "1 hr 29 min",
         "G - All Ages",
         "829.0",
         "6345",
         "113",
         "6447",
         "11562"
        ]
       ],
       "shape": {
        "columns": 24,
        "rows": 5
       }
      },
      "text/html": [
       "<div>\n",
       "<style scoped>\n",
       "    .dataframe tbody tr th:only-of-type {\n",
       "        vertical-align: middle;\n",
       "    }\n",
       "\n",
       "    .dataframe tbody tr th {\n",
       "        vertical-align: top;\n",
       "    }\n",
       "\n",
       "    .dataframe thead th {\n",
       "        text-align: right;\n",
       "    }\n",
       "</style>\n",
       "<table border=\"1\" class=\"dataframe\">\n",
       "  <thead>\n",
       "    <tr style=\"text-align: right;\">\n",
       "      <th></th>\n",
       "      <th>anime_id</th>\n",
       "      <th>anime_url</th>\n",
       "      <th>image_url</th>\n",
       "      <th>name</th>\n",
       "      <th>english_name</th>\n",
       "      <th>japanese_names</th>\n",
       "      <th>score</th>\n",
       "      <th>genres</th>\n",
       "      <th>themes</th>\n",
       "      <th>demographics</th>\n",
       "      <th>synopsis</th>\n",
       "      <th>type</th>\n",
       "      <th>episodes</th>\n",
       "      <th>premiered</th>\n",
       "      <th>producers</th>\n",
       "      <th>studios</th>\n",
       "      <th>source</th>\n",
       "      <th>duration</th>\n",
       "      <th>rating</th>\n",
       "      <th>rank</th>\n",
       "      <th>popularity</th>\n",
       "      <th>favorites</th>\n",
       "      <th>scored_by</th>\n",
       "      <th>members</th>\n",
       "    </tr>\n",
       "  </thead>\n",
       "  <tbody>\n",
       "    <tr>\n",
       "      <th>8043</th>\n",
       "      <td>46381</td>\n",
       "      <td>https://myanimelist.net/anime/46381/Shinkansen...</td>\n",
       "      <td>https://cdn.myanimelist.net/images/anime/1381/...</td>\n",
       "      <td>Shinkansen Henkei Robo Shinkalion Z the Animation</td>\n",
       "      <td>NaN</td>\n",
       "      <td>新幹線変形ロボ シンカリオンZ THE ANIMATION</td>\n",
       "      <td>6.51</td>\n",
       "      <td>Action, Sci-Fi</td>\n",
       "      <td>Mecha</td>\n",
       "      <td>Kids</td>\n",
       "      <td>In order to protect the peace and safety of Ja...</td>\n",
       "      <td>TV</td>\n",
       "      <td>41.0</td>\n",
       "      <td>spring 2021</td>\n",
       "      <td>TV Tokyo, Shogakukan-Shueisha Productions</td>\n",
       "      <td>OLM</td>\n",
       "      <td>Other</td>\n",
       "      <td>24 min per ep</td>\n",
       "      <td>PG - Children</td>\n",
       "      <td>7033.0</td>\n",
       "      <td>12412</td>\n",
       "      <td>7</td>\n",
       "      <td>302</td>\n",
       "      <td>1692</td>\n",
       "    </tr>\n",
       "    <tr>\n",
       "      <th>363</th>\n",
       "      <td>52578</td>\n",
       "      <td>https://myanimelist.net/anime/52578/Boku_no_Ko...</td>\n",
       "      <td>https://cdn.myanimelist.net/images/anime/1545/...</td>\n",
       "      <td>Boku no Kokoro no Yabai Yatsu</td>\n",
       "      <td>The Dangers in My Heart</td>\n",
       "      <td>僕の心のヤバイやつ</td>\n",
       "      <td>8.23</td>\n",
       "      <td>Comedy, Romance</td>\n",
       "      <td>School</td>\n",
       "      <td>Shounen</td>\n",
       "      <td>Kyoutarou Ichikawa may look like a shy and res...</td>\n",
       "      <td>TV</td>\n",
       "      <td>12.0</td>\n",
       "      <td>spring 2023</td>\n",
       "      <td>Dentsu, TV Asahi, Movic, Magic Capsule, Avex P...</td>\n",
       "      <td>Shin-Ei Animation</td>\n",
       "      <td>Manga</td>\n",
       "      <td>23 min per ep</td>\n",
       "      <td>PG-13 - Teens 13 or older</td>\n",
       "      <td>364.0</td>\n",
       "      <td>681</td>\n",
       "      <td>5489</td>\n",
       "      <td>188945</td>\n",
       "      <td>370756</td>\n",
       "    </tr>\n",
       "    <tr>\n",
       "      <th>14422</th>\n",
       "      <td>39842</td>\n",
       "      <td>https://myanimelist.net/anime/39842/Onna_Maou_...</td>\n",
       "      <td>https://cdn.myanimelist.net/images/anime/1456/...</td>\n",
       "      <td>Onna Maou Melissa no H na Boukenki</td>\n",
       "      <td>Sexy Chronicles of Demon Queen Melissa</td>\n",
       "      <td>女魔王メリッサのHな冒険記</td>\n",
       "      <td>5.66</td>\n",
       "      <td>Fantasy, Hentai</td>\n",
       "      <td>Mythology</td>\n",
       "      <td>NaN</td>\n",
       "      <td>NaN</td>\n",
       "      <td>ONA</td>\n",
       "      <td>2.0</td>\n",
       "      <td>NaN</td>\n",
       "      <td>BOMB! CUTE! BOMB!</td>\n",
       "      <td>Office No. 8</td>\n",
       "      <td>Other</td>\n",
       "      <td>15 min per ep</td>\n",
       "      <td>Rx - Hentai</td>\n",
       "      <td>NaN</td>\n",
       "      <td>11263</td>\n",
       "      <td>6</td>\n",
       "      <td>824</td>\n",
       "      <td>2428</td>\n",
       "    </tr>\n",
       "    <tr>\n",
       "      <th>8844</th>\n",
       "      <td>12921</td>\n",
       "      <td>https://myanimelist.net/anime/12921/Morita-san...</td>\n",
       "      <td>https://cdn.myanimelist.net/images/anime/3/362...</td>\n",
       "      <td>Morita-san wa Mukuchi. Specials</td>\n",
       "      <td>NaN</td>\n",
       "      <td>森田さんは無口。</td>\n",
       "      <td>6.41</td>\n",
       "      <td>Comedy, Slice of Life</td>\n",
       "      <td>School</td>\n",
       "      <td>NaN</td>\n",
       "      <td>Unaired episodes of the \"Morita-san wa Mukuchi...</td>\n",
       "      <td>Special</td>\n",
       "      <td>2.0</td>\n",
       "      <td>NaN</td>\n",
       "      <td>DAX Production, Takeshobo</td>\n",
       "      <td>Seven</td>\n",
       "      <td>4-koma manga</td>\n",
       "      <td>3 min per ep</td>\n",
       "      <td>PG-13 - Teens 13 or older</td>\n",
       "      <td>7638.0</td>\n",
       "      <td>9100</td>\n",
       "      <td>0</td>\n",
       "      <td>2436</td>\n",
       "      <td>4728</td>\n",
       "    </tr>\n",
       "    <tr>\n",
       "      <th>851</th>\n",
       "      <td>2450</td>\n",
       "      <td>https://myanimelist.net/anime/2450/Crayon_Shin...</td>\n",
       "      <td>https://cdn.myanimelist.net/images/anime/1824/...</td>\n",
       "      <td>Crayon Shin-chan Movie 09: Arashi wo Yobu Mour...</td>\n",
       "      <td>NaN</td>\n",
       "      <td>映画　クレヨンしんちゃん　嵐を呼ぶモーレツ！オトナ帝国の逆襲</td>\n",
       "      <td>7.90</td>\n",
       "      <td>Comedy, Sci-Fi</td>\n",
       "      <td>NaN</td>\n",
       "      <td>Seinen</td>\n",
       "      <td>Adult people all over Japan had been captivate...</td>\n",
       "      <td>Movie</td>\n",
       "      <td>1.0</td>\n",
       "      <td>NaN</td>\n",
       "      <td>TV Asahi, Asatsu DK</td>\n",
       "      <td>Shin-Ei Animation</td>\n",
       "      <td>Manga</td>\n",
       "      <td>1 hr 29 min</td>\n",
       "      <td>G - All Ages</td>\n",
       "      <td>829.0</td>\n",
       "      <td>6345</td>\n",
       "      <td>113</td>\n",
       "      <td>6447</td>\n",
       "      <td>11562</td>\n",
       "    </tr>\n",
       "  </tbody>\n",
       "</table>\n",
       "</div>"
      ],
      "text/plain": [
       "       anime_id                                          anime_url                                          image_url                                               name                            english_name                  japanese_names  score                 genres     themes demographics                                           synopsis     type  episodes    premiered                                          producers            studios        source       duration                     rating    rank  popularity  favorites  scored_by  members\n",
       "8043      46381  https://myanimelist.net/anime/46381/Shinkansen...  https://cdn.myanimelist.net/images/anime/1381/...  Shinkansen Henkei Robo Shinkalion Z the Animation                                     NaN   新幹線変形ロボ シンカリオンZ THE ANIMATION   6.51         Action, Sci-Fi      Mecha         Kids  In order to protect the peace and safety of Ja...       TV      41.0  spring 2021          TV Tokyo, Shogakukan-Shueisha Productions                OLM         Other  24 min per ep              PG - Children  7033.0       12412          7        302     1692\n",
       "363       52578  https://myanimelist.net/anime/52578/Boku_no_Ko...  https://cdn.myanimelist.net/images/anime/1545/...                      Boku no Kokoro no Yabai Yatsu                 The Dangers in My Heart                       僕の心のヤバイやつ   8.23        Comedy, Romance     School      Shounen  Kyoutarou Ichikawa may look like a shy and res...       TV      12.0  spring 2023  Dentsu, TV Asahi, Movic, Magic Capsule, Avex P...  Shin-Ei Animation         Manga  23 min per ep  PG-13 - Teens 13 or older   364.0         681       5489     188945   370756\n",
       "14422     39842  https://myanimelist.net/anime/39842/Onna_Maou_...  https://cdn.myanimelist.net/images/anime/1456/...                 Onna Maou Melissa no H na Boukenki  Sexy Chronicles of Demon Queen Melissa                   女魔王メリッサのHな冒険記   5.66        Fantasy, Hentai  Mythology          NaN                                                NaN      ONA       2.0          NaN                                  BOMB! CUTE! BOMB!       Office No. 8         Other  15 min per ep                Rx - Hentai     NaN       11263          6        824     2428\n",
       "8844      12921  https://myanimelist.net/anime/12921/Morita-san...  https://cdn.myanimelist.net/images/anime/3/362...                    Morita-san wa Mukuchi. Specials                                     NaN                        森田さんは無口。   6.41  Comedy, Slice of Life     School          NaN  Unaired episodes of the \"Morita-san wa Mukuchi...  Special       2.0          NaN                          DAX Production, Takeshobo              Seven  4-koma manga   3 min per ep  PG-13 - Teens 13 or older  7638.0        9100          0       2436     4728\n",
       "851        2450  https://myanimelist.net/anime/2450/Crayon_Shin...  https://cdn.myanimelist.net/images/anime/1824/...  Crayon Shin-chan Movie 09: Arashi wo Yobu Mour...                                     NaN  映画　クレヨンしんちゃん　嵐を呼ぶモーレツ！オトナ帝国の逆襲   7.90         Comedy, Sci-Fi        NaN       Seinen  Adult people all over Japan had been captivate...    Movie       1.0          NaN                                TV Asahi, Asatsu DK  Shin-Ei Animation         Manga    1 hr 29 min               G - All Ages   829.0        6345        113       6447    11562"
      ]
     },
     "execution_count": 14,
     "metadata": {},
     "output_type": "execute_result"
    }
   ],
   "source": [
    "# Setting paths\n",
    "current_dir = os.getcwd()  # Use os.getcwd() to get the current working directory\n",
    "parent_dir = os.path.dirname(current_dir)\n",
    "data_dir = os.path.join(parent_dir, \"data\")\n",
    "file_path = os.path.join(data_dir, \"\")\n",
    "\n",
    "top_anime_dataset_v2_csv_path = os.path.join(data_dir, \"top_anime_dataset_v2.csv\")\n",
    "#----------------------------------------------------------------------------------------------------\n",
    "# Creating dataframes\n",
    "df_anime = pd.read_csv(top_anime_dataset_v2_csv_path)\n",
    "\n",
    "df_anime.sample(5)"
   ]
  },
  {
   "cell_type": "markdown",
   "metadata": {},
   "source": [
    "# Seeking for nulls"
   ]
  },
  {
   "cell_type": "code",
   "execution_count": 15,
   "metadata": {},
   "outputs": [
    {
     "data": {
      "text/plain": [
       "['anime_id',\n",
       " 'anime_url',\n",
       " 'image_url',\n",
       " 'name',\n",
       " 'english_name',\n",
       " 'japanese_names',\n",
       " 'score',\n",
       " 'genres',\n",
       " 'themes',\n",
       " 'demographics',\n",
       " 'synopsis',\n",
       " 'type',\n",
       " 'episodes',\n",
       " 'premiered',\n",
       " 'producers',\n",
       " 'studios',\n",
       " 'source',\n",
       " 'duration',\n",
       " 'rating',\n",
       " 'rank',\n",
       " 'popularity',\n",
       " 'favorites',\n",
       " 'scored_by',\n",
       " 'members']"
      ]
     },
     "execution_count": 15,
     "metadata": {},
     "output_type": "execute_result"
    }
   ],
   "source": [
    "df_anime.columns.to_list()"
   ]
  },
  {
   "cell_type": "code",
   "execution_count": 16,
   "metadata": {},
   "outputs": [
    {
     "name": "stdout",
     "output_type": "stream",
     "text": [
      "Qty of rows: (15000)\n",
      "                Null Count  Null %\n",
      "anime_id                 0    0.00\n",
      "anime_url                0    0.00\n",
      "image_url                0    0.00\n",
      "name                     0    0.00\n",
      "english_name          6642   44.28\n",
      "japanese_names          46    0.31\n",
      "score                    0    0.00\n",
      "genres                1601   10.67\n",
      "themes                5077   33.85\n",
      "demographics         10592   70.61\n",
      "synopsis               468    3.12\n",
      "type                     1    0.01\n",
      "episodes               112    0.75\n",
      "premiered            10316   68.77\n",
      "producers             5429   36.19\n",
      "studios               2379   15.86\n",
      "source                   0    0.00\n",
      "duration                 0    0.00\n",
      "rating                  68    0.45\n",
      "rank                  3080   20.53\n",
      "popularity               0    0.00\n",
      "favorites                0    0.00\n",
      "scored_by                0    0.00\n",
      "members                  0    0.00\n"
     ]
    }
   ],
   "source": [
    "def check_anime_nulls(df_anime):\n",
    "   \n",
    "    nulls = df_anime.isnull().sum()\n",
    "    null_percentage = (nulls / len(df_anime) * 100).round(2)\n",
    "    null_report = pd.DataFrame({'Null Count': nulls, 'Null %': null_percentage})\n",
    "    print(f\"Qty of rows: ({len(df_anime)})\")\n",
    "    print(null_report)\n",
    "\n",
    "\n",
    "check_anime_nulls(df_anime)"
   ]
  },
  {
   "cell_type": "markdown",
   "metadata": {},
   "source": [
    "# Looking for Duplicate values"
   ]
  },
  {
   "cell_type": "code",
   "execution_count": 17,
   "metadata": {},
   "outputs": [
    {
     "name": "stdout",
     "output_type": "stream",
     "text": [
      "Duplicates (68):\n",
      "       anime_id                                          anime_url                                          image_url                                               name                                       english_name                         japanese_names  score                                             genres                               themes demographics                                           synopsis        type  episodes    premiered                                          producers                             studios       source       duration                          rating     rank  popularity  favorites  scored_by  members\n",
      "30        59571  https://myanimelist.net/anime/59571/Shingeki_n...  https://cdn.myanimelist.net/images/anime/1379/...  Shingeki no Kyojin Movie: Kanketsu-hen - The L...                   Attack on Titan: The Last Attack          劇場版 進撃の巨人 完結編 THE LAST ATTACK   8.81                            Action, Drama, Suspense             Gore, Military, Survival      Shounen  A compilation movie for Shingeki no Kyojin: Th...       Movie       1.0          NaN                                        Pony Canyon                               MAPPA        Manga    2 hr 25 min  R - 17+ (violence & profanity)     32.0        4169        220       5737    32307\n",
      "31        59571  https://myanimelist.net/anime/59571/Shingeki_n...  https://cdn.myanimelist.net/images/anime/1379/...  Shingeki no Kyojin Movie: Kanketsu-hen - The L...                   Attack on Titan: The Last Attack          劇場版 進撃の巨人 完結編 THE LAST ATTACK   8.81                            Action, Drama, Suspense             Gore, Military, Survival      Shounen  A compilation movie for Shingeki no Kyojin: Th...       Movie       1.0          NaN                                        Pony Canyon                               MAPPA        Manga    2 hr 25 min  R - 17+ (violence & profanity)     32.0        4169        220       5737    32307\n",
      "360       60108  https://myanimelist.net/anime/60108/One_Piece_...  https://cdn.myanimelist.net/images/anime/1928/...                          One Piece: Gyojin Tou-hen                One Piece Log: Fish-Man Island Saga  SPECIAL EDITED VERSION『ONE PIECE』魚人島編   8.23                         Action, Adventure, Fantasy                                  NaN      Shounen  Two years after the Summit War, Monkey D. Luff...          TV      21.0    fall 2024                                                NaN                      Toei Animation        Manga  23 min per ep       PG-13 - Teens 13 or older    362.0        4176        144       5830    32042\n",
      "361       60108  https://myanimelist.net/anime/60108/One_Piece_...  https://cdn.myanimelist.net/images/anime/1928/...                          One Piece: Gyojin Tou-hen                One Piece Log: Fish-Man Island Saga  SPECIAL EDITED VERSION『ONE PIECE』魚人島編   8.23                         Action, Adventure, Fantasy                                  NaN      Shounen  Two years after the Summit War, Monkey D. Luff...          TV      21.0    fall 2024                                                NaN                      Toei Animation        Manga  23 min per ep       PG-13 - Teens 13 or older    362.0        4176        144       5830    32042\n",
      "488       59150  https://myanimelist.net/anime/59150/Wu_Liuqi__...  https://cdn.myanimelist.net/images/anime/1126/...                             Wu Liuqi: Jiyi Suipian                 Scissor Seven: Fragments of Memory                               伍六七之记忆碎片   8.13  Action, Adventure, Comedy, Drama, Mystery, Sci...                                  NaN          NaN  In order to find his cherished partner, Wu Liu...         ONA      10.0          NaN                                                NaN  Sharefun Studio, AHA Entertainment     Original  15 min per ep  R - 17+ (violence & profanity)    486.0        6917         42       2142     9459\n",
      "489       59150  https://myanimelist.net/anime/59150/Wu_Liuqi__...  https://cdn.myanimelist.net/images/anime/1126/...                             Wu Liuqi: Jiyi Suipian                 Scissor Seven: Fragments of Memory                               伍六七之记忆碎片   8.13  Action, Adventure, Comedy, Drama, Mystery, Sci...                                  NaN          NaN  In order to find his cherished partner, Wu Liu...         ONA      10.0          NaN                                                NaN  Sharefun Studio, AHA Entertainment     Original  15 min per ep  R - 17+ (violence & profanity)    486.0        6917         42       2142     9459\n",
      "689       60988  https://myanimelist.net/anime/60988/Tian_Guan_...  https://cdn.myanimelist.net/images/anime/1182/...                          Tian Guan Cifu Short Film              Heaven Official's Blessing Short Film                                天官賜福 短片   7.99                  Action, Adventure, Drama, Fantasy                Historical, Mythology          NaN  A short film celebrating the fourth anniversar...         ONA       NaN          NaN                                           bilibili                                 NaN    Web novel          8 min       PG-13 - Teens 13 or older    676.0        9992         28        511     3547\n",
      "690       60988  https://myanimelist.net/anime/60988/Tian_Guan_...  https://cdn.myanimelist.net/images/anime/1182/...                          Tian Guan Cifu Short Film              Heaven Official's Blessing Short Film                                天官賜福 短片   7.99                  Action, Adventure, Drama, Fantasy                Historical, Mythology          NaN  A short film celebrating the fourth anniversar...         ONA       NaN          NaN                                           bilibili                                 NaN    Web novel          8 min       PG-13 - Teens 13 or older    676.0        9992         28        511     3547\n",
      "725       59497  https://myanimelist.net/anime/59497/Rising_Imp...  https://cdn.myanimelist.net/images/anime/1161/...                             Rising Impact Season 2                                                NaN                       ライジングインパクト シーズン2   7.96                                             Sports                                  NaN      Shounen                    Second season of Rising Impact.         ONA      14.0          NaN                                                NaN                            Lay-duce        Manga  24 min per ep       PG-13 - Teens 13 or older    715.0        6805         42       6172     9856\n",
      "726       59497  https://myanimelist.net/anime/59497/Rising_Imp...  https://cdn.myanimelist.net/images/anime/1161/...                             Rising Impact Season 2                                                NaN                       ライジングインパクト シーズン2   7.96                                             Sports                                  NaN      Shounen                    Second season of Rising Impact.         ONA      14.0          NaN                                                NaN                            Lay-duce        Manga  24 min per ep       PG-13 - Teens 13 or older    715.0        6805         42       6172     9856\n",
      "2589      60012  https://myanimelist.net/anime/60012/Re_Zero_ka...  https://cdn.myanimelist.net/images/anime/1349/...        Re:Zero kara Hajimeru Break Time 3rd Season   Re:ZERO ~Starting Break Time From Zero~ Season 3      Re:ゼロから始める休憩時間（ブレイクタイム）3rd season   7.37                                             Comedy                                  NaN          NaN  The third season of Re:Zero kara Hajimeru Kyuu...     Special       NaN          NaN                                                NaN                      Studio PuYUKAI  Light novel          2 min       PG-13 - Teens 13 or older   2485.0        7516         40        879     7653\n",
      "2590      60012  https://myanimelist.net/anime/60012/Re_Zero_ka...  https://cdn.myanimelist.net/images/anime/1349/...        Re:Zero kara Hajimeru Break Time 3rd Season   Re:ZERO ~Starting Break Time From Zero~ Season 3      Re:ゼロから始める休憩時間（ブレイクタイム）3rd season   7.37                                             Comedy                                  NaN          NaN  The third season of Re:Zero kara Hajimeru Kyuu...     Special       NaN          NaN                                                NaN                      Studio PuYUKAI  Light novel          2 min       PG-13 - Teens 13 or older   2485.0        7516         40        879     7653\n",
      "3362      60356   https://myanimelist.net/anime/60356/Teenage_Blue  https://cdn.myanimelist.net/images/anime/1761/...                                       Teenage Blue                                                NaN                             ティーンエイジブルー   7.23                                                NaN                                Music          NaN  Music video for the song Teenage Blue by Eve. ...       Music       1.0          NaN                                                NaN                                 NaN     Original          3 min       PG-13 - Teens 13 or older      NaN       12083          5        849     1898\n",
      "3363      60356   https://myanimelist.net/anime/60356/Teenage_Blue  https://cdn.myanimelist.net/images/anime/1761/...                                       Teenage Blue                                                NaN                             ティーンエイジブルー   7.23                                                NaN                                Music          NaN  Music video for the song Teenage Blue by Eve. ...       Music       1.0          NaN                                                NaN                                 NaN     Original          3 min       PG-13 - Teens 13 or older      NaN       12083          5        849     1898\n",
      "3554      60407  https://myanimelist.net/anime/60407/Kimi_to_Id...  https://cdn.myanimelist.net/images/anime/1277/...                              Kimi to Idol Precure♪                              You and Idol Precure♪                          キミとアイドルプリキュア♪   7.20                                             Action                         Mahou Shoujo          NaN  Uta Sakura is a lively and energetic middle sc...          TV       NaN  winter 2025                                                NaN                      Toei Animation     Original         24 min                    G - All Ages   3365.0        9859         23        411     3717\n",
      "3555      60407  https://myanimelist.net/anime/60407/Kimi_to_Id...  https://cdn.myanimelist.net/images/anime/1277/...                              Kimi to Idol Precure♪                              You and Idol Precure♪                          キミとアイドルプリキュア♪   7.20                                             Action                         Mahou Shoujo          NaN  Uta Sakura is a lively and energetic middle sc...          TV       NaN  winter 2025                                                NaN                      Toei Animation     Original         24 min                    G - All Ages   3365.0        9859         23        411     3717\n",
      "3793      59276  https://myanimelist.net/anime/59276/Seitokai_n...  https://cdn.myanimelist.net/images/anime/1485/...                      Seitokai ni mo Ana wa Aru! PV                                                NaN                         生徒会のCMを撮影するぞー！   7.16                                             Comedy                               School      Shounen  A promotional video advertising the Seitokai n...          PV       1.0          NaN                                                NaN                            Passione        Manga         21 sec       PG-13 - Teens 13 or older      NaN       12014         15        650     1938\n",
      "3794      59276  https://myanimelist.net/anime/59276/Seitokai_n...  https://cdn.myanimelist.net/images/anime/1485/...                      Seitokai ni mo Ana wa Aru! PV                                                NaN                         生徒会のCMを撮影するぞー！   7.16                                             Comedy                               School      Shounen  A promotional video advertising the Seitokai n...          PV       1.0          NaN                                                NaN                            Passione        Manga         21 sec       PG-13 - Teens 13 or older      NaN       12014         15        650     1938\n",
      "4047      59390   https://myanimelist.net/anime/59390/Terminator_0  https://cdn.myanimelist.net/images/anime/1655/...                                       Terminator 0                                    Terminator Zero                              ターミネーター 0   7.12                                     Action, Sci-Fi                          Time Travel          NaN  Decades after the sentient artificial intellig...         ONA       8.0          NaN                                           Skydance                      Production I.G        Other  27 min per ep  R - 17+ (violence & profanity)   3792.0        5159         68       9719    19754\n",
      "4048      59390   https://myanimelist.net/anime/59390/Terminator_0  https://cdn.myanimelist.net/images/anime/1655/...                                       Terminator 0                                    Terminator Zero                              ターミネーター 0   7.12                                     Action, Sci-Fi                          Time Travel          NaN  Decades after the sentient artificial intellig...         ONA       8.0          NaN                                           Skydance                      Production I.G        Other  27 min per ep  R - 17+ (violence & profanity)   3792.0        5159         68       9719    19754\n",
      "4112      60089  https://myanimelist.net/anime/60089/Chang_Shen...  https://cdn.myanimelist.net/images/anime/1757/...                                    Chang Sheng Jie                                 World of Immortals                                    长生界   7.11                         Action, Adventure, Fantasy                                  NaN          NaN  The World of Immortals, it is the world every ...         ONA      26.0          NaN                           Tencent Penguin Pictures                   Qingxiang Culture        Novel  20 min per ep       PG-13 - Teens 13 or older   3847.0       13381          8        207     1264\n",
      "4113      60089  https://myanimelist.net/anime/60089/Chang_Shen...  https://cdn.myanimelist.net/images/anime/1757/...                                    Chang Sheng Jie                                 World of Immortals                                    长生界   7.11                         Action, Adventure, Fantasy                                  NaN          NaN  The World of Immortals, it is the world every ...         ONA      26.0          NaN                           Tencent Penguin Pictures                   Qingxiang Culture        Novel  20 min per ep       PG-13 - Teens 13 or older   3847.0       13381          8        207     1264\n",
      "4338      60662  https://myanimelist.net/anime/60662/Neko_ni_Na...  https://cdn.myanimelist.net/images/anime/1528/...                       Neko ni Naritai Tamagawa-kun                                                NaN                            猫になりたい田万川くん   7.07                                  Boys Love, Comedy                                  NaN          NaN  For Tamagawa, volunteering at a cat café is th...  TV Special       1.0          NaN                          Dentsu, Kodansha, Maxilla                             Aeonium        Manga         17 min       PG-13 - Teens 13 or older   4079.0       11301         12        562     2398\n",
      "4339      60662  https://myanimelist.net/anime/60662/Neko_ni_Na...  https://cdn.myanimelist.net/images/anime/1528/...                       Neko ni Naritai Tamagawa-kun                                                NaN                            猫になりたい田万川くん   7.07                                  Boys Love, Comedy                                  NaN          NaN  For Tamagawa, volunteering at a cat café is th...  TV Special       1.0          NaN                          Dentsu, Kodansha, Maxilla                             Aeonium        Manga         17 min       PG-13 - Teens 13 or older   4079.0       11301         12        562     2398\n",
      "4966      59914  https://myanimelist.net/anime/59914/Kinnikuman...  https://cdn.myanimelist.net/images/anime/1228/...     Kinnikuman: Kanpeki Chоujin Shiso-hen Season 2            Kinnikuman: Perfect Origin Arc Season 2                  キン肉マン 完璧超人始祖編 Season2   6.95                                     Comedy, Sports                        Combat Sports      Shounen  Second season of Kinnikuman: Kanpeki Chоujin S...          TV       NaN  winter 2025  Toei Animation, Pony Canyon, Shueisha, BS11, A...                      Production I.G        Manga         23 min       PG-13 - Teens 13 or older   4598.0       11189          5        251     2477\n",
      "4967      59914  https://myanimelist.net/anime/59914/Kinnikuman...  https://cdn.myanimelist.net/images/anime/1228/...     Kinnikuman: Kanpeki Chоujin Shiso-hen Season 2            Kinnikuman: Perfect Origin Arc Season 2                  キン肉マン 完璧超人始祖編 Season2   6.95                                     Comedy, Sports                        Combat Sports      Shounen  Second season of Kinnikuman: Kanpeki Chоujin S...          TV       NaN  winter 2025  Toei Animation, Pony Canyon, Shueisha, BS11, A...                      Production I.G        Manga         23 min       PG-13 - Teens 13 or older   4598.0       11189          5        251     2477\n",
      "5014      60192  https://myanimelist.net/anime/60192/Flower_Rha...  https://cdn.myanimelist.net/images/anime/1252/...                                    Flower Rhapsody                                                NaN                        flower rhapsody   6.94                                                NaN                Idols (Female), Music          NaN  Music video for the song Flower Rhapsody by Sa...       Music       1.0          NaN                                                NaN                          Studio Kai     Original          4 min       PG-13 - Teens 13 or older      NaN       19270          3        156      328\n",
      "5015      60192  https://myanimelist.net/anime/60192/Flower_Rha...  https://cdn.myanimelist.net/images/anime/1252/...                                    Flower Rhapsody                                                NaN                        flower rhapsody   6.94                                                NaN                Idols (Female), Music          NaN  Music video for the song Flower Rhapsody by Sa...       Music       1.0          NaN                                                NaN                          Studio Kai     Original          4 min       PG-13 - Teens 13 or older      NaN       19270          3        156      328\n",
      "5016      59750     https://myanimelist.net/anime/59750/Go-Getters  https://cdn.myanimelist.net/images/anime/1329/...                                         Go-Getters                                                NaN                                    NaN   6.94                                                NaN                                Music          NaN  Music video for the song Go-Getters by Mori Ca...       Music       1.0          NaN                                                NaN                          Wit Studio     Original          3 min       PG-13 - Teens 13 or older      NaN       10305         15       1659     3203\n",
      "5017      59750     https://myanimelist.net/anime/59750/Go-Getters  https://cdn.myanimelist.net/images/anime/1329/...                                         Go-Getters                                                NaN                                    NaN   6.94                                                NaN                                Music          NaN  Music video for the song Go-Getters by Mori Ca...       Music       1.0          NaN                                                NaN                          Wit Studio     Original          3 min       PG-13 - Teens 13 or older      NaN       10305         15       1659     3203\n",
      "5378      60051         https://myanimelist.net/anime/60051/Mirage  https://cdn.myanimelist.net/images/anime/1375/...                                             Mirage                                                NaN                                 MIRAGE   6.88                                                NaN                                Music          NaN  Music video for the song Mirage by Takanashi K...       Music       1.0          NaN                                                NaN                                 NaN     Original          3 min       PG-13 - Teens 13 or older      NaN       15253          3        346      749\n",
      "5379      60051         https://myanimelist.net/anime/60051/Mirage  https://cdn.myanimelist.net/images/anime/1375/...                                             Mirage                                                NaN                                 MIRAGE   6.88                                                NaN                                Music          NaN  Music video for the song Mirage by Takanashi K...       Music       1.0          NaN                                                NaN                                 NaN     Original          3 min       PG-13 - Teens 13 or older      NaN       15253          3        346      749\n",
      "5744      59465  https://myanimelist.net/anime/59465/Fate_Grand...  https://cdn.myanimelist.net/images/anime/1412/...  Fate/Grand Order: Fujimaru Ritsuka wa Wakarana...  Fate/Grand Order: You've Lost Ritsuka Fujimaru...    Fate/Grand Order 藤丸立香はわからない Season2   6.82                                             Comedy                                  NaN          NaN  Second season of Fate/Grand Order: Fujimaru Ri...         ONA      26.0          NaN                                       INSPION Edge                                 DLE        Manga   2 min per ep       PG-13 - Teens 13 or older   5260.0       11771          2        305     2083\n",
      "5745      59465  https://myanimelist.net/anime/59465/Fate_Grand...  https://cdn.myanimelist.net/images/anime/1412/...  Fate/Grand Order: Fujimaru Ritsuka wa Wakarana...  Fate/Grand Order: You've Lost Ritsuka Fujimaru...    Fate/Grand Order 藤丸立香はわからない Season2   6.82                                             Comedy                                  NaN          NaN  Second season of Fate/Grand Order: Fujimaru Ri...         ONA      26.0          NaN                                       INSPION Edge                                 DLE        Manga   2 min per ep       PG-13 - Teens 13 or older   5260.0       11771          2        305     2083\n",
      "5805      59773     https://myanimelist.net/anime/59773/Shishigari  https://cdn.myanimelist.net/images/anime/1232/...                                         Shishigari                                                NaN                                   シシガリ   6.81                                Adventure, Suspense                             Survival          NaN  Deep in the northern mountains, there are peop...       Movie       1.0          NaN                                                NaN                       Studio DURIAN     Original         16 min       PG-13 - Teens 13 or older   5286.0       18000          1        106      418\n",
      "5806      59773     https://myanimelist.net/anime/59773/Shishigari  https://cdn.myanimelist.net/images/anime/1232/...                                         Shishigari                                                NaN                                   シシガリ   6.81                                Adventure, Suspense                             Survival          NaN  Deep in the northern mountains, there are peop...       Movie       1.0          NaN                                                NaN                       Studio DURIAN     Original         16 min       PG-13 - Teens 13 or older   5286.0       18000          1        106      418\n",
      "6053      59785        https://myanimelist.net/anime/59785/Allegro  https://cdn.myanimelist.net/images/anime/1015/...                                            Allegro                                                NaN                                Allegro   6.77                                             Sci-Fi                                Music          NaN  Music video for the song Allegro by Midnight G...       Music       1.0          NaN                                Hololive Production                          Wit Studio     Original          3 min       PG-13 - Teens 13 or older      NaN       19963          0        164      286\n",
      "6054      59785        https://myanimelist.net/anime/59785/Allegro  https://cdn.myanimelist.net/images/anime/1015/...                                            Allegro                                                NaN                                Allegro   6.77                                             Sci-Fi                                Music          NaN  Music video for the song Allegro by Midnight G...       Music       1.0          NaN                                Hololive Production                          Wit Studio     Original          3 min       PG-13 - Teens 13 or older      NaN       19963          0        164      286\n",
      "6200      60547  https://myanimelist.net/anime/60547/Tteotda_Ke...  https://cdn.myanimelist.net/images/anime/1686/...                     Tteotda Keunyeo!! Another Step                        There She Is!! Another Step                   떳다 그녀!! another step   6.75                                             Comedy                      Anthropomorphic          NaN                                                NaN         ONA       1.0          NaN                                                NaN                                 NaN     Original         12 min                    G - All Ages   5623.0       16512          0        177      558\n",
      "6201      60547  https://myanimelist.net/anime/60547/Tteotda_Ke...  https://cdn.myanimelist.net/images/anime/1686/...                     Tteotda Keunyeo!! Another Step                        There She Is!! Another Step                   떳다 그녀!! another step   6.75                                             Comedy                      Anthropomorphic          NaN                                                NaN         ONA       1.0          NaN                                                NaN                                 NaN     Original         12 min                    G - All Ages   5623.0       16512          0        177      558\n",
      "6202      59730  https://myanimelist.net/anime/59730/A-Rank_Par...  https://cdn.myanimelist.net/images/anime/1167/...  A-Rank Party wo Ridatsu shita Ore wa, Moto Osh...  I Left My A-Rank Party to Help My Former Stude...       Aランクパーティを離脱した俺は、元教え子たちと迷宮深部を目指す。   6.75                         Action, Adventure, Fantasy                                  NaN          NaN  \"I can't do this anymore!\" Yuke Feldio, a red ...          TV      24.0  winter 2025  Lantis, Kodansha, Nippon Television Network, S...               Bandai Namco Pictures  Light novel  23 min per ep       PG-13 - Teens 13 or older   5592.0        3352        118       7729    48914\n",
      "6203      59730  https://myanimelist.net/anime/59730/A-Rank_Par...  https://cdn.myanimelist.net/images/anime/1167/...  A-Rank Party wo Ridatsu shita Ore wa, Moto Osh...  I Left My A-Rank Party to Help My Former Stude...       Aランクパーティを離脱した俺は、元教え子たちと迷宮深部を目指す。   6.75                         Action, Adventure, Fantasy                                  NaN          NaN  \"I can't do this anymore!\" Yuke Feldio, a red ...          TV      24.0  winter 2025  Lantis, Kodansha, Nippon Television Network, S...               Bandai Namco Pictures  Light novel  23 min per ep       PG-13 - Teens 13 or older   5592.0        3352        118       7729    48914\n",
      "6699      59363  https://myanimelist.net/anime/59363/Mayonaka_P...  https://cdn.myanimelist.net/images/anime/1646/...                         Mayonaka Punch Short Anime                                                NaN                         真夜中ぱんチ ショートアニメ   6.68                               Comedy, Supernatural                              Vampire          NaN  Original anime capturing MayoPan members' solo...         ONA       5.0          NaN                                                NaN                          P.A. Works     Original   4 min per ep       PG-13 - Teens 13 or older   6016.0       12111          1        477     1883\n",
      "6700      59363  https://myanimelist.net/anime/59363/Mayonaka_P...  https://cdn.myanimelist.net/images/anime/1646/...                         Mayonaka Punch Short Anime                                                NaN                         真夜中ぱんチ ショートアニメ   6.68                               Comedy, Supernatural                              Vampire          NaN  Original anime capturing MayoPan members' solo...         ONA       5.0          NaN                                                NaN                          P.A. Works     Original   4 min per ep       PG-13 - Teens 13 or older   6016.0       12111          1        477     1883\n",
      "7181      59666  https://myanimelist.net/anime/59666/Bananya__A...  https://cdn.myanimelist.net/images/anime/1195/...                          Bananya: Around the World                           Bananya Around the World                      ばなにゃ あらうんど ざ わーるど   6.62                                      Slice of Life                      Anthropomorphic         Kids                           Third season of Bananya.         ONA      13.0          NaN                          DAX Production, TMS Music          TMS Entertainment, Lesprit     Original   3 min per ep                    G - All Ages   6386.0       11195          7        899     2470\n",
      "7182      59666  https://myanimelist.net/anime/59666/Bananya__A...  https://cdn.myanimelist.net/images/anime/1195/...                          Bananya: Around the World                           Bananya Around the World                      ばなにゃ あらうんど ざ わーるど   6.62                                      Slice of Life                      Anthropomorphic         Kids                           Third season of Bananya.         ONA      13.0          NaN                          DAX Production, TMS Music          TMS Entertainment, Lesprit     Original   3 min per ep                    G - All Ages   6386.0       11195          7        899     2470\n",
      "8162      59493  https://myanimelist.net/anime/59493/Tensei_shi...  https://cdn.myanimelist.net/images/anime/1465/...  Tensei shitara Slime Datta Ken: Kanwa - Lumino...  That Time I Got Reincarnated as a Slime Season...             転生したらスライムだった件 閑話:ルミナスメモリーズ   6.49                 Action, Adventure, Comedy, Fantasy                               Isekai          NaN  Recap of Tensei shitara Slime Datta Ken 3rd Se...  TV Special       1.0          NaN                                                NaN                                8bit        Manga         24 min       PG-13 - Teens 13 or older   7129.0        5280         17       6097    18671\n",
      "8163      59493  https://myanimelist.net/anime/59493/Tensei_shi...  https://cdn.myanimelist.net/images/anime/1465/...  Tensei shitara Slime Datta Ken: Kanwa - Lumino...  That Time I Got Reincarnated as a Slime Season...             転生したらスライムだった件 閑話:ルミナスメモリーズ   6.49                 Action, Adventure, Comedy, Fantasy                               Isekai          NaN  Recap of Tensei shitara Slime Datta Ken 3rd Se...  TV Special       1.0          NaN                                                NaN                                8bit        Manga         24 min       PG-13 - Teens 13 or older   7129.0        5280         17       6097    18671\n",
      "8653      60546  https://myanimelist.net/anime/60546/Momose_Aki...  https://cdn.myanimelist.net/images/anime/1700/...             Momose Akira no Hatsukoi Hatanchuu. PV                                                NaN                         百瀬アキラの初恋破綻中。PV   6.43                                    Comedy, Romance              Love Status Quo, School      Shounen  Promotional video commemorating the release of...          PV       1.0          NaN                                                NaN                                 NaN        Manga         52 sec       PG-13 - Teens 13 or older      NaN       13470         15        172     1237\n",
      "8654      60546  https://myanimelist.net/anime/60546/Momose_Aki...  https://cdn.myanimelist.net/images/anime/1700/...             Momose Akira no Hatsukoi Hatanchuu. PV                                                NaN                         百瀬アキラの初恋破綻中。PV   6.43                                    Comedy, Romance              Love Status Quo, School      Shounen  Promotional video commemorating the release of...          PV       1.0          NaN                                                NaN                                 NaN        Manga         52 sec       PG-13 - Teens 13 or older      NaN       13470         15        172     1237\n",
      "8825      56207  https://myanimelist.net/anime/56207/Quanzhi_Fa...  https://cdn.myanimelist.net/images/anime/1516/...            Quanzhi Fashi Tebie Pian: Shenmi Weituo                                                NaN                          全职法师 特别篇 神秘委托   6.41                                    Action, Fantasy                               School          NaN  The hero mage Mo Fan and his partner Ling Ling...         ONA       6.0          NaN                           Tencent Penguin Pictures                           Foch Film    Web novel  22 min per ep       PG-13 - Teens 13 or older   7643.0       10176         12        541     3347\n",
      "8826      56207  https://myanimelist.net/anime/56207/Quanzhi_Fa...  https://cdn.myanimelist.net/images/anime/1516/...            Quanzhi Fashi Tebie Pian: Shenmi Weituo                                                NaN                          全职法师 特别篇 神秘委托   6.41                                    Action, Fantasy                               School          NaN  The hero mage Mo Fan and his partner Ling Ling...         ONA       6.0          NaN                           Tencent Penguin Pictures                           Foch Film    Web novel  22 min per ep       PG-13 - Teens 13 or older   7643.0       10176         12        541     3347\n",
      "9299      60550         https://myanimelist.net/anime/60550/Vortex  https://cdn.myanimelist.net/images/anime/1060/...                                             Vortex                                             VORTEX                                 VORTEX   6.35                                                NaN                                Music          NaN  Music video for the song Vortex by Setsuko (Ku...       Music       1.0          NaN                                        Pony Canyon                         TriF Studio     Original          3 min       PG-13 - Teens 13 or older      NaN       21040          0        114      227\n",
      "9300      60550         https://myanimelist.net/anime/60550/Vortex  https://cdn.myanimelist.net/images/anime/1060/...                                             Vortex                                             VORTEX                                 VORTEX   6.35                                                NaN                                Music          NaN  Music video for the song Vortex by Setsuko (Ku...       Music       1.0          NaN                                        Pony Canyon                         TriF Studio     Original          3 min       PG-13 - Teens 13 or older      NaN       21040          0        114      227\n",
      "9795      60042  https://myanimelist.net/anime/60042/Sakuranbo_...  https://cdn.myanimelist.net/images/anime/1676/...                                  Sakuranbo Message                                     Cherry Message                             さくらんぼメッセージ   6.29                                                NaN                Idols (Female), Music          NaN  Music video for the song Sakuranbo Message by ...       Music       1.0          NaN                                                NaN                                 NaN     Original          3 min       PG-13 - Teens 13 or older      NaN       21085          0        120      225\n",
      "9796      60042  https://myanimelist.net/anime/60042/Sakuranbo_...  https://cdn.myanimelist.net/images/anime/1676/...                                  Sakuranbo Message                                     Cherry Message                             さくらんぼメッセージ   6.29                                                NaN                Idols (Female), Music          NaN  Music video for the song Sakuranbo Message by ...       Music       1.0          NaN                                                NaN                                 NaN     Original          3 min       PG-13 - Teens 13 or older      NaN       21085          0        120      225\n",
      "9885      60652  https://myanimelist.net/anime/60652/Shiawase√K...  https://cdn.myanimelist.net/images/anime/1130/...                                Shiawase√Koyorinium                                                NaN                            シアワセ√コヨリニウム   6.28                                                NaN                Idols (Female), Music          NaN  Music video for the song Shiawase√Koyorinium b...       Music       1.0          NaN                                                NaN                                 NaN     Original          3 min       PG-13 - Teens 13 or older      NaN       17300          0        199      476\n",
      "9886      60652  https://myanimelist.net/anime/60652/Shiawase√K...  https://cdn.myanimelist.net/images/anime/1130/...                                Shiawase√Koyorinium                                                NaN                            シアワセ√コヨリニウム   6.28                                                NaN                Idols (Female), Music          NaN  Music video for the song Shiawase√Koyorinium b...       Music       1.0          NaN                                                NaN                                 NaN     Original          3 min       PG-13 - Teens 13 or older      NaN       17300          0        199      476\n",
      "10437     60084  https://myanimelist.net/anime/60084/Delicos_Nu...  https://cdn.myanimelist.net/images/anime/1424/...                     Delico's Nursery: Ikuji Nisshi                                                NaN                       『デリコズ・ナーサリー』育児日誌   6.21                                   Fantasy, Mystery  Childcare, Organized Crime, Vampire          NaN  From the pages of Dali's child-rearing journal...  TV Special       1.0          NaN                                                NaN                           J.C.Staff        Other         23 min       PG-13 - Teens 13 or older   8776.0       14494          1        296      938\n",
      "10438     60084  https://myanimelist.net/anime/60084/Delicos_Nu...  https://cdn.myanimelist.net/images/anime/1424/...                     Delico's Nursery: Ikuji Nisshi                                                NaN                       『デリコズ・ナーサリー』育児日誌   6.21                                   Fantasy, Mystery  Childcare, Organized Crime, Vampire          NaN  From the pages of Dali's child-rearing journal...  TV Special       1.0          NaN                                                NaN                           J.C.Staff        Other         23 min       PG-13 - Teens 13 or older   8776.0       14494          1        296      938\n",
      "10439     50385  https://myanimelist.net/anime/50385/One_Piece_...  https://cdn.myanimelist.net/images/anime/1358/...                           One Piece Characters Log                                                NaN                       ワンピース_キャラクターズLog   6.21                   Action, Adventure, Comedy, Drama                                  NaN      Shounen  One Piece Characters Log is the third episode ...     Special       9.0          NaN                                                NaN                      Toei Animation        Manga  24 min per ep       PG-13 - Teens 13 or older   8817.0       17225          0        126      483\n",
      "10440     50385  https://myanimelist.net/anime/50385/One_Piece_...  https://cdn.myanimelist.net/images/anime/1358/...                           One Piece Characters Log                                                NaN                       ワンピース_キャラクターズLog   6.21                   Action, Adventure, Comedy, Drama                                  NaN      Shounen  One Piece Characters Log is the third episode ...     Special       9.0          NaN                                                NaN                      Toei Animation        Manga  24 min per ep       PG-13 - Teens 13 or older   8817.0       17225          0        126      483\n",
      "10441     59523  https://myanimelist.net/anime/59523/Mazome_Soa...  https://cdn.myanimelist.net/images/anime/1117/...                           Mazome Soap de Aimashou!                                                NaN                        マゾメスソープで逢いましょう!   6.21                                             Hentai                                  NaN          NaN  Mitsurugi and Nagihara, the new employees at t...         OVA       2.0          NaN                               Queen Bee, Mediabank                          Blue bread        Manga  20 min per ep                     Rx - Hentai      NaN       12358          5        488     1721\n",
      "10442     59523  https://myanimelist.net/anime/59523/Mazome_Soa...  https://cdn.myanimelist.net/images/anime/1117/...                           Mazome Soap de Aimashou!                                                NaN                        マゾメスソープで逢いましょう!   6.21                                             Hentai                                  NaN          NaN  Mitsurugi and Nagihara, the new employees at t...         OVA       2.0          NaN                               Queen Bee, Mediabank                          Blue bread        Manga  20 min per ep                     Rx - Hentai      NaN       12358          5        488     1721\n",
      "13323     60425  https://myanimelist.net/anime/60425/0-saiji_St...  https://cdn.myanimelist.net/images/anime/1477/...             0-saiji Start Dash Monogatari Season 2     0 Years Old Child Starting Dash Story Season 2                    0歳児スタートダッシュ物語 シーズン2   5.82                                 Adventure, Fantasy                Isekai, Reincarnation          NaN  After reincarnating from her previous life as ...          TV       NaN  winter 2025                                                NaN                                 NaN        Manga          4 min       PG-13 - Teens 13 or older  10808.0       10792          8        175     2793\n",
      "13324     60425  https://myanimelist.net/anime/60425/0-saiji_St...  https://cdn.myanimelist.net/images/anime/1477/...             0-saiji Start Dash Monogatari Season 2     0 Years Old Child Starting Dash Story Season 2                    0歳児スタートダッシュ物語 シーズン2   5.82                                 Adventure, Fantasy                Isekai, Reincarnation          NaN  After reincarnating from her previous life as ...          TV       NaN  winter 2025                                                NaN                                 NaN        Manga          4 min       PG-13 - Teens 13 or older  10808.0       10792          8        175     2793\n",
      "13992     58873  https://myanimelist.net/anime/58873/Mark_Your_...  https://cdn.myanimelist.net/images/anime/1558/...                       Mark Your Kiss The Animation                                                NaN         MARK YOUR KISS ~The Animation~   5.72                                             Hentai                                  NaN          NaN                                                NaN         ONA       1.0          NaN                                                NaN                                 NaN        Manga         12 min                     Rx - Hentai      NaN       16873          5        164      518\n",
      "13993     58873  https://myanimelist.net/anime/58873/Mark_Your_...  https://cdn.myanimelist.net/images/anime/1558/...                       Mark Your Kiss The Animation                                                NaN         MARK YOUR KISS ~The Animation~   5.72                                             Hentai                                  NaN          NaN                                                NaN         ONA       1.0          NaN                                                NaN                                 NaN        Manga         12 min                     Rx - Hentai      NaN       16873          5        164      518\n"
     ]
    }
   ],
   "source": [
    "def check_duplicates(df, subset=None):\n",
    "    dups = df[df.duplicated(subset=subset, keep=False)]\n",
    "    print(f\"Duplicates ({len(dups)}):\\n{dups}\" if not dups.empty else \"No duplicates found.\")\n",
    "\n",
    "check_duplicates(df_anime) "
   ]
  },
  {
   "cell_type": "code",
   "execution_count": 18,
   "metadata": {},
   "outputs": [],
   "source": [
    "# Very quick check for more accuracy\n",
    "df_anime['concat'] = df_anime['anime_id'].astype(str) + '_' + df_anime['name'].astype(str) + '_' + df_anime['popularity'].astype(str)\n",
    "\n",
    "len(df_anime) # 15000\n",
    "df_anime['concat'].nunique() # 14966\n",
    "\n",
    "df_anime.drop('concat', axis=1, inplace=True)"
   ]
  },
  {
   "cell_type": "markdown",
   "metadata": {},
   "source": [
    "## Droping duplicates "
   ]
  },
  {
   "cell_type": "code",
   "execution_count": 19,
   "metadata": {},
   "outputs": [
    {
     "data": {
      "text/plain": [
       "14966"
      ]
     },
     "execution_count": 19,
     "metadata": {},
     "output_type": "execute_result"
    }
   ],
   "source": [
    "def drop_duplicates(df, subset=None, inplace=False):\n",
    "    df.drop_duplicates(subset=subset, keep='first', inplace=inplace)\n",
    "    if not inplace:\n",
    "        return df\n",
    "\n",
    "drop_duplicates(df_anime, inplace=True)\n",
    "len(df_anime)"
   ]
  },
  {
   "cell_type": "markdown",
   "metadata": {},
   "source": [
    "# Checking data to impute/inferred"
   ]
  },
  {
   "cell_type": "code",
   "execution_count": 20,
   "metadata": {},
   "outputs": [
    {
     "data": {
      "application/vnd.microsoft.datawrangler.viewer.v0+json": {
       "columns": [
        {
         "name": "index",
         "rawType": "int64",
         "type": "integer"
        },
        {
         "name": "anime_id",
         "rawType": "int64",
         "type": "integer"
        },
        {
         "name": "anime_url",
         "rawType": "object",
         "type": "string"
        },
        {
         "name": "image_url",
         "rawType": "object",
         "type": "string"
        },
        {
         "name": "name",
         "rawType": "object",
         "type": "string"
        },
        {
         "name": "english_name",
         "rawType": "object",
         "type": "unknown"
        },
        {
         "name": "japanese_names",
         "rawType": "object",
         "type": "string"
        },
        {
         "name": "score",
         "rawType": "float64",
         "type": "float"
        },
        {
         "name": "genres",
         "rawType": "object",
         "type": "unknown"
        },
        {
         "name": "themes",
         "rawType": "object",
         "type": "unknown"
        },
        {
         "name": "demographics",
         "rawType": "object",
         "type": "unknown"
        },
        {
         "name": "synopsis",
         "rawType": "object",
         "type": "unknown"
        },
        {
         "name": "type",
         "rawType": "object",
         "type": "string"
        },
        {
         "name": "episodes",
         "rawType": "float64",
         "type": "float"
        },
        {
         "name": "premiered",
         "rawType": "object",
         "type": "unknown"
        },
        {
         "name": "producers",
         "rawType": "object",
         "type": "unknown"
        },
        {
         "name": "studios",
         "rawType": "object",
         "type": "string"
        },
        {
         "name": "source",
         "rawType": "object",
         "type": "string"
        },
        {
         "name": "duration",
         "rawType": "object",
         "type": "string"
        },
        {
         "name": "rating",
         "rawType": "object",
         "type": "string"
        },
        {
         "name": "rank",
         "rawType": "float64",
         "type": "float"
        },
        {
         "name": "popularity",
         "rawType": "int64",
         "type": "integer"
        },
        {
         "name": "favorites",
         "rawType": "int64",
         "type": "integer"
        },
        {
         "name": "scored_by",
         "rawType": "int64",
         "type": "integer"
        },
        {
         "name": "members",
         "rawType": "int64",
         "type": "integer"
        }
       ],
       "conversionMethod": "pd.DataFrame",
       "ref": "1167290a-24c3-4951-b80a-d79ec25af614",
       "rows": [
        [
         "8796",
         "21167",
         "https://myanimelist.net/anime/21167/Escha___Logy_no_Atelier__Tasogare_no_Sora_no_Renkinjutsushi",
         "https://cdn.myanimelist.net/images/anime/2/61733.jpg",
         "Escha & Logy no Atelier: Tasogare no Sora no Renkinjutsushi",
         "Atelier Escha & Logy: Alchemists of the Dusk Sky",
         "エスカ&ロジーのアトリエ ～黄昏の空の錬金術士～",
         "6.42",
         "Fantasy",
         null,
         null,
         "This world has gone through many Dusks, and is slowly nearing its end. Within this world, in the western reaches of the \"Land of Dusk,\" there was a nation that prospered thanks to its use of alchemy.\n\nThere, in order to survive the eventual arrival of the \"Dusk End,\" the people devoted their efforts to rediscover and recreate lost alchemic technologies. Rediscovered technology from the past era was gathered in the alchemy research city known as \"Central,\" where research was conducted on how to halt the advance of the twilight.\n\nOne of the heroes is a young man who researched alchemy in Central, the other a girl living in a small town on the frontier. This girl's name is Escha. In the process of using her knowledge of ancient alchemy to help others, she was assigned to the Development Department. The young man's name is Logy. Having learned the newest alchemic techniques in Central, he requested a transfer to this understaffed town to make use of his abilities, and meets Escha when he is assigned to the Development Department as well. The two make a promise to use their alchemy together, and bring success to the Development Department.\n\n(Source: Tecmo Koei Europe)",
         "TV",
         "12.0",
         "spring 2014",
         "Sotsu, Pony Canyon",
         "Studio Gokumi",
         "Game",
         "23 min per ep",
         "PG-13 - Teens 13 or older",
         "7576.0",
         "2887",
         "80",
         "24908",
         "64991"
        ],
        [
         "4450",
         "30988",
         "https://myanimelist.net/anime/30988/Futsuu_no_Joshikousei_ga_Locodol_Yattemita_OVA",
         "https://cdn.myanimelist.net/images/anime/4/78297.jpg",
         "Futsuu no Joshikousei ga [Locodol] Yattemita. OVA",
         null,
         "普通の女子校生が【ろこどる】やってみた流。OVA",
         "7.05",
         "Comedy, Slice of Life",
         "Idols (Female)",
         null,
         "A new OVA for the idol girls series Futsuu no Joshikousei ga [Locodol] Yatte Mita. has been announced on the anime’s official Twitter. The news was first given at the 2nd Early Summer Nagarekawa Festival which took place at the Differ Ariake Arena in Tokyo today, and consisted of live events including the main cast of the anime.\n\n(Source: MAL News)",
         "OVA",
         "2.0",
         null,
         "DAX Production",
         "feel.",
         "4-koma manga",
         "24 min per ep",
         "PG-13 - Teens 13 or older",
         "4139.0",
         "7262",
         "4",
         "3808",
         "8396"
        ],
        [
         "6433",
         "9005",
         "https://myanimelist.net/anime/9005/To_Heart_2_Adnext",
         "https://cdn.myanimelist.net/images/anime/8/75477.jpg",
         "To Heart 2 Adnext",
         null,
         "ToHeart2 adnext",
         "6.72",
         "Comedy, Romance",
         "Harem",
         null,
         "Komaki Manaka daydreams about classmate Kono Takaaki but is too shy to talk to boys. As Takaaki-kun helps her in the library they resolve to have training sessions there, calling each other by first name. When Manaka addresses Takaaki-kun outside the library, his buddy Kosaka Yuji overhears them and tells their classmates how close these two have become, causing a surprising effect on other girls around Takaaki.\n\n(Source: ANN)",
         "OVA",
         "2.0",
         null,
         null,
         "Chaos Project",
         "Visual novel",
         "28 min per ep",
         "PG-13 - Teens 13 or older",
         "5785.0",
         "8548",
         "4",
         "2096",
         "5637"
        ],
        [
         "8039",
         "5895",
         "https://myanimelist.net/anime/5895/Tistou_Midori_no_Oyayubi",
         "https://cdn.myanimelist.net/images/anime/6/68841.jpg",
         "Tistou Midori no Oyayubi",
         "Tistou the Green Thumb",
         "チスト　みどりのおやゆび",
         "6.51",
         null,
         "Historical",
         null,
         "When eight-year-old Tistou is sent home from school after being unable to stop falling asleep at lessons, his father decides that he will continue his education by learning from observation of real life, and where better to start than in the garden!\n\nWith the gardener Mr. Moustache, Tistou discovers he has a remarkable gift—the green thumbs: everything he touches grows into beautiful plants. His next lesson is with the stern Mr. Turnbull, manager of his father's armament factory who takes Tistou to visit the town to learn about \"order.\"\n\nOver the course of the next few days Tistou learns many new things as he visits the town prison, the slums, and the hospital, and everywhere he tries to change the world into a better place with his new extraordinary power. Finally, he learns about war, and upon visiting his father's factory, he finds out that they supply the two countries at war with their weapons...\n\n(Source: outsideinworld.org, edited)",
         "Movie",
         "1.0",
         null,
         null,
         "Production I.G",
         "Original",
         "1 hr 14 min",
         "G - All Ages",
         "7021.0",
         "14115",
         "2",
         "195",
         "1043"
        ],
        [
         "4775",
         "52104",
         "https://myanimelist.net/anime/52104/Boku_wa_Chiisana_Succubus_no_Shimobe",
         "https://cdn.myanimelist.net/images/anime/1099/124542.jpg",
         "Boku wa Chiisana Succubus no Shimobe",
         null,
         "僕は小さな淫魔〈サキュバス〉のしもべ",
         "6.99",
         "Supernatural, Hentai",
         null,
         null,
         null,
         "OVA",
         "2.0",
         null,
         "Mary Jane",
         "New Generation",
         "Manga",
         "15 min per ep",
         "Rx - Hentai",
         null,
         "8712",
         "37",
         "1946",
         "5358"
        ],
        [
         "5954",
         "11161",
         "https://myanimelist.net/anime/11161/Hoshizora_e_Kakaru_Hashi__Kakaru_ka_Gakuensai_ni_Koi_no_Hashi",
         "https://cdn.myanimelist.net/images/anime/10/30839.jpg",
         "Hoshizora e Kakaru Hashi: Kakaru ka? Gakuensai ni Koi no Hashi",
         null,
         "星空へ架かる橋　架かるか？学園祭に恋の橋",
         "6.79",
         "Comedy, Romance, Ecchi",
         "School",
         null,
         "Shortly before the upcoming festival, a year after the end of episode 12, Daigo decides to find a girlfriend to dance with in the festival. Will he be able to do so?",
         "Special",
         "1.0",
         null,
         null,
         "Doga Kobo",
         "Visual novel",
         "26 min",
         "R+ - Mild Nudity",
         "5423.0",
         "4228",
         "6",
         "15962",
         "31033"
        ],
        [
         "3364",
         "57648",
         "https://myanimelist.net/anime/57648/Nihon_e_Youkoso_Elf-san",
         "https://cdn.myanimelist.net/images/anime/1650/146113.jpg",
         "Nihon e Youkoso Elf-san.",
         "Welcome to Japan, Ms. Elf!",
         "日本へようこそエルフさん。",
         "7.23",
         "Comedy, Fantasy",
         "Isekai",
         null,
         "Kazuhiro Kitase's only hobby is sleeping. Ever since he was young, he would enter a wondrous world within his dreams and go on thrilling adventures. One day, he goes on an adventure with an elf girl he became friends with in his dream world, but it's put to an abrupt halt when they both get scorched with a dragon's breath! As he wakes up from his dream, he notices a familiar figure sleeping next to him...the elf girl from his dreams?!\n\nJoin Kazuhiro on his new adventures through Japan with Ms. Elf!\n\n(Source: J-Novel Club)",
         "TV",
         "12.0",
         "winter 2025",
         "Lantis, Toei Video, Mainichi Broadcasting System, AT-X, DAX Production, KlockWorx, Hobby Japan, BS11, MAGNET, Bandai Namco Music Live, qooop",
         "Zero-G",
         "Light novel",
         "23 min per ep",
         "PG-13 - Teens 13 or older",
         "3222.0",
         "3203",
         "163",
         "7277",
         "53154"
        ]
       ],
       "shape": {
        "columns": 24,
        "rows": 7
       }
      },
      "text/html": [
       "<div>\n",
       "<style scoped>\n",
       "    .dataframe tbody tr th:only-of-type {\n",
       "        vertical-align: middle;\n",
       "    }\n",
       "\n",
       "    .dataframe tbody tr th {\n",
       "        vertical-align: top;\n",
       "    }\n",
       "\n",
       "    .dataframe thead th {\n",
       "        text-align: right;\n",
       "    }\n",
       "</style>\n",
       "<table border=\"1\" class=\"dataframe\">\n",
       "  <thead>\n",
       "    <tr style=\"text-align: right;\">\n",
       "      <th></th>\n",
       "      <th>anime_id</th>\n",
       "      <th>anime_url</th>\n",
       "      <th>image_url</th>\n",
       "      <th>name</th>\n",
       "      <th>english_name</th>\n",
       "      <th>japanese_names</th>\n",
       "      <th>score</th>\n",
       "      <th>genres</th>\n",
       "      <th>themes</th>\n",
       "      <th>demographics</th>\n",
       "      <th>synopsis</th>\n",
       "      <th>type</th>\n",
       "      <th>episodes</th>\n",
       "      <th>premiered</th>\n",
       "      <th>producers</th>\n",
       "      <th>studios</th>\n",
       "      <th>source</th>\n",
       "      <th>duration</th>\n",
       "      <th>rating</th>\n",
       "      <th>rank</th>\n",
       "      <th>popularity</th>\n",
       "      <th>favorites</th>\n",
       "      <th>scored_by</th>\n",
       "      <th>members</th>\n",
       "    </tr>\n",
       "  </thead>\n",
       "  <tbody>\n",
       "    <tr>\n",
       "      <th>8796</th>\n",
       "      <td>21167</td>\n",
       "      <td>https://myanimelist.net/anime/21167/Escha___Lo...</td>\n",
       "      <td>https://cdn.myanimelist.net/images/anime/2/617...</td>\n",
       "      <td>Escha &amp; Logy no Atelier: Tasogare no Sora no R...</td>\n",
       "      <td>Atelier Escha &amp; Logy: Alchemists of the Dusk Sky</td>\n",
       "      <td>エスカ&amp;ロジーのアトリエ ～黄昏の空の錬金術士～</td>\n",
       "      <td>6.42</td>\n",
       "      <td>Fantasy</td>\n",
       "      <td>NaN</td>\n",
       "      <td>NaN</td>\n",
       "      <td>This world has gone through many Dusks, and is...</td>\n",
       "      <td>TV</td>\n",
       "      <td>12.0</td>\n",
       "      <td>spring 2014</td>\n",
       "      <td>Sotsu, Pony Canyon</td>\n",
       "      <td>Studio Gokumi</td>\n",
       "      <td>Game</td>\n",
       "      <td>23 min per ep</td>\n",
       "      <td>PG-13 - Teens 13 or older</td>\n",
       "      <td>7576.0</td>\n",
       "      <td>2887</td>\n",
       "      <td>80</td>\n",
       "      <td>24908</td>\n",
       "      <td>64991</td>\n",
       "    </tr>\n",
       "    <tr>\n",
       "      <th>4450</th>\n",
       "      <td>30988</td>\n",
       "      <td>https://myanimelist.net/anime/30988/Futsuu_no_...</td>\n",
       "      <td>https://cdn.myanimelist.net/images/anime/4/782...</td>\n",
       "      <td>Futsuu no Joshikousei ga [Locodol] Yattemita. OVA</td>\n",
       "      <td>NaN</td>\n",
       "      <td>普通の女子校生が【ろこどる】やってみた流。OVA</td>\n",
       "      <td>7.05</td>\n",
       "      <td>Comedy, Slice of Life</td>\n",
       "      <td>Idols (Female)</td>\n",
       "      <td>NaN</td>\n",
       "      <td>A new OVA for the idol girls series Futsuu no ...</td>\n",
       "      <td>OVA</td>\n",
       "      <td>2.0</td>\n",
       "      <td>NaN</td>\n",
       "      <td>DAX Production</td>\n",
       "      <td>feel.</td>\n",
       "      <td>4-koma manga</td>\n",
       "      <td>24 min per ep</td>\n",
       "      <td>PG-13 - Teens 13 or older</td>\n",
       "      <td>4139.0</td>\n",
       "      <td>7262</td>\n",
       "      <td>4</td>\n",
       "      <td>3808</td>\n",
       "      <td>8396</td>\n",
       "    </tr>\n",
       "    <tr>\n",
       "      <th>6433</th>\n",
       "      <td>9005</td>\n",
       "      <td>https://myanimelist.net/anime/9005/To_Heart_2_...</td>\n",
       "      <td>https://cdn.myanimelist.net/images/anime/8/754...</td>\n",
       "      <td>To Heart 2 Adnext</td>\n",
       "      <td>NaN</td>\n",
       "      <td>ToHeart2 adnext</td>\n",
       "      <td>6.72</td>\n",
       "      <td>Comedy, Romance</td>\n",
       "      <td>Harem</td>\n",
       "      <td>NaN</td>\n",
       "      <td>Komaki Manaka daydreams about classmate Kono T...</td>\n",
       "      <td>OVA</td>\n",
       "      <td>2.0</td>\n",
       "      <td>NaN</td>\n",
       "      <td>NaN</td>\n",
       "      <td>Chaos Project</td>\n",
       "      <td>Visual novel</td>\n",
       "      <td>28 min per ep</td>\n",
       "      <td>PG-13 - Teens 13 or older</td>\n",
       "      <td>5785.0</td>\n",
       "      <td>8548</td>\n",
       "      <td>4</td>\n",
       "      <td>2096</td>\n",
       "      <td>5637</td>\n",
       "    </tr>\n",
       "    <tr>\n",
       "      <th>8039</th>\n",
       "      <td>5895</td>\n",
       "      <td>https://myanimelist.net/anime/5895/Tistou_Mido...</td>\n",
       "      <td>https://cdn.myanimelist.net/images/anime/6/688...</td>\n",
       "      <td>Tistou Midori no Oyayubi</td>\n",
       "      <td>Tistou the Green Thumb</td>\n",
       "      <td>チスト　みどりのおやゆび</td>\n",
       "      <td>6.51</td>\n",
       "      <td>NaN</td>\n",
       "      <td>Historical</td>\n",
       "      <td>NaN</td>\n",
       "      <td>When eight-year-old Tistou is sent home from s...</td>\n",
       "      <td>Movie</td>\n",
       "      <td>1.0</td>\n",
       "      <td>NaN</td>\n",
       "      <td>NaN</td>\n",
       "      <td>Production I.G</td>\n",
       "      <td>Original</td>\n",
       "      <td>1 hr 14 min</td>\n",
       "      <td>G - All Ages</td>\n",
       "      <td>7021.0</td>\n",
       "      <td>14115</td>\n",
       "      <td>2</td>\n",
       "      <td>195</td>\n",
       "      <td>1043</td>\n",
       "    </tr>\n",
       "    <tr>\n",
       "      <th>4775</th>\n",
       "      <td>52104</td>\n",
       "      <td>https://myanimelist.net/anime/52104/Boku_wa_Ch...</td>\n",
       "      <td>https://cdn.myanimelist.net/images/anime/1099/...</td>\n",
       "      <td>Boku wa Chiisana Succubus no Shimobe</td>\n",
       "      <td>NaN</td>\n",
       "      <td>僕は小さな淫魔〈サキュバス〉のしもべ</td>\n",
       "      <td>6.99</td>\n",
       "      <td>Supernatural, Hentai</td>\n",
       "      <td>NaN</td>\n",
       "      <td>NaN</td>\n",
       "      <td>NaN</td>\n",
       "      <td>OVA</td>\n",
       "      <td>2.0</td>\n",
       "      <td>NaN</td>\n",
       "      <td>Mary Jane</td>\n",
       "      <td>New Generation</td>\n",
       "      <td>Manga</td>\n",
       "      <td>15 min per ep</td>\n",
       "      <td>Rx - Hentai</td>\n",
       "      <td>NaN</td>\n",
       "      <td>8712</td>\n",
       "      <td>37</td>\n",
       "      <td>1946</td>\n",
       "      <td>5358</td>\n",
       "    </tr>\n",
       "    <tr>\n",
       "      <th>5954</th>\n",
       "      <td>11161</td>\n",
       "      <td>https://myanimelist.net/anime/11161/Hoshizora_...</td>\n",
       "      <td>https://cdn.myanimelist.net/images/anime/10/30...</td>\n",
       "      <td>Hoshizora e Kakaru Hashi: Kakaru ka? Gakuensai...</td>\n",
       "      <td>NaN</td>\n",
       "      <td>星空へ架かる橋　架かるか？学園祭に恋の橋</td>\n",
       "      <td>6.79</td>\n",
       "      <td>Comedy, Romance, Ecchi</td>\n",
       "      <td>School</td>\n",
       "      <td>NaN</td>\n",
       "      <td>Shortly before the upcoming festival, a year a...</td>\n",
       "      <td>Special</td>\n",
       "      <td>1.0</td>\n",
       "      <td>NaN</td>\n",
       "      <td>NaN</td>\n",
       "      <td>Doga Kobo</td>\n",
       "      <td>Visual novel</td>\n",
       "      <td>26 min</td>\n",
       "      <td>R+ - Mild Nudity</td>\n",
       "      <td>5423.0</td>\n",
       "      <td>4228</td>\n",
       "      <td>6</td>\n",
       "      <td>15962</td>\n",
       "      <td>31033</td>\n",
       "    </tr>\n",
       "    <tr>\n",
       "      <th>3364</th>\n",
       "      <td>57648</td>\n",
       "      <td>https://myanimelist.net/anime/57648/Nihon_e_Yo...</td>\n",
       "      <td>https://cdn.myanimelist.net/images/anime/1650/...</td>\n",
       "      <td>Nihon e Youkoso Elf-san.</td>\n",
       "      <td>Welcome to Japan, Ms. Elf!</td>\n",
       "      <td>日本へようこそエルフさん。</td>\n",
       "      <td>7.23</td>\n",
       "      <td>Comedy, Fantasy</td>\n",
       "      <td>Isekai</td>\n",
       "      <td>NaN</td>\n",
       "      <td>Kazuhiro Kitase's only hobby is sleeping. Ever...</td>\n",
       "      <td>TV</td>\n",
       "      <td>12.0</td>\n",
       "      <td>winter 2025</td>\n",
       "      <td>Lantis, Toei Video, Mainichi Broadcasting Syst...</td>\n",
       "      <td>Zero-G</td>\n",
       "      <td>Light novel</td>\n",
       "      <td>23 min per ep</td>\n",
       "      <td>PG-13 - Teens 13 or older</td>\n",
       "      <td>3222.0</td>\n",
       "      <td>3203</td>\n",
       "      <td>163</td>\n",
       "      <td>7277</td>\n",
       "      <td>53154</td>\n",
       "    </tr>\n",
       "  </tbody>\n",
       "</table>\n",
       "</div>"
      ],
      "text/plain": [
       "      anime_id                                          anime_url                                          image_url                                               name                                      english_name            japanese_names  score                  genres          themes demographics                                           synopsis     type  episodes    premiered                                          producers         studios        source       duration                     rating    rank  popularity  favorites  scored_by  members\n",
       "8796     21167  https://myanimelist.net/anime/21167/Escha___Lo...  https://cdn.myanimelist.net/images/anime/2/617...  Escha & Logy no Atelier: Tasogare no Sora no R...  Atelier Escha & Logy: Alchemists of the Dusk Sky  エスカ&ロジーのアトリエ ～黄昏の空の錬金術士～   6.42                 Fantasy             NaN          NaN  This world has gone through many Dusks, and is...       TV      12.0  spring 2014                                 Sotsu, Pony Canyon   Studio Gokumi          Game  23 min per ep  PG-13 - Teens 13 or older  7576.0        2887         80      24908    64991\n",
       "4450     30988  https://myanimelist.net/anime/30988/Futsuu_no_...  https://cdn.myanimelist.net/images/anime/4/782...  Futsuu no Joshikousei ga [Locodol] Yattemita. OVA                                               NaN  普通の女子校生が【ろこどる】やってみた流。OVA   7.05   Comedy, Slice of Life  Idols (Female)          NaN  A new OVA for the idol girls series Futsuu no ...      OVA       2.0          NaN                                     DAX Production           feel.  4-koma manga  24 min per ep  PG-13 - Teens 13 or older  4139.0        7262          4       3808     8396\n",
       "6433      9005  https://myanimelist.net/anime/9005/To_Heart_2_...  https://cdn.myanimelist.net/images/anime/8/754...                                  To Heart 2 Adnext                                               NaN           ToHeart2 adnext   6.72         Comedy, Romance           Harem          NaN  Komaki Manaka daydreams about classmate Kono T...      OVA       2.0          NaN                                                NaN   Chaos Project  Visual novel  28 min per ep  PG-13 - Teens 13 or older  5785.0        8548          4       2096     5637\n",
       "8039      5895  https://myanimelist.net/anime/5895/Tistou_Mido...  https://cdn.myanimelist.net/images/anime/6/688...                           Tistou Midori no Oyayubi                            Tistou the Green Thumb              チスト　みどりのおやゆび   6.51                     NaN      Historical          NaN  When eight-year-old Tistou is sent home from s...    Movie       1.0          NaN                                                NaN  Production I.G      Original    1 hr 14 min               G - All Ages  7021.0       14115          2        195     1043\n",
       "4775     52104  https://myanimelist.net/anime/52104/Boku_wa_Ch...  https://cdn.myanimelist.net/images/anime/1099/...               Boku wa Chiisana Succubus no Shimobe                                               NaN        僕は小さな淫魔〈サキュバス〉のしもべ   6.99    Supernatural, Hentai             NaN          NaN                                                NaN      OVA       2.0          NaN                                          Mary Jane  New Generation         Manga  15 min per ep                Rx - Hentai     NaN        8712         37       1946     5358\n",
       "5954     11161  https://myanimelist.net/anime/11161/Hoshizora_...  https://cdn.myanimelist.net/images/anime/10/30...  Hoshizora e Kakaru Hashi: Kakaru ka? Gakuensai...                                               NaN      星空へ架かる橋　架かるか？学園祭に恋の橋   6.79  Comedy, Romance, Ecchi          School          NaN  Shortly before the upcoming festival, a year a...  Special       1.0          NaN                                                NaN       Doga Kobo  Visual novel         26 min           R+ - Mild Nudity  5423.0        4228          6      15962    31033\n",
       "3364     57648  https://myanimelist.net/anime/57648/Nihon_e_Yo...  https://cdn.myanimelist.net/images/anime/1650/...                           Nihon e Youkoso Elf-san.                        Welcome to Japan, Ms. Elf!             日本へようこそエルフさん。   7.23         Comedy, Fantasy          Isekai          NaN  Kazuhiro Kitase's only hobby is sleeping. Ever...       TV      12.0  winter 2025  Lantis, Toei Video, Mainichi Broadcasting Syst...          Zero-G   Light novel  23 min per ep  PG-13 - Teens 13 or older  3222.0        3203        163       7277    53154"
      ]
     },
     "execution_count": 20,
     "metadata": {},
     "output_type": "execute_result"
    }
   ],
   "source": [
    "# check_anime_nulls(df_anime)\n",
    "df_anime.sample(7)"
   ]
  },
  {
   "cell_type": "markdown",
   "metadata": {},
   "source": [
    "### Column: [''premiered']:\n",
    "Separate it in 2 column for better readness, one with year and the other one with season"
   ]
  },
  {
   "cell_type": "code",
   "execution_count": 21,
   "metadata": {},
   "outputs": [
    {
     "name": "stderr",
     "output_type": "stream",
     "text": [
      "C:\\Users\\yaelp\\AppData\\Local\\Temp\\ipykernel_17668\\1700427795.py:10: FutureWarning: A value is trying to be set on a copy of a DataFrame or Series through chained assignment using an inplace method.\n",
      "The behavior will change in pandas 3.0. This inplace method will never work because the intermediate object on which we are setting values always behaves as a copy.\n",
      "\n",
      "For example, when doing 'df[col].method(value, inplace=True)', try using 'df.method({col: value}, inplace=True)' or df[col] = df[col].method(value) instead, to perform the operation inplace on the original object.\n",
      "\n",
      "\n",
      "  df_anime['premiered_season'].fillna('unknown', inplace=True)\n",
      "C:\\Users\\yaelp\\AppData\\Local\\Temp\\ipykernel_17668\\1700427795.py:11: FutureWarning: A value is trying to be set on a copy of a DataFrame or Series through chained assignment using an inplace method.\n",
      "The behavior will change in pandas 3.0. This inplace method will never work because the intermediate object on which we are setting values always behaves as a copy.\n",
      "\n",
      "For example, when doing 'df[col].method(value, inplace=True)', try using 'df.method({col: value}, inplace=True)' or df[col] = df[col].method(value) instead, to perform the operation inplace on the original object.\n",
      "\n",
      "\n",
      "  df_anime['premiered_year'].fillna('', inplace=True)\n"
     ]
    }
   ],
   "source": [
    "df_anime['premiered'].sample(5)\n",
    "\n",
    "# Extract the season only with regex and make a new column for it\n",
    "df_anime['premiered_season'] = df_anime['premiered'].str.extract(r'(?i)(spring|summer|fall|winter)')\n",
    "\n",
    "# Extract the year only and make a new column for it.\n",
    "df_anime['premiered_year'] = df_anime['premiered'].str.extract(r'(\\d{4})')\n",
    "\n",
    "# Fill missing values with 'unknown'\n",
    "df_anime['premiered_season'].fillna('unknown', inplace=True)\n",
    "df_anime['premiered_year'].fillna('', inplace=True)"
   ]
  },
  {
   "cell_type": "markdown",
   "metadata": {},
   "source": [
    "### Column: ['type']:\n",
    "\n",
    "By checking, it has sense because of the duration that the Nanit has be 'TV'."
   ]
  },
  {
   "cell_type": "code",
   "execution_count": 22,
   "metadata": {},
   "outputs": [
    {
     "name": "stderr",
     "output_type": "stream",
     "text": [
      "C:\\Users\\yaelp\\AppData\\Local\\Temp\\ipykernel_17668\\229497867.py:17: FutureWarning: A value is trying to be set on a copy of a DataFrame or Series through chained assignment using an inplace method.\n",
      "The behavior will change in pandas 3.0. This inplace method will never work because the intermediate object on which we are setting values always behaves as a copy.\n",
      "\n",
      "For example, when doing 'df[col].method(value, inplace=True)', try using 'df.method({col: value}, inplace=True)' or df[col] = df[col].method(value) instead, to perform the operation inplace on the original object.\n",
      "\n",
      "\n",
      "  df_anime['type'].fillna('TV', inplace=True)\n"
     ]
    }
   ],
   "source": [
    "# df_anime['type'].unique()\n",
    "# # --------------------------------------------------------------------------\n",
    "# df_anime['type'].isnull().sum()\n",
    "# df_anime[df_anime['type'].isin(['nan'])][['type', 'duration']].sample(5)\n",
    "# # --------------------------------------------------------------------------\n",
    "# null_type_df = df_anime[df_anime['type'].isnull()][['type', 'duration']]\n",
    "\n",
    "# if len(null_type_df) > 0:\n",
    "#     muestra_tipos_vacios = null_type_df.sample(min(5, len(null_type_df)))\n",
    "#     print(muestra_tipos_vacios)\n",
    "# else:\n",
    "#     print(\"No rows with null 'type'.\")\n",
    "# --------------------------------------------------------------------------\n",
    "# check_type_duration = df_anime[['type', 'duration']]\n",
    "# check_type_duration.describe()\n",
    "# --------------------------------------------------------------------------\n",
    "df_anime['type'].fillna('TV', inplace=True)"
   ]
  },
  {
   "cell_type": "markdown",
   "metadata": {},
   "source": [
    "### Column: ['episodes']:\n",
    "\n",
    "Since it has only a 0.71% of nulls, it will be inferred taking into account the types and using the median.\n"
   ]
  },
  {
   "cell_type": "code",
   "execution_count": 23,
   "metadata": {},
   "outputs": [
    {
     "name": "stdout",
     "output_type": "stream",
     "text": [
      "OVA: min: 1.0 max: 110.0  mean: 2.61 median: 2.0 mode: [1.0]\n",
      "______________________________________________________\n",
      "ONA: min: 1.0 max: 110.0  mean: 15.17 median: 10.0 mode: [1.0]\n"
     ]
    }
   ],
   "source": [
    "check_ona = df_anime[df_anime['type'].isin(['ONA'])][['episodes', 'type']]\n",
    "check_ova = df_anime[df_anime['type'].isin(['OVA'])][['episodes', 'type']]\n",
    "# --------------------------------------------------------------------------\n",
    "check_ona.describe()\n",
    "check_ova.describe()\n",
    "# --------------------------------------------------------------------------\n",
    "episodes_ova = df_anime[df_anime['type'] == 'OVA']['episodes'].dropna()\n",
    "if not episodes_ova.empty:\n",
    "    min_ova = episodes_ova.min()\n",
    "    max_ova = episodes_ova.max()\n",
    "    mean_ova = episodes_ova.mean().round(2)\n",
    "    median_ova = episodes_ova.median()\n",
    "    mode_ova = episodes_ova.mode().tolist()\n",
    "    print(f\"OVA: min: {min_ova} max: {max_ova}  mean: {mean_ova} median: {median_ova} mode: {mode_ova}\")\n",
    "\n",
    "print(\"___\"*18)\n",
    "\n",
    "episodes_ona = df_anime[df_anime['type'] == 'ONA']['episodes'].dropna()\n",
    "if not episodes_ova.empty:\n",
    "    min_ona = episodes_ova.min()\n",
    "    max_ona = episodes_ova.max()\n",
    "    mean_ona = episodes_ona.mean().round(2)\n",
    "    median_ona = episodes_ona.median()\n",
    "    mode_ona = episodes_ona.mode().tolist()\n",
    "    print(f\"ONA: min: {min_ona} max: {max_ona}  mean: {mean_ona} median: {median_ona} mode: {mode_ona}\")\n",
    "# --------------------------------------------------------------------------\n",
    "# Using median to fill the nulls\n",
    "\n",
    "df_anime['episodes'] = df_anime.groupby('type')['episodes'].transform(lambda x: x.fillna(x.median()))"
   ]
  },
  {
   "cell_type": "markdown",
   "metadata": {},
   "source": [
    "### Column ['']"
   ]
  },
  {
   "cell_type": "code",
   "execution_count": 24,
   "metadata": {},
   "outputs": [
    {
     "data": {
      "application/vnd.microsoft.datawrangler.viewer.v0+json": {
       "columns": [
        {
         "name": "index",
         "rawType": "int64",
         "type": "integer"
        },
        {
         "name": "themes",
         "rawType": "object",
         "type": "unknown"
        },
        {
         "name": "synopsis",
         "rawType": "object",
         "type": "string"
        },
        {
         "name": "producers",
         "rawType": "object",
         "type": "unknown"
        },
        {
         "name": "studios",
         "rawType": "object",
         "type": "unknown"
        },
        {
         "name": "source",
         "rawType": "object",
         "type": "string"
        }
       ],
       "conversionMethod": "pd.DataFrame",
       "ref": "4ca12d34-09e7-4168-9a9c-2a03331d9b09",
       "rows": [
        [
         "3902",
         "Music, Urban Fantasy",
         "The United States of America has been in chaos ever since the emergence of D2s, an invasive species originating from a black meteorite that fell to Earth. A public decree banned citizens from playing any melodies, to prevent further casualties caused by the D2s' hatred for music—even now, in 2047, this prohibition is still in effect. Humanity's only form of defense against the D2s are Musicarts, young women representing pieces of classical music; and Conductors, the ones controlling them.\n\nTakt Asahina, an aloof piano prodigy, finds himself transformed into a Conductor following a spontaneous D2 attack. The same incident kills Anna Schneider's younger sister, Cosette, and brings Takt into contact with his Musicart, Destiny. Searching for a means of stabilizing the pact between themselves, Takt and Destiny—alongside Anna—embark on a perilous journey to the Symphonica Headquarters in New York City.\n\nTakt is in a hurry to reach the city so that he can play the piano again, even though his passion attracts the creatures he has come to despise. Meanwhile, Destiny's sense of duty drags the group into trouble along the way. With a D2-infested path and many more arduous obstacles ahead of them, will the trio make it to New York City in one piece?\n\n[Written by MAL Rewrite]",
         "DeNA, Bandai Namco Arts",
         "Madhouse, MAPPA",
         "Mixed media"
        ],
        [
         "2874",
         "Music",
         "Music video for the song Obenkyou Shitoite yo by the band Zutto Mayonaka de Iinoni. (ZUTOMAYO).",
         null,
         null,
         "Original"
        ],
        [
         "4011",
         "Idols (Female), Music",
         "Movie sequel of Wake Up, Girls!, announced at Wake Up, Girls! Festa.2014 Winter.",
         "TV Tokyo, Tatsunoko Production, AT-X, TOHO, Ultra Super Pictures, DIVE II Entertainment, Good Smile Company, Avex Pictures, Lawson HMV Entertainment, Hiroshi Planning",
         "Ordet, Millepensee",
         "Original"
        ],
        [
         "11873",
         null,
         "Hello Kitty has a fight with her mom. And she discovers that even though they may get into fights, her mother has always and will always love her.",
         "Sanrio",
         null,
         "Unknown"
        ],
        [
         "1948",
         "Anthropomorphic, Educational, Medical",
         "Due to poor lifestyle choices, a certain human's body is in constant turmoil. With germs, bacteria, and foreign substances abound, the jobs of various cells become increasingly difficult and dangerous. As some of the unfortunate ones who matured in this chaotic environment, Sekkekkyuu AA2153 and Hakkekkyuu U-1196 strive to fulfill their duties—even if it means seeing many of their fellow cells lose their lives in duty.\n\nSet in an environment vastly different from its parent story, Hataraku Saibou Black portrays the cells' struggles as they try to maintain the body's health. However, the human's condition continues to deteriorate, and whether or not these efforts will amount to something concrete depends on the cells!\n\n[Written by MAL Rewrite]",
         "Aniplex, Kodansha, Studio Mausu, Tokyo MX, NetEase",
         "LIDENFILMS",
         "Manga"
        ]
       ],
       "shape": {
        "columns": 5,
        "rows": 5
       }
      },
      "text/html": [
       "<div>\n",
       "<style scoped>\n",
       "    .dataframe tbody tr th:only-of-type {\n",
       "        vertical-align: middle;\n",
       "    }\n",
       "\n",
       "    .dataframe tbody tr th {\n",
       "        vertical-align: top;\n",
       "    }\n",
       "\n",
       "    .dataframe thead th {\n",
       "        text-align: right;\n",
       "    }\n",
       "</style>\n",
       "<table border=\"1\" class=\"dataframe\">\n",
       "  <thead>\n",
       "    <tr style=\"text-align: right;\">\n",
       "      <th></th>\n",
       "      <th>themes</th>\n",
       "      <th>synopsis</th>\n",
       "      <th>producers</th>\n",
       "      <th>studios</th>\n",
       "      <th>source</th>\n",
       "    </tr>\n",
       "  </thead>\n",
       "  <tbody>\n",
       "    <tr>\n",
       "      <th>3902</th>\n",
       "      <td>Music, Urban Fantasy</td>\n",
       "      <td>The United States of America has been in chaos...</td>\n",
       "      <td>DeNA, Bandai Namco Arts</td>\n",
       "      <td>Madhouse, MAPPA</td>\n",
       "      <td>Mixed media</td>\n",
       "    </tr>\n",
       "    <tr>\n",
       "      <th>2874</th>\n",
       "      <td>Music</td>\n",
       "      <td>Music video for the song Obenkyou Shitoite yo ...</td>\n",
       "      <td>NaN</td>\n",
       "      <td>NaN</td>\n",
       "      <td>Original</td>\n",
       "    </tr>\n",
       "    <tr>\n",
       "      <th>4011</th>\n",
       "      <td>Idols (Female), Music</td>\n",
       "      <td>Movie sequel of Wake Up, Girls!, announced at ...</td>\n",
       "      <td>TV Tokyo, Tatsunoko Production, AT-X, TOHO, Ul...</td>\n",
       "      <td>Ordet, Millepensee</td>\n",
       "      <td>Original</td>\n",
       "    </tr>\n",
       "    <tr>\n",
       "      <th>11873</th>\n",
       "      <td>NaN</td>\n",
       "      <td>Hello Kitty has a fight with her mom. And she ...</td>\n",
       "      <td>Sanrio</td>\n",
       "      <td>NaN</td>\n",
       "      <td>Unknown</td>\n",
       "    </tr>\n",
       "    <tr>\n",
       "      <th>1948</th>\n",
       "      <td>Anthropomorphic, Educational, Medical</td>\n",
       "      <td>Due to poor lifestyle choices, a certain human...</td>\n",
       "      <td>Aniplex, Kodansha, Studio Mausu, Tokyo MX, Net...</td>\n",
       "      <td>LIDENFILMS</td>\n",
       "      <td>Manga</td>\n",
       "    </tr>\n",
       "  </tbody>\n",
       "</table>\n",
       "</div>"
      ],
      "text/plain": [
       "                                      themes                                           synopsis                                          producers             studios       source\n",
       "3902                    Music, Urban Fantasy  The United States of America has been in chaos...                            DeNA, Bandai Namco Arts     Madhouse, MAPPA  Mixed media\n",
       "2874                                   Music  Music video for the song Obenkyou Shitoite yo ...                                                NaN                 NaN     Original\n",
       "4011                   Idols (Female), Music  Movie sequel of Wake Up, Girls!, announced at ...  TV Tokyo, Tatsunoko Production, AT-X, TOHO, Ul...  Ordet, Millepensee     Original\n",
       "11873                                    NaN  Hello Kitty has a fight with her mom. And she ...                                             Sanrio                 NaN      Unknown\n",
       "1948   Anthropomorphic, Educational, Medical  Due to poor lifestyle choices, a certain human...  Aniplex, Kodansha, Studio Mausu, Tokyo MX, Net...          LIDENFILMS        Manga"
      ]
     },
     "execution_count": 24,
     "metadata": {},
     "output_type": "execute_result"
    }
   ],
   "source": [
    "df_anime[['themes', 'synopsis', 'producers', 'studios', 'source']].sample(5)"
   ]
  },
  {
   "cell_type": "markdown",
   "metadata": {},
   "source": [
    "### Column: ['english_name'] \n",
    "\n",
    "- First try was to use the library googletrans to translate the column from japaneses_names to english_name. Problem was with package httpx since it was not compatible with the specific version needed to different important libraries.\n",
    "- Also, due to the huge complexity of the language and the subtlety of the of titles adaptation this type of \"hard translation\" might not be the best or adecuate.\n",
    "- By checking the column [name] it has a close similarity to the column [english_name], since [name] has 0% of nulls, it will be used to imferred the [english_name] nulls.\n"
   ]
  },
  {
   "cell_type": "code",
   "execution_count": 25,
   "metadata": {},
   "outputs": [],
   "source": [
    "df_anime['english_name'] = df_anime['english_name'].fillna(df_anime['name'])"
   ]
  },
  {
   "cell_type": "markdown",
   "metadata": {},
   "source": [
    "### Column ['demographics']\n",
    "There are only 6 unique values which correspond to: \n",
    "\n",
    "- array(['Shounen', nan, 'Seinen', 'Shoujo', 'Josei', 'Kids, Shounen','Kids', 'Kids, Shoujo'], dtype=object)\n",
    "- Young boys, Adult men, Young girls, Adult women, For children\n",
    "\n",
    "Since there's a 70.60% of nulls, the column will be droped."
   ]
  },
  {
   "cell_type": "code",
   "execution_count": 26,
   "metadata": {},
   "outputs": [],
   "source": [
    "df_anime['demographics'].unique()\n",
    "df_anime.drop(columns=['demographics'], inplace=True)"
   ]
  },
  {
   "cell_type": "code",
   "execution_count": 27,
   "metadata": {},
   "outputs": [
    {
     "data": {
      "application/vnd.microsoft.datawrangler.viewer.v0+json": {
       "columns": [
        {
         "name": "index",
         "rawType": "int64",
         "type": "integer"
        },
        {
         "name": "anime_id",
         "rawType": "int64",
         "type": "integer"
        },
        {
         "name": "anime_url",
         "rawType": "object",
         "type": "string"
        },
        {
         "name": "image_url",
         "rawType": "object",
         "type": "string"
        },
        {
         "name": "name",
         "rawType": "object",
         "type": "string"
        },
        {
         "name": "english_name",
         "rawType": "object",
         "type": "string"
        },
        {
         "name": "japanese_names",
         "rawType": "object",
         "type": "string"
        },
        {
         "name": "score",
         "rawType": "float64",
         "type": "float"
        },
        {
         "name": "genres",
         "rawType": "object",
         "type": "string"
        },
        {
         "name": "themes",
         "rawType": "object",
         "type": "unknown"
        },
        {
         "name": "synopsis",
         "rawType": "object",
         "type": "unknown"
        },
        {
         "name": "type",
         "rawType": "object",
         "type": "string"
        },
        {
         "name": "episodes",
         "rawType": "float64",
         "type": "float"
        },
        {
         "name": "premiered",
         "rawType": "object",
         "type": "unknown"
        },
        {
         "name": "producers",
         "rawType": "object",
         "type": "unknown"
        },
        {
         "name": "studios",
         "rawType": "object",
         "type": "unknown"
        },
        {
         "name": "source",
         "rawType": "object",
         "type": "string"
        },
        {
         "name": "duration",
         "rawType": "object",
         "type": "string"
        },
        {
         "name": "rating",
         "rawType": "object",
         "type": "string"
        },
        {
         "name": "rank",
         "rawType": "float64",
         "type": "float"
        },
        {
         "name": "popularity",
         "rawType": "int64",
         "type": "integer"
        },
        {
         "name": "favorites",
         "rawType": "int64",
         "type": "integer"
        },
        {
         "name": "scored_by",
         "rawType": "int64",
         "type": "integer"
        },
        {
         "name": "members",
         "rawType": "int64",
         "type": "integer"
        },
        {
         "name": "premiered_season",
         "rawType": "object",
         "type": "string"
        },
        {
         "name": "premiered_year",
         "rawType": "object",
         "type": "string"
        }
       ],
       "conversionMethod": "pd.DataFrame",
       "ref": "11fa5c6b-be22-49b3-abcd-da86df36dfc6",
       "rows": [
        [
         "7844",
         "19825",
         "https://myanimelist.net/anime/19825/Saikyou_Ginga_Ultimate_Zero__Battle_Spirits",
         "https://cdn.myanimelist.net/images/anime/1462/132257.jpg",
         "Saikyou Ginga Ultimate Zero: Battle Spirits",
         "Saikyou Ginga Ultimate Zero: Battle Spirits",
         "最強銀河 究極[アルティメット]ゼロ~バトルスピリッツ~",
         "6.53",
         "Adventure",
         "Space, Strategy Game",
         "In the new, whimsical era of Battle Spirits, cards have become scattered across a colorful galaxy, enticing all \"card questers\" to duke it out in search of the strongest cards. Rei is a flamboyant wanderer who is obsessed with being on top. Accompanied by a small dragon named Mugen and a talking robot named Salt, the self-proclaimed \"Number One Star\" regularly engages in card-gaming mischief through flashy battles.\n\nOne day, Rei meets Raira and Rikuto April, both of whom seem to have clues on the whereabouts of the \"ultimate\" Battle Spirits card. Together, they embark on a quest to search for the card, clashing with many vibrant personalities along the way. Soon, their adventure catches the attention of the Guild, wily villains who are also set on obtaining the Ultimate Battle Spirits. In contending against the Guild, Rei's status as number one is put to the test—an endeavor that will slowly unveil secrets regarding the fate of the universe.\n\n[Written by MAL Rewrite]",
         "TV",
         "49.0",
         "fall 2013",
         "Asatsu DK, Nagoya Broadcasting Network",
         "Sunrise",
         "Card game",
         "23 min per ep",
         "PG - Children",
         "6918.0",
         "11147",
         "4",
         "938",
         "2502",
         "fall",
         "2013"
        ],
        [
         "7215",
         "8062",
         "https://myanimelist.net/anime/8062/Mai-HiME__Kuro_no_Mai_Saigo_no_Bansan",
         "https://cdn.myanimelist.net/images/anime/11/19697.jpg",
         "Mai-HiME: Kuro no Mai/Saigo no Bansan",
         "Mai-HiME: Kuro no Mai/Saigo no Bansan",
         "舞-HiME: 黒の舞／最後の晩餐",
         "6.62",
         "Comedy",
         null,
         "Mai invites Reito to go with her to the beach and also says that she prefers him over Tate. But little does he know, that this is actually part of a plan for revenge.",
         "Special",
         "1.0",
         null,
         null,
         "Sunrise",
         "Original",
         "4 min",
         "PG-13 - Teens 13 or older",
         "6368.0",
         "8096",
         "3",
         "2613",
         "6381",
         "unknown",
         ""
        ],
        [
         "8756",
         "52755",
         "https://myanimelist.net/anime/52755/Alita_De_Shui_Gian_Gushi",
         "https://cdn.myanimelist.net/images/anime/1640/127009.jpg",
         "Alita De Shui Gian Gushi",
         "A Bedtime Tale",
         "阿莉塔的睡前故事",
         "6.42",
         "Action, Fantasy",
         null,
         "The soul which looks up to the giant dragon originates the shadow. The light guides the young archer to finding the courage against the darkness.\n... \"We all have a shadow in our hearts.\"\nThe grandma complains that her stories are getting used up.\n\n(Source: Studio Tumble)",
         "ONA",
         "1.0",
         null,
         null,
         "Studio Tumble",
         "Original",
         "18 min",
         "PG-13 - Teens 13 or older",
         "7564.0",
         "18290",
         "1",
         "128",
         "399",
         "unknown",
         ""
        ],
        [
         "13758",
         "36166",
         "https://myanimelist.net/anime/36166/Fireball_Humorous",
         "https://cdn.myanimelist.net/images/anime/11/87385.jpg",
         "Fireball Humorous",
         "Fireball Humorous",
         "ファイアボール ユーモラス",
         "5.76",
         "Comedy, Sci-Fi",
         null,
         null,
         "TV",
         "3.0",
         "fall 2017",
         "Disney Platform Distribution",
         "Jinnis Animation Studios",
         "Original",
         "2 min per ep",
         "G - All Ages",
         "11116.0",
         "9805",
         "3",
         "1341",
         "3778",
         "fall",
         "2017"
        ],
        [
         "10885",
         "21293",
         "https://myanimelist.net/anime/21293/Sore_Ike_Anpanman__Shabondama_no_Purun",
         "https://cdn.myanimelist.net/images/anime/9/56229.jpg",
         "Sore Ike! Anpanman: Shabondama no Purun",
         "Anpanman: Purun, the Soap Bubble",
         "それいけ! アンパンマン シャボン玉のプルン",
         "6.16",
         "Comedy, Fantasy",
         null,
         "Anpanman's friends go see a bubble show performed by Shabondama-hime and her Shabondama Girls, who make exquisite bubbles by playing their flutes. One of the girls, Purun, can't make big bubbles no matter how much she rehearses. She feels inadequate as she goes to retrieve her lost flute, which Creampanda finds and goes to return. Meanwhile Baikinman takes over Shabondama-hime's castle and steals the flutes, using their power to create evil bubbles, and Purun must realize her own importance and save the day with Anpanman's help.\n\n(Source: ANN)",
         "Movie",
         "1.0",
         null,
         "VAP, Tokyo Movie Shinsha",
         null,
         "Unknown",
         "51 min",
         "PG - Children",
         "9040.0",
         "15471",
         "1",
         "205",
         "705",
         "unknown",
         ""
        ]
       ],
       "shape": {
        "columns": 25,
        "rows": 5
       }
      },
      "text/html": [
       "<div>\n",
       "<style scoped>\n",
       "    .dataframe tbody tr th:only-of-type {\n",
       "        vertical-align: middle;\n",
       "    }\n",
       "\n",
       "    .dataframe tbody tr th {\n",
       "        vertical-align: top;\n",
       "    }\n",
       "\n",
       "    .dataframe thead th {\n",
       "        text-align: right;\n",
       "    }\n",
       "</style>\n",
       "<table border=\"1\" class=\"dataframe\">\n",
       "  <thead>\n",
       "    <tr style=\"text-align: right;\">\n",
       "      <th></th>\n",
       "      <th>anime_id</th>\n",
       "      <th>anime_url</th>\n",
       "      <th>image_url</th>\n",
       "      <th>name</th>\n",
       "      <th>english_name</th>\n",
       "      <th>japanese_names</th>\n",
       "      <th>score</th>\n",
       "      <th>genres</th>\n",
       "      <th>themes</th>\n",
       "      <th>synopsis</th>\n",
       "      <th>type</th>\n",
       "      <th>episodes</th>\n",
       "      <th>premiered</th>\n",
       "      <th>producers</th>\n",
       "      <th>studios</th>\n",
       "      <th>source</th>\n",
       "      <th>duration</th>\n",
       "      <th>rating</th>\n",
       "      <th>rank</th>\n",
       "      <th>popularity</th>\n",
       "      <th>favorites</th>\n",
       "      <th>scored_by</th>\n",
       "      <th>members</th>\n",
       "      <th>premiered_season</th>\n",
       "      <th>premiered_year</th>\n",
       "    </tr>\n",
       "  </thead>\n",
       "  <tbody>\n",
       "    <tr>\n",
       "      <th>7844</th>\n",
       "      <td>19825</td>\n",
       "      <td>https://myanimelist.net/anime/19825/Saikyou_Gi...</td>\n",
       "      <td>https://cdn.myanimelist.net/images/anime/1462/...</td>\n",
       "      <td>Saikyou Ginga Ultimate Zero: Battle Spirits</td>\n",
       "      <td>Saikyou Ginga Ultimate Zero: Battle Spirits</td>\n",
       "      <td>最強銀河 究極[アルティメット]ゼロ~バトルスピリッツ~</td>\n",
       "      <td>6.53</td>\n",
       "      <td>Adventure</td>\n",
       "      <td>Space, Strategy Game</td>\n",
       "      <td>In the new, whimsical era of Battle Spirits, c...</td>\n",
       "      <td>TV</td>\n",
       "      <td>49.0</td>\n",
       "      <td>fall 2013</td>\n",
       "      <td>Asatsu DK, Nagoya Broadcasting Network</td>\n",
       "      <td>Sunrise</td>\n",
       "      <td>Card game</td>\n",
       "      <td>23 min per ep</td>\n",
       "      <td>PG - Children</td>\n",
       "      <td>6918.0</td>\n",
       "      <td>11147</td>\n",
       "      <td>4</td>\n",
       "      <td>938</td>\n",
       "      <td>2502</td>\n",
       "      <td>fall</td>\n",
       "      <td>2013</td>\n",
       "    </tr>\n",
       "    <tr>\n",
       "      <th>7215</th>\n",
       "      <td>8062</td>\n",
       "      <td>https://myanimelist.net/anime/8062/Mai-HiME__K...</td>\n",
       "      <td>https://cdn.myanimelist.net/images/anime/11/19...</td>\n",
       "      <td>Mai-HiME: Kuro no Mai/Saigo no Bansan</td>\n",
       "      <td>Mai-HiME: Kuro no Mai/Saigo no Bansan</td>\n",
       "      <td>舞-HiME: 黒の舞／最後の晩餐</td>\n",
       "      <td>6.62</td>\n",
       "      <td>Comedy</td>\n",
       "      <td>NaN</td>\n",
       "      <td>Mai invites Reito to go with her to the beach ...</td>\n",
       "      <td>Special</td>\n",
       "      <td>1.0</td>\n",
       "      <td>NaN</td>\n",
       "      <td>NaN</td>\n",
       "      <td>Sunrise</td>\n",
       "      <td>Original</td>\n",
       "      <td>4 min</td>\n",
       "      <td>PG-13 - Teens 13 or older</td>\n",
       "      <td>6368.0</td>\n",
       "      <td>8096</td>\n",
       "      <td>3</td>\n",
       "      <td>2613</td>\n",
       "      <td>6381</td>\n",
       "      <td>unknown</td>\n",
       "      <td></td>\n",
       "    </tr>\n",
       "    <tr>\n",
       "      <th>8756</th>\n",
       "      <td>52755</td>\n",
       "      <td>https://myanimelist.net/anime/52755/Alita_De_S...</td>\n",
       "      <td>https://cdn.myanimelist.net/images/anime/1640/...</td>\n",
       "      <td>Alita De Shui Gian Gushi</td>\n",
       "      <td>A Bedtime Tale</td>\n",
       "      <td>阿莉塔的睡前故事</td>\n",
       "      <td>6.42</td>\n",
       "      <td>Action, Fantasy</td>\n",
       "      <td>NaN</td>\n",
       "      <td>The soul which looks up to the giant dragon or...</td>\n",
       "      <td>ONA</td>\n",
       "      <td>1.0</td>\n",
       "      <td>NaN</td>\n",
       "      <td>NaN</td>\n",
       "      <td>Studio Tumble</td>\n",
       "      <td>Original</td>\n",
       "      <td>18 min</td>\n",
       "      <td>PG-13 - Teens 13 or older</td>\n",
       "      <td>7564.0</td>\n",
       "      <td>18290</td>\n",
       "      <td>1</td>\n",
       "      <td>128</td>\n",
       "      <td>399</td>\n",
       "      <td>unknown</td>\n",
       "      <td></td>\n",
       "    </tr>\n",
       "    <tr>\n",
       "      <th>13758</th>\n",
       "      <td>36166</td>\n",
       "      <td>https://myanimelist.net/anime/36166/Fireball_H...</td>\n",
       "      <td>https://cdn.myanimelist.net/images/anime/11/87...</td>\n",
       "      <td>Fireball Humorous</td>\n",
       "      <td>Fireball Humorous</td>\n",
       "      <td>ファイアボール ユーモラス</td>\n",
       "      <td>5.76</td>\n",
       "      <td>Comedy, Sci-Fi</td>\n",
       "      <td>NaN</td>\n",
       "      <td>NaN</td>\n",
       "      <td>TV</td>\n",
       "      <td>3.0</td>\n",
       "      <td>fall 2017</td>\n",
       "      <td>Disney Platform Distribution</td>\n",
       "      <td>Jinnis Animation Studios</td>\n",
       "      <td>Original</td>\n",
       "      <td>2 min per ep</td>\n",
       "      <td>G - All Ages</td>\n",
       "      <td>11116.0</td>\n",
       "      <td>9805</td>\n",
       "      <td>3</td>\n",
       "      <td>1341</td>\n",
       "      <td>3778</td>\n",
       "      <td>fall</td>\n",
       "      <td>2017</td>\n",
       "    </tr>\n",
       "    <tr>\n",
       "      <th>10885</th>\n",
       "      <td>21293</td>\n",
       "      <td>https://myanimelist.net/anime/21293/Sore_Ike_A...</td>\n",
       "      <td>https://cdn.myanimelist.net/images/anime/9/562...</td>\n",
       "      <td>Sore Ike! Anpanman: Shabondama no Purun</td>\n",
       "      <td>Anpanman: Purun, the Soap Bubble</td>\n",
       "      <td>それいけ! アンパンマン シャボン玉のプルン</td>\n",
       "      <td>6.16</td>\n",
       "      <td>Comedy, Fantasy</td>\n",
       "      <td>NaN</td>\n",
       "      <td>Anpanman's friends go see a bubble show perfor...</td>\n",
       "      <td>Movie</td>\n",
       "      <td>1.0</td>\n",
       "      <td>NaN</td>\n",
       "      <td>VAP, Tokyo Movie Shinsha</td>\n",
       "      <td>NaN</td>\n",
       "      <td>Unknown</td>\n",
       "      <td>51 min</td>\n",
       "      <td>PG - Children</td>\n",
       "      <td>9040.0</td>\n",
       "      <td>15471</td>\n",
       "      <td>1</td>\n",
       "      <td>205</td>\n",
       "      <td>705</td>\n",
       "      <td>unknown</td>\n",
       "      <td></td>\n",
       "    </tr>\n",
       "  </tbody>\n",
       "</table>\n",
       "</div>"
      ],
      "text/plain": [
       "       anime_id                                          anime_url                                          image_url                                         name                                 english_name                japanese_names  score           genres                themes                                           synopsis     type  episodes  premiered                               producers                   studios     source       duration                     rating     rank  popularity  favorites  scored_by  members premiered_season premiered_year\n",
       "7844      19825  https://myanimelist.net/anime/19825/Saikyou_Gi...  https://cdn.myanimelist.net/images/anime/1462/...  Saikyou Ginga Ultimate Zero: Battle Spirits  Saikyou Ginga Ultimate Zero: Battle Spirits  最強銀河 究極[アルティメット]ゼロ~バトルスピリッツ~   6.53        Adventure  Space, Strategy Game  In the new, whimsical era of Battle Spirits, c...       TV      49.0  fall 2013  Asatsu DK, Nagoya Broadcasting Network                   Sunrise  Card game  23 min per ep              PG - Children   6918.0       11147          4        938     2502             fall           2013\n",
       "7215       8062  https://myanimelist.net/anime/8062/Mai-HiME__K...  https://cdn.myanimelist.net/images/anime/11/19...        Mai-HiME: Kuro no Mai/Saigo no Bansan        Mai-HiME: Kuro no Mai/Saigo no Bansan             舞-HiME: 黒の舞／最後の晩餐   6.62           Comedy                   NaN  Mai invites Reito to go with her to the beach ...  Special       1.0        NaN                                     NaN                   Sunrise   Original          4 min  PG-13 - Teens 13 or older   6368.0        8096          3       2613     6381          unknown               \n",
       "8756      52755  https://myanimelist.net/anime/52755/Alita_De_S...  https://cdn.myanimelist.net/images/anime/1640/...                     Alita De Shui Gian Gushi                               A Bedtime Tale                      阿莉塔的睡前故事   6.42  Action, Fantasy                   NaN  The soul which looks up to the giant dragon or...      ONA       1.0        NaN                                     NaN             Studio Tumble   Original         18 min  PG-13 - Teens 13 or older   7564.0       18290          1        128      399          unknown               \n",
       "13758     36166  https://myanimelist.net/anime/36166/Fireball_H...  https://cdn.myanimelist.net/images/anime/11/87...                            Fireball Humorous                            Fireball Humorous                 ファイアボール ユーモラス   5.76   Comedy, Sci-Fi                   NaN                                                NaN       TV       3.0  fall 2017            Disney Platform Distribution  Jinnis Animation Studios   Original   2 min per ep               G - All Ages  11116.0        9805          3       1341     3778             fall           2017\n",
       "10885     21293  https://myanimelist.net/anime/21293/Sore_Ike_A...  https://cdn.myanimelist.net/images/anime/9/562...      Sore Ike! Anpanman: Shabondama no Purun             Anpanman: Purun, the Soap Bubble        それいけ! アンパンマン シャボン玉のプルン   6.16  Comedy, Fantasy                   NaN  Anpanman's friends go see a bubble show perfor...    Movie       1.0        NaN                VAP, Tokyo Movie Shinsha                       NaN    Unknown         51 min              PG - Children   9040.0       15471          1        205      705          unknown               "
      ]
     },
     "execution_count": 27,
     "metadata": {},
     "output_type": "execute_result"
    }
   ],
   "source": [
    "df_anime.sample(5)"
   ]
  },
  {
   "cell_type": "markdown",
   "metadata": {},
   "source": [
    "## Saving the dataframe"
   ]
  },
  {
   "cell_type": "code",
   "execution_count": 28,
   "metadata": {},
   "outputs": [
    {
     "name": "stdout",
     "output_type": "stream",
     "text": [
      "File succesfully saved.\n",
      "File size: 12123.37 KB\n"
     ]
    }
   ],
   "source": [
    "clean_anime_csv_path = os.path.join(data_dir, \"clean_anime.csv\")\n",
    "df_anime.to_csv(clean_anime_csv_path, index=False)\n",
    "\n",
    "\n",
    "if os.path.exists(clean_anime_csv_path):\n",
    "    print(\"File succesfully saved.\")\n",
    "    print(f\"File size: {os.path.getsize(clean_anime_csv_path) / 1024:.2f} KB\")\n",
    "else:\n",
    "    print(\"⚠️ Error while saving file.\")"
   ]
  }
 ],
 "metadata": {
  "kernelspec": {
   "display_name": ".venv",
   "language": "python",
   "name": "python3"
  },
  "language_info": {
   "codemirror_mode": {
    "name": "ipython",
    "version": 3
   },
   "file_extension": ".py",
   "mimetype": "text/x-python",
   "name": "python",
   "nbconvert_exporter": "python",
   "pygments_lexer": "ipython3",
   "version": "3.13.2"
  }
 },
 "nbformat": 4,
 "nbformat_minor": 2
}
