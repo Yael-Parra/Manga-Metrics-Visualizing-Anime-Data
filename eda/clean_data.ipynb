{
 "cells": [
  {
   "cell_type": "markdown",
   "metadata": {},
   "source": [
    "# Import libraries and Setting displays"
   ]
  },
  {
   "cell_type": "code",
   "execution_count": 1,
   "metadata": {},
   "outputs": [],
   "source": [
    "import pandas as pd\n",
    "import numpy as np\n",
    "import os\n",
    "\n",
    "import matplotlib.pyplot as plt \n",
    "import seaborn as sns"
   ]
  },
  {
   "cell_type": "code",
   "execution_count": 33,
   "metadata": {},
   "outputs": [],
   "source": [
    "pd.set_option('display.max_rows', 20) \n",
    "pd.set_option('display.max_columns', None) \n",
    "\n",
    "# pd.set_option('display.max_columns', None)  # Show all columns\n",
    "# pd.set_option('display.max_rows', None)     # Show all rows\n",
    "# pd.set_option('display.max_colwidth', None) # Show entire content of each column\n",
    "pd.set_option('display.width', None)        # No limit on display width\n",
    "pd.set_option('display.expand_frame_repr', False)  # Prevent wrapping"
   ]
  },
  {
   "cell_type": "markdown",
   "metadata": {},
   "source": [
    "# Opening file and creating dataframe"
   ]
  },
  {
   "cell_type": "code",
   "execution_count": 35,
   "metadata": {},
   "outputs": [
    {
     "data": {
      "application/vnd.microsoft.datawrangler.viewer.v0+json": {
       "columns": [
        {
         "name": "index",
         "rawType": "int64",
         "type": "integer"
        },
        {
         "name": "anime_id",
         "rawType": "int64",
         "type": "integer"
        },
        {
         "name": "anime_url",
         "rawType": "object",
         "type": "string"
        },
        {
         "name": "image_url",
         "rawType": "object",
         "type": "string"
        },
        {
         "name": "name",
         "rawType": "object",
         "type": "string"
        },
        {
         "name": "english_name",
         "rawType": "object",
         "type": "unknown"
        },
        {
         "name": "japanese_names",
         "rawType": "object",
         "type": "string"
        },
        {
         "name": "score",
         "rawType": "float64",
         "type": "float"
        },
        {
         "name": "genres",
         "rawType": "object",
         "type": "string"
        },
        {
         "name": "themes",
         "rawType": "object",
         "type": "unknown"
        },
        {
         "name": "demographics",
         "rawType": "object",
         "type": "unknown"
        },
        {
         "name": "synopsis",
         "rawType": "object",
         "type": "unknown"
        },
        {
         "name": "type",
         "rawType": "object",
         "type": "string"
        },
        {
         "name": "episodes",
         "rawType": "float64",
         "type": "float"
        },
        {
         "name": "premiered",
         "rawType": "object",
         "type": "unknown"
        },
        {
         "name": "producers",
         "rawType": "object",
         "type": "unknown"
        },
        {
         "name": "studios",
         "rawType": "object",
         "type": "string"
        },
        {
         "name": "source",
         "rawType": "object",
         "type": "string"
        },
        {
         "name": "duration",
         "rawType": "object",
         "type": "string"
        },
        {
         "name": "rating",
         "rawType": "object",
         "type": "string"
        },
        {
         "name": "rank",
         "rawType": "float64",
         "type": "float"
        },
        {
         "name": "popularity",
         "rawType": "int64",
         "type": "integer"
        },
        {
         "name": "favorites",
         "rawType": "int64",
         "type": "integer"
        },
        {
         "name": "scored_by",
         "rawType": "int64",
         "type": "integer"
        },
        {
         "name": "members",
         "rawType": "int64",
         "type": "integer"
        }
       ],
       "conversionMethod": "pd.DataFrame",
       "ref": "17ce0fb4-0078-429b-bcfc-b256344c1204",
       "rows": [
        [
         "2253",
         "587",
         "https://myanimelist.net/anime/587/Hanbun_no_Tsuki_ga_Noboru_Sora",
         "https://cdn.myanimelist.net/images/anime/10/75201.jpg",
         "Hanbun no Tsuki ga Noboru Sora",
         "Looking Up At The Half-Moon",
         "半分の月がのぼる空",
         "7.45",
         "Drama, Romance",
         null,
         null,
         "After contracting hepatitis A, Ezaki Yuuichi has been confined to a hospital, away from his friends and family, much to his displeasure. To relieve his boredom, he has taken to sneaking out of the hospital, usually putting himself on the receiving end of a beating from his nurse. Upon meeting a girl his age also staying in the hospital, he is immediately captivated by her beauty. Akiba Rika's personality is not quite as captivating as her beauty however. In fact, she is rather selfish, moody, and bossy. But as the two spend more time with each other, they become closer, sharing the ordinary joys and trials of a budding teenage romance, even when darkened with impending tragedy—for Rika's condition does not leave her much longer to live.\n\n[Written by MAL Rewrite]",
         "TV",
         "6.0",
         "winter 2006",
         "Pony Canyon, Dream Force",
         "Group TAC",
         "Light novel",
         "24 min per ep",
         "PG-13 - Teens 13 or older",
         "2180.0",
         "2178",
         "494",
         "49559",
         "102947"
        ],
        [
         "2773",
         "1010",
         "https://myanimelist.net/anime/1010/Ranma_½__Chou_Musabetsu_Kessen_Ranma_Team_vs_Densetsu_no_Houou",
         "https://cdn.myanimelist.net/images/anime/1985/107722.jpg",
         "Ranma ½: Chou Musabetsu Kessen! Ranma Team vs. Densetsu no Houou",
         "Ranma ½: Team Ranma vs. The Legendary Phoenix",
         "らんま１／２ 超無差別決戦！ 乱馬チームVS伝説の鳳凰",
         "7.34",
         "Action, Adventure, Comedy, Supernatural",
         "Martial Arts",
         "Shounen",
         "Kuno purchases a strange egg, believing that the mysterious powers of the legendary Phoenix will help him defeat Ranma. But when the egg hatches on his head, the bird goes out of control and wreaks havoc all over Tokyo. Ranma and the gang must use any means necessary to get the Phoenix to leave Kuno's head and fly away.\n\n(Source: ANN)",
         "Movie",
         "1.0",
         null,
         "Fuji TV",
         "Studio Deen",
         "Manga",
         "31 min",
         "PG-13 - Teens 13 or older",
         "2630.0",
         "5342",
         "7",
         "8794",
         "18064"
        ],
        [
         "6057",
         "58272",
         "https://myanimelist.net/anime/58272/Boku_no_Tsuma_wa_Kanjou_ga_Nai",
         "https://cdn.myanimelist.net/images/anime/1101/143646.jpg",
         "Boku no Tsuma wa Kanjou ga Nai",
         "My Wife Has No Emotion",
         "僕の妻は感情がない",
         "6.77",
         "Comedy, Romance, Sci-Fi",
         null,
         "Seinen",
         "Takuma Kosugi is an office worker who does not have enough time to take care of everything at home. To make his daily life easier, he purchases a secondhand housekeeping robot named Mina, who quickly proves her worth. One day, after returning from work and having one too many beers, Takuma somewhat jokingly blurts out that she should become his wife! Much to his surprise, Mina takes his words seriously, and the two gradually begin living as if they are married.\n\nAs the days go by, Takuma and Mina grow closer and start doing more activities together, like going on a picnic and spending a day at the beach. However, much of society still considers human-robot relationships unusual. The couple must figure out if their arrangement can succeed and how to convince the people around them of their sincerity.\n\n[Written by MAL Rewrite]",
         "TV",
         "12.0",
         "summer 2024",
         "TMS Entertainment, Mainichi Broadcasting System, Half H.P Studio, Nikkatsu, 81 Produce, Tokyo MX, RAY, Nichion, Kadokawa, BS Asahi",
         "Tezuka Productions",
         "Manga",
         "23 min per ep",
         "PG-13 - Teens 13 or older",
         "5479.0",
         "3072",
         "219",
         "21378",
         "57674"
        ],
        [
         "3267",
         "4618",
         "https://myanimelist.net/anime/4618/RideBack",
         "https://cdn.myanimelist.net/images/anime/1834/133855.jpg",
         "RideBack",
         "Ride Back",
         "ライドバック",
         "7.25",
         "Action, Drama, Sci-Fi",
         "Mecha, School",
         "Seinen",
         "In the future, an organization called the GGP has taken control of the world. Rin Ogata was a promising up-and-coming ballet dancer, but suffered a serious injury while dancing and decided to quit. Years later in college, she comes across a club building and soon finds herself intrigued by a transforming motorcycle-like robotic vehicle called a \"Rideback\". She soon finds that her unique ballet skills with balance and finesse make her a born natural on a Rideback. However, those same skills also get her into serious trouble with the government.\n\n(Source: Wikipedia)",
         "TV",
         "12.0",
         "winter 2009",
         null,
         "Madhouse",
         "Manga",
         "24 min per ep",
         "PG-13 - Teens 13 or older",
         "3094.0",
         "3338",
         "133",
         "21570",
         "49449"
        ],
        [
         "9312",
         "52244",
         "https://myanimelist.net/anime/52244/Korashime_2__Kyouikuteki_Depaga_Shidou",
         "https://cdn.myanimelist.net/images/anime/1133/124928.jpg",
         "Korashime 2: Kyouikuteki Depaga Shidou",
         null,
         "懲らしめ2～狂育的デパガ指導～",
         "6.35",
         "Hentai",
         null,
         null,
         null,
         "OVA",
         "4.0",
         null,
         null,
         "PoRO",
         "Visual novel",
         "24 min per ep",
         "Rx - Hentai",
         null,
         "10200",
         "7",
         "1022",
         "3325"
        ]
       ],
       "shape": {
        "columns": 24,
        "rows": 5
       }
      },
      "text/html": [
       "<div>\n",
       "<style scoped>\n",
       "    .dataframe tbody tr th:only-of-type {\n",
       "        vertical-align: middle;\n",
       "    }\n",
       "\n",
       "    .dataframe tbody tr th {\n",
       "        vertical-align: top;\n",
       "    }\n",
       "\n",
       "    .dataframe thead th {\n",
       "        text-align: right;\n",
       "    }\n",
       "</style>\n",
       "<table border=\"1\" class=\"dataframe\">\n",
       "  <thead>\n",
       "    <tr style=\"text-align: right;\">\n",
       "      <th></th>\n",
       "      <th>anime_id</th>\n",
       "      <th>anime_url</th>\n",
       "      <th>image_url</th>\n",
       "      <th>name</th>\n",
       "      <th>english_name</th>\n",
       "      <th>japanese_names</th>\n",
       "      <th>score</th>\n",
       "      <th>genres</th>\n",
       "      <th>themes</th>\n",
       "      <th>demographics</th>\n",
       "      <th>synopsis</th>\n",
       "      <th>type</th>\n",
       "      <th>episodes</th>\n",
       "      <th>premiered</th>\n",
       "      <th>producers</th>\n",
       "      <th>studios</th>\n",
       "      <th>source</th>\n",
       "      <th>duration</th>\n",
       "      <th>rating</th>\n",
       "      <th>rank</th>\n",
       "      <th>popularity</th>\n",
       "      <th>favorites</th>\n",
       "      <th>scored_by</th>\n",
       "      <th>members</th>\n",
       "    </tr>\n",
       "  </thead>\n",
       "  <tbody>\n",
       "    <tr>\n",
       "      <th>2253</th>\n",
       "      <td>587</td>\n",
       "      <td>https://myanimelist.net/anime/587/Hanbun_no_Ts...</td>\n",
       "      <td>https://cdn.myanimelist.net/images/anime/10/75...</td>\n",
       "      <td>Hanbun no Tsuki ga Noboru Sora</td>\n",
       "      <td>Looking Up At The Half-Moon</td>\n",
       "      <td>半分の月がのぼる空</td>\n",
       "      <td>7.45</td>\n",
       "      <td>Drama, Romance</td>\n",
       "      <td>NaN</td>\n",
       "      <td>NaN</td>\n",
       "      <td>After contracting hepatitis A, Ezaki Yuuichi h...</td>\n",
       "      <td>TV</td>\n",
       "      <td>6.0</td>\n",
       "      <td>winter 2006</td>\n",
       "      <td>Pony Canyon, Dream Force</td>\n",
       "      <td>Group TAC</td>\n",
       "      <td>Light novel</td>\n",
       "      <td>24 min per ep</td>\n",
       "      <td>PG-13 - Teens 13 or older</td>\n",
       "      <td>2180.0</td>\n",
       "      <td>2178</td>\n",
       "      <td>494</td>\n",
       "      <td>49559</td>\n",
       "      <td>102947</td>\n",
       "    </tr>\n",
       "    <tr>\n",
       "      <th>2773</th>\n",
       "      <td>1010</td>\n",
       "      <td>https://myanimelist.net/anime/1010/Ranma_½__Ch...</td>\n",
       "      <td>https://cdn.myanimelist.net/images/anime/1985/...</td>\n",
       "      <td>Ranma ½: Chou Musabetsu Kessen! Ranma Team vs....</td>\n",
       "      <td>Ranma ½: Team Ranma vs. The Legendary Phoenix</td>\n",
       "      <td>らんま１／２ 超無差別決戦！ 乱馬チームVS伝説の鳳凰</td>\n",
       "      <td>7.34</td>\n",
       "      <td>Action, Adventure, Comedy, Supernatural</td>\n",
       "      <td>Martial Arts</td>\n",
       "      <td>Shounen</td>\n",
       "      <td>Kuno purchases a strange egg, believing that t...</td>\n",
       "      <td>Movie</td>\n",
       "      <td>1.0</td>\n",
       "      <td>NaN</td>\n",
       "      <td>Fuji TV</td>\n",
       "      <td>Studio Deen</td>\n",
       "      <td>Manga</td>\n",
       "      <td>31 min</td>\n",
       "      <td>PG-13 - Teens 13 or older</td>\n",
       "      <td>2630.0</td>\n",
       "      <td>5342</td>\n",
       "      <td>7</td>\n",
       "      <td>8794</td>\n",
       "      <td>18064</td>\n",
       "    </tr>\n",
       "    <tr>\n",
       "      <th>6057</th>\n",
       "      <td>58272</td>\n",
       "      <td>https://myanimelist.net/anime/58272/Boku_no_Ts...</td>\n",
       "      <td>https://cdn.myanimelist.net/images/anime/1101/...</td>\n",
       "      <td>Boku no Tsuma wa Kanjou ga Nai</td>\n",
       "      <td>My Wife Has No Emotion</td>\n",
       "      <td>僕の妻は感情がない</td>\n",
       "      <td>6.77</td>\n",
       "      <td>Comedy, Romance, Sci-Fi</td>\n",
       "      <td>NaN</td>\n",
       "      <td>Seinen</td>\n",
       "      <td>Takuma Kosugi is an office worker who does not...</td>\n",
       "      <td>TV</td>\n",
       "      <td>12.0</td>\n",
       "      <td>summer 2024</td>\n",
       "      <td>TMS Entertainment, Mainichi Broadcasting Syste...</td>\n",
       "      <td>Tezuka Productions</td>\n",
       "      <td>Manga</td>\n",
       "      <td>23 min per ep</td>\n",
       "      <td>PG-13 - Teens 13 or older</td>\n",
       "      <td>5479.0</td>\n",
       "      <td>3072</td>\n",
       "      <td>219</td>\n",
       "      <td>21378</td>\n",
       "      <td>57674</td>\n",
       "    </tr>\n",
       "    <tr>\n",
       "      <th>3267</th>\n",
       "      <td>4618</td>\n",
       "      <td>https://myanimelist.net/anime/4618/RideBack</td>\n",
       "      <td>https://cdn.myanimelist.net/images/anime/1834/...</td>\n",
       "      <td>RideBack</td>\n",
       "      <td>Ride Back</td>\n",
       "      <td>ライドバック</td>\n",
       "      <td>7.25</td>\n",
       "      <td>Action, Drama, Sci-Fi</td>\n",
       "      <td>Mecha, School</td>\n",
       "      <td>Seinen</td>\n",
       "      <td>In the future, an organization called the GGP ...</td>\n",
       "      <td>TV</td>\n",
       "      <td>12.0</td>\n",
       "      <td>winter 2009</td>\n",
       "      <td>NaN</td>\n",
       "      <td>Madhouse</td>\n",
       "      <td>Manga</td>\n",
       "      <td>24 min per ep</td>\n",
       "      <td>PG-13 - Teens 13 or older</td>\n",
       "      <td>3094.0</td>\n",
       "      <td>3338</td>\n",
       "      <td>133</td>\n",
       "      <td>21570</td>\n",
       "      <td>49449</td>\n",
       "    </tr>\n",
       "    <tr>\n",
       "      <th>9312</th>\n",
       "      <td>52244</td>\n",
       "      <td>https://myanimelist.net/anime/52244/Korashime_...</td>\n",
       "      <td>https://cdn.myanimelist.net/images/anime/1133/...</td>\n",
       "      <td>Korashime 2: Kyouikuteki Depaga Shidou</td>\n",
       "      <td>NaN</td>\n",
       "      <td>懲らしめ2～狂育的デパガ指導～</td>\n",
       "      <td>6.35</td>\n",
       "      <td>Hentai</td>\n",
       "      <td>NaN</td>\n",
       "      <td>NaN</td>\n",
       "      <td>NaN</td>\n",
       "      <td>OVA</td>\n",
       "      <td>4.0</td>\n",
       "      <td>NaN</td>\n",
       "      <td>NaN</td>\n",
       "      <td>PoRO</td>\n",
       "      <td>Visual novel</td>\n",
       "      <td>24 min per ep</td>\n",
       "      <td>Rx - Hentai</td>\n",
       "      <td>NaN</td>\n",
       "      <td>10200</td>\n",
       "      <td>7</td>\n",
       "      <td>1022</td>\n",
       "      <td>3325</td>\n",
       "    </tr>\n",
       "  </tbody>\n",
       "</table>\n",
       "</div>"
      ],
      "text/plain": [
       "      anime_id                                          anime_url                                          image_url                                               name                                   english_name               japanese_names  score                                   genres         themes demographics                                           synopsis   type  episodes    premiered                                          producers             studios        source       duration                     rating    rank  popularity  favorites  scored_by  members\n",
       "2253       587  https://myanimelist.net/anime/587/Hanbun_no_Ts...  https://cdn.myanimelist.net/images/anime/10/75...                     Hanbun no Tsuki ga Noboru Sora                    Looking Up At The Half-Moon                    半分の月がのぼる空   7.45                           Drama, Romance            NaN          NaN  After contracting hepatitis A, Ezaki Yuuichi h...     TV       6.0  winter 2006                           Pony Canyon, Dream Force           Group TAC   Light novel  24 min per ep  PG-13 - Teens 13 or older  2180.0        2178        494      49559   102947\n",
       "2773      1010  https://myanimelist.net/anime/1010/Ranma_½__Ch...  https://cdn.myanimelist.net/images/anime/1985/...  Ranma ½: Chou Musabetsu Kessen! Ranma Team vs....  Ranma ½: Team Ranma vs. The Legendary Phoenix  らんま１／２ 超無差別決戦！ 乱馬チームVS伝説の鳳凰   7.34  Action, Adventure, Comedy, Supernatural   Martial Arts      Shounen  Kuno purchases a strange egg, believing that t...  Movie       1.0          NaN                                            Fuji TV         Studio Deen         Manga         31 min  PG-13 - Teens 13 or older  2630.0        5342          7       8794    18064\n",
       "6057     58272  https://myanimelist.net/anime/58272/Boku_no_Ts...  https://cdn.myanimelist.net/images/anime/1101/...                     Boku no Tsuma wa Kanjou ga Nai                         My Wife Has No Emotion                    僕の妻は感情がない   6.77                  Comedy, Romance, Sci-Fi            NaN       Seinen  Takuma Kosugi is an office worker who does not...     TV      12.0  summer 2024  TMS Entertainment, Mainichi Broadcasting Syste...  Tezuka Productions         Manga  23 min per ep  PG-13 - Teens 13 or older  5479.0        3072        219      21378    57674\n",
       "3267      4618        https://myanimelist.net/anime/4618/RideBack  https://cdn.myanimelist.net/images/anime/1834/...                                           RideBack                                      Ride Back                       ライドバック   7.25                    Action, Drama, Sci-Fi  Mecha, School       Seinen  In the future, an organization called the GGP ...     TV      12.0  winter 2009                                                NaN            Madhouse         Manga  24 min per ep  PG-13 - Teens 13 or older  3094.0        3338        133      21570    49449\n",
       "9312     52244  https://myanimelist.net/anime/52244/Korashime_...  https://cdn.myanimelist.net/images/anime/1133/...             Korashime 2: Kyouikuteki Depaga Shidou                                            NaN              懲らしめ2～狂育的デパガ指導～   6.35                                   Hentai            NaN          NaN                                                NaN    OVA       4.0          NaN                                                NaN                PoRO  Visual novel  24 min per ep                Rx - Hentai     NaN       10200          7       1022     3325"
      ]
     },
     "execution_count": 35,
     "metadata": {},
     "output_type": "execute_result"
    }
   ],
   "source": [
    "# Setting paths\n",
    "current_dir = os.getcwd()  # Use os.getcwd() to get the current working directory\n",
    "parent_dir = os.path.dirname(current_dir)\n",
    "data_dir = os.path.join(parent_dir, \"data\")\n",
    "file_path = os.path.join(data_dir, \"\")\n",
    "\n",
    "top_anime_dataset_v2_csv_path = os.path.join(data_dir, \"top_anime_dataset_v2.csv\")\n",
    "#----------------------------------------------------------------------------------------------------\n",
    "# Creating dataframes\n",
    "df_anime = pd.read_csv(top_anime_dataset_v2_csv_path)\n",
    "\n",
    "df_anime.sample(5)"
   ]
  },
  {
   "cell_type": "markdown",
   "metadata": {},
   "source": [
    "# Seeking for nulls"
   ]
  },
  {
   "cell_type": "code",
   "execution_count": 32,
   "metadata": {},
   "outputs": [
    {
     "data": {
      "text/plain": [
       "['anime_url',\n",
       " 'image_url',\n",
       " 'name',\n",
       " 'english_name',\n",
       " 'japanese_names',\n",
       " 'score',\n",
       " 'genres',\n",
       " 'themes',\n",
       " 'demographics',\n",
       " 'synopsis',\n",
       " 'type',\n",
       " 'episodes',\n",
       " 'premiered',\n",
       " 'producers',\n",
       " 'studios',\n",
       " 'source',\n",
       " 'duration',\n",
       " 'rating',\n",
       " 'rank',\n",
       " 'popularity',\n",
       " 'favorites',\n",
       " 'scored_by',\n",
       " 'members']"
      ]
     },
     "execution_count": 32,
     "metadata": {},
     "output_type": "execute_result"
    }
   ],
   "source": [
    "df_anime.columns.to_list()"
   ]
  },
  {
   "cell_type": "code",
   "execution_count": 36,
   "metadata": {},
   "outputs": [
    {
     "name": "stdout",
     "output_type": "stream",
     "text": [
      "Qty of rows: (15000)\n",
      "              Null Count  Null %\n",
      "anime_id               0    0.00\n",
      "anime_url              0    0.00\n",
      "image_url              0    0.00\n",
      "name                   0    0.00\n",
      "english_name        6642   44.28\n",
      "...                  ...     ...\n",
      "rank                3080   20.53\n",
      "popularity             0    0.00\n",
      "favorites              0    0.00\n",
      "scored_by              0    0.00\n",
      "members                0    0.00\n",
      "\n",
      "[24 rows x 2 columns]\n"
     ]
    }
   ],
   "source": [
    "def check_anime_nulls(df_anime):\n",
    "    \"\"\"\n",
    "    Prints the null count and percentage for each column in df_anime.\n",
    "    \"\"\"\n",
    "    nulls = df_anime.isnull().sum()\n",
    "    null_percentage = (nulls / len(df_anime) * 100).round(2)\n",
    "    null_report = pd.DataFrame({'Null Count': nulls, 'Null %': null_percentage})\n",
    "    print(f\"Qty of rows: ({len(df_anime)})\")\n",
    "    print(null_report)\n",
    "\n",
    "\n",
    "check_anime_nulls(df_anime)"
   ]
  },
  {
   "cell_type": "markdown",
   "metadata": {},
   "source": [
    "# Looking for Duplicate values"
   ]
  },
  {
   "cell_type": "code",
   "execution_count": 38,
   "metadata": {},
   "outputs": [
    {
     "name": "stdout",
     "output_type": "stream",
     "text": [
      "Duplicates (68):\n",
      "       anime_id                                          anime_url                                          image_url                                               name                                    english_name                         japanese_names  score                                             genres                    themes demographics                                           synopsis   type  episodes    premiered             producers                             studios    source       duration                          rating     rank  popularity  favorites  scored_by  members\n",
      "30        59571  https://myanimelist.net/anime/59571/Shingeki_n...  https://cdn.myanimelist.net/images/anime/1379/...  Shingeki no Kyojin Movie: Kanketsu-hen - The L...                Attack on Titan: The Last Attack          劇場版 進撃の巨人 完結編 THE LAST ATTACK   8.81                            Action, Drama, Suspense  Gore, Military, Survival      Shounen  A compilation movie for Shingeki no Kyojin: Th...  Movie       1.0          NaN           Pony Canyon                               MAPPA     Manga    2 hr 25 min  R - 17+ (violence & profanity)     32.0        4169        220       5737    32307\n",
      "31        59571  https://myanimelist.net/anime/59571/Shingeki_n...  https://cdn.myanimelist.net/images/anime/1379/...  Shingeki no Kyojin Movie: Kanketsu-hen - The L...                Attack on Titan: The Last Attack          劇場版 進撃の巨人 完結編 THE LAST ATTACK   8.81                            Action, Drama, Suspense  Gore, Military, Survival      Shounen  A compilation movie for Shingeki no Kyojin: Th...  Movie       1.0          NaN           Pony Canyon                               MAPPA     Manga    2 hr 25 min  R - 17+ (violence & profanity)     32.0        4169        220       5737    32307\n",
      "360       60108  https://myanimelist.net/anime/60108/One_Piece_...  https://cdn.myanimelist.net/images/anime/1928/...                          One Piece: Gyojin Tou-hen             One Piece Log: Fish-Man Island Saga  SPECIAL EDITED VERSION『ONE PIECE』魚人島編   8.23                         Action, Adventure, Fantasy                       NaN      Shounen  Two years after the Summit War, Monkey D. Luff...     TV      21.0    fall 2024                   NaN                      Toei Animation     Manga  23 min per ep       PG-13 - Teens 13 or older    362.0        4176        144       5830    32042\n",
      "361       60108  https://myanimelist.net/anime/60108/One_Piece_...  https://cdn.myanimelist.net/images/anime/1928/...                          One Piece: Gyojin Tou-hen             One Piece Log: Fish-Man Island Saga  SPECIAL EDITED VERSION『ONE PIECE』魚人島編   8.23                         Action, Adventure, Fantasy                       NaN      Shounen  Two years after the Summit War, Monkey D. Luff...     TV      21.0    fall 2024                   NaN                      Toei Animation     Manga  23 min per ep       PG-13 - Teens 13 or older    362.0        4176        144       5830    32042\n",
      "488       59150  https://myanimelist.net/anime/59150/Wu_Liuqi__...  https://cdn.myanimelist.net/images/anime/1126/...                             Wu Liuqi: Jiyi Suipian              Scissor Seven: Fragments of Memory                               伍六七之记忆碎片   8.13  Action, Adventure, Comedy, Drama, Mystery, Sci...                       NaN          NaN  In order to find his cherished partner, Wu Liu...    ONA      10.0          NaN                   NaN  Sharefun Studio, AHA Entertainment  Original  15 min per ep  R - 17+ (violence & profanity)    486.0        6917         42       2142     9459\n",
      "...         ...                                                ...                                                ...                                                ...                                             ...                                    ...    ...                                                ...                       ...          ...                                                ...    ...       ...          ...                   ...                                 ...       ...            ...                             ...      ...         ...        ...        ...      ...\n",
      "10442     59523  https://myanimelist.net/anime/59523/Mazome_Soa...  https://cdn.myanimelist.net/images/anime/1117/...                           Mazome Soap de Aimashou!                                             NaN                        マゾメスソープで逢いましょう!   6.21                                             Hentai                       NaN          NaN  Mitsurugi and Nagihara, the new employees at t...    OVA       2.0          NaN  Queen Bee, Mediabank                          Blue bread     Manga  20 min per ep                     Rx - Hentai      NaN       12358          5        488     1721\n",
      "13323     60425  https://myanimelist.net/anime/60425/0-saiji_St...  https://cdn.myanimelist.net/images/anime/1477/...             0-saiji Start Dash Monogatari Season 2  0 Years Old Child Starting Dash Story Season 2                    0歳児スタートダッシュ物語 シーズン2   5.82                                 Adventure, Fantasy     Isekai, Reincarnation          NaN  After reincarnating from her previous life as ...     TV       NaN  winter 2025                   NaN                                 NaN     Manga          4 min       PG-13 - Teens 13 or older  10808.0       10792          8        175     2793\n",
      "13324     60425  https://myanimelist.net/anime/60425/0-saiji_St...  https://cdn.myanimelist.net/images/anime/1477/...             0-saiji Start Dash Monogatari Season 2  0 Years Old Child Starting Dash Story Season 2                    0歳児スタートダッシュ物語 シーズン2   5.82                                 Adventure, Fantasy     Isekai, Reincarnation          NaN  After reincarnating from her previous life as ...     TV       NaN  winter 2025                   NaN                                 NaN     Manga          4 min       PG-13 - Teens 13 or older  10808.0       10792          8        175     2793\n",
      "13992     58873  https://myanimelist.net/anime/58873/Mark_Your_...  https://cdn.myanimelist.net/images/anime/1558/...                       Mark Your Kiss The Animation                                             NaN         MARK YOUR KISS ~The Animation~   5.72                                             Hentai                       NaN          NaN                                                NaN    ONA       1.0          NaN                   NaN                                 NaN     Manga         12 min                     Rx - Hentai      NaN       16873          5        164      518\n",
      "13993     58873  https://myanimelist.net/anime/58873/Mark_Your_...  https://cdn.myanimelist.net/images/anime/1558/...                       Mark Your Kiss The Animation                                             NaN         MARK YOUR KISS ~The Animation~   5.72                                             Hentai                       NaN          NaN                                                NaN    ONA       1.0          NaN                   NaN                                 NaN     Manga         12 min                     Rx - Hentai      NaN       16873          5        164      518\n",
      "\n",
      "[68 rows x 24 columns]\n"
     ]
    }
   ],
   "source": [
    "def check_duplicates(df, subset=None):\n",
    "    dups = df[df.duplicated(subset=subset, keep=False)]\n",
    "    print(f\"Duplicates ({len(dups)}):\\n{dups}\" if not dups.empty else \"No duplicates found.\")\n",
    "\n",
    "check_duplicates(df_anime) "
   ]
  },
  {
   "cell_type": "code",
   "execution_count": 47,
   "metadata": {},
   "outputs": [],
   "source": [
    "# Very quick check for more accuracy\n",
    "df_anime['concat'] = df_anime['anime_id'].astype(str) + '_' + df_anime['name'].astype(str) + '_' + df_anime['popularity'].astype(str)\n",
    "\n",
    "len(df_anime) # 15000\n",
    "df_anime['concat'].nunique() # 14966\n",
    "\n",
    "df_anime.drop('concat', axis=1, inplace=True)"
   ]
  },
  {
   "cell_type": "markdown",
   "metadata": {},
   "source": [
    "## Droping duplicates "
   ]
  },
  {
   "cell_type": "code",
   "execution_count": 51,
   "metadata": {},
   "outputs": [
    {
     "data": {
      "text/plain": [
       "14966"
      ]
     },
     "execution_count": 51,
     "metadata": {},
     "output_type": "execute_result"
    }
   ],
   "source": [
    "def drop_duplicates(df, subset=None, inplace=False):\n",
    "    df.drop_duplicates(subset=subset, keep='first', inplace=inplace)\n",
    "    if not inplace:\n",
    "        return df\n",
    "\n",
    "drop_duplicates(df_anime, inplace=True)\n",
    "len(df_anime)"
   ]
  }
 ],
 "metadata": {
  "kernelspec": {
   "display_name": ".venv",
   "language": "python",
   "name": "python3"
  },
  "language_info": {
   "codemirror_mode": {
    "name": "ipython",
    "version": 3
   },
   "file_extension": ".py",
   "mimetype": "text/x-python",
   "name": "python",
   "nbconvert_exporter": "python",
   "pygments_lexer": "ipython3",
   "version": "3.13.2"
  }
 },
 "nbformat": 4,
 "nbformat_minor": 2
}
